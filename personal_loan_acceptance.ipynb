{
 "cells": [
  {
   "cell_type": "markdown",
   "id": "363d5dc6-8a54-4d0e-beda-5bc863cadb7f",
   "metadata": {},
   "source": [
    "# K-NN Classifier - Personal Loan Acceptance"
   ]
  },
  {
   "cell_type": "markdown",
   "id": "299a9da4-f4ca-4583-bffc-9f624152488d",
   "metadata": {},
   "source": [
    "This program is a solution to the problem 7.2 of chapter 7 of following book. \n",
    "\n",
    "Data Mining for Business Analytics: Concepts, Techniques, and Applications in Python, First Edition.\n",
    "\n",
    "Galit Shmueli, Peter C. Bruce, Peter Gedeck, and Nitin R. Patel\n",
    "\n",
    "© 2020 John Wiley & Sons, Inc. Published 2020 by John Wiley & Sons, Inc."
   ]
  },
  {
   "cell_type": "markdown",
   "id": "8795e92d-7163-49d4-a49c-22568e1ca3e0",
   "metadata": {},
   "source": [
    "## Importing Libraries"
   ]
  },
  {
   "cell_type": "code",
   "execution_count": 266,
   "id": "7a47dbfb-dba3-41ad-861a-329ed7a8a6c8",
   "metadata": {},
   "outputs": [],
   "source": [
    "import numpy as np\n",
    "import pandas as pd\n",
    "\n",
    "import sklearn as skl\n",
    "from sklearn.model_selection import train_test_split\n",
    "from sklearn import preprocessing\n",
    "from sklearn.neighbors import NearestNeighbors, KNeighborsClassifier\n",
    "from sklearn.metrics import accuracy_score, confusion_matrix\n",
    "\n",
    "import matplotlib as mpl\n",
    "import matplotlib.pyplot as plt"
   ]
  },
  {
   "cell_type": "markdown",
   "id": "bb72d28c-09e8-41e8-9181-e22ff8bd1b7e",
   "metadata": {},
   "source": [
    "Printing versions of libraries"
   ]
  },
  {
   "cell_type": "code",
   "execution_count": 267,
   "id": "85bd10a7-d79e-4a9e-85b6-f4c22afc327d",
   "metadata": {},
   "outputs": [
    {
     "name": "stdout",
     "output_type": "stream",
     "text": [
      "numpy version: 1.23.5\n",
      "pandas version: 1.5.3\n",
      "sklearn version: 1.2.1\n",
      "matplotlib version: 3.7.0\n"
     ]
    }
   ],
   "source": [
    "print('numpy version: {}'.format(np.__version__))\n",
    "print('pandas version: {}'.format(pd.__version__))\n",
    "print('sklearn version: {}'.format(skl.__version__))\n",
    "print('matplotlib version: {}'.format(mpl.__version__))"
   ]
  },
  {
   "cell_type": "markdown",
   "id": "14eda23e-2426-4014-86a8-71f8be0142be",
   "metadata": {},
   "source": [
    "## Loading Dataset"
   ]
  },
  {
   "cell_type": "code",
   "execution_count": 268,
   "id": "95943333-ffa4-4b28-809b-ae3c5ac70d23",
   "metadata": {},
   "outputs": [],
   "source": [
    "df = pd.read_csv('UniversalBank.csv')"
   ]
  },
  {
   "cell_type": "code",
   "execution_count": 269,
   "id": "05a95b1b-8bbe-4238-af5b-ef0e7daa8c60",
   "metadata": {},
   "outputs": [
    {
     "data": {
      "text/plain": [
       "(5000, 14)"
      ]
     },
     "execution_count": 269,
     "metadata": {},
     "output_type": "execute_result"
    }
   ],
   "source": [
    "df.shape"
   ]
  },
  {
   "cell_type": "code",
   "execution_count": 270,
   "id": "76e05cfd-8aa7-45df-967c-1dbe6e4fd618",
   "metadata": {},
   "outputs": [
    {
     "data": {
      "text/html": [
       "<div>\n",
       "<style scoped>\n",
       "    .dataframe tbody tr th:only-of-type {\n",
       "        vertical-align: middle;\n",
       "    }\n",
       "\n",
       "    .dataframe tbody tr th {\n",
       "        vertical-align: top;\n",
       "    }\n",
       "\n",
       "    .dataframe thead th {\n",
       "        text-align: right;\n",
       "    }\n",
       "</style>\n",
       "<table border=\"1\" class=\"dataframe\">\n",
       "  <thead>\n",
       "    <tr style=\"text-align: right;\">\n",
       "      <th></th>\n",
       "      <th>Age</th>\n",
       "      <th>Experience</th>\n",
       "      <th>Income</th>\n",
       "      <th>Family</th>\n",
       "      <th>CCAvg</th>\n",
       "      <th>Education</th>\n",
       "      <th>Mortgage</th>\n",
       "      <th>Personal_Loan</th>\n",
       "      <th>Securities_Account</th>\n",
       "      <th>CD_Account</th>\n",
       "      <th>Online</th>\n",
       "      <th>CreditCard</th>\n",
       "    </tr>\n",
       "  </thead>\n",
       "  <tbody>\n",
       "    <tr>\n",
       "      <th>0</th>\n",
       "      <td>25</td>\n",
       "      <td>1</td>\n",
       "      <td>49</td>\n",
       "      <td>4</td>\n",
       "      <td>1.6</td>\n",
       "      <td>1</td>\n",
       "      <td>0</td>\n",
       "      <td>0</td>\n",
       "      <td>1</td>\n",
       "      <td>0</td>\n",
       "      <td>0</td>\n",
       "      <td>0</td>\n",
       "    </tr>\n",
       "    <tr>\n",
       "      <th>1</th>\n",
       "      <td>45</td>\n",
       "      <td>19</td>\n",
       "      <td>34</td>\n",
       "      <td>3</td>\n",
       "      <td>1.5</td>\n",
       "      <td>1</td>\n",
       "      <td>0</td>\n",
       "      <td>0</td>\n",
       "      <td>1</td>\n",
       "      <td>0</td>\n",
       "      <td>0</td>\n",
       "      <td>0</td>\n",
       "    </tr>\n",
       "    <tr>\n",
       "      <th>2</th>\n",
       "      <td>39</td>\n",
       "      <td>15</td>\n",
       "      <td>11</td>\n",
       "      <td>1</td>\n",
       "      <td>1.0</td>\n",
       "      <td>1</td>\n",
       "      <td>0</td>\n",
       "      <td>0</td>\n",
       "      <td>0</td>\n",
       "      <td>0</td>\n",
       "      <td>0</td>\n",
       "      <td>0</td>\n",
       "    </tr>\n",
       "    <tr>\n",
       "      <th>3</th>\n",
       "      <td>35</td>\n",
       "      <td>9</td>\n",
       "      <td>100</td>\n",
       "      <td>1</td>\n",
       "      <td>2.7</td>\n",
       "      <td>2</td>\n",
       "      <td>0</td>\n",
       "      <td>0</td>\n",
       "      <td>0</td>\n",
       "      <td>0</td>\n",
       "      <td>0</td>\n",
       "      <td>0</td>\n",
       "    </tr>\n",
       "    <tr>\n",
       "      <th>4</th>\n",
       "      <td>35</td>\n",
       "      <td>8</td>\n",
       "      <td>45</td>\n",
       "      <td>4</td>\n",
       "      <td>1.0</td>\n",
       "      <td>2</td>\n",
       "      <td>0</td>\n",
       "      <td>0</td>\n",
       "      <td>0</td>\n",
       "      <td>0</td>\n",
       "      <td>0</td>\n",
       "      <td>1</td>\n",
       "    </tr>\n",
       "  </tbody>\n",
       "</table>\n",
       "</div>"
      ],
      "text/plain": [
       "   Age  Experience  Income  Family  CCAvg  Education  Mortgage  Personal_Loan  \\\n",
       "0   25           1      49       4    1.6          1         0              0   \n",
       "1   45          19      34       3    1.5          1         0              0   \n",
       "2   39          15      11       1    1.0          1         0              0   \n",
       "3   35           9     100       1    2.7          2         0              0   \n",
       "4   35           8      45       4    1.0          2         0              0   \n",
       "\n",
       "   Securities_Account  CD_Account  Online  CreditCard  \n",
       "0                   1           0       0           0  \n",
       "1                   1           0       0           0  \n",
       "2                   0           0       0           0  \n",
       "3                   0           0       0           0  \n",
       "4                   0           0       0           1  "
      ]
     },
     "metadata": {},
     "output_type": "display_data"
    }
   ],
   "source": [
    "# Renaming columns to remove space in column names\n",
    "df = df.rename(columns={'ZIP Code': 'ZIP_Code', \n",
    "                        'Personal Loan': 'Personal_Loan', \n",
    "                        'Securities Account': 'Securities_Account', \n",
    "                        'CD Account':'CD_Account'})\n",
    "\n",
    "# Dropping columns ID and ZIP Code because they are not needed for our k-nn classification.\n",
    "df = df.drop(['ID', 'ZIP_Code'], axis=1)\n",
    "display(df.head())"
   ]
  },
  {
   "cell_type": "code",
   "execution_count": 271,
   "id": "71f7883d-3d1e-4d3e-b7de-db3a3692eb50",
   "metadata": {},
   "outputs": [
    {
     "data": {
      "text/html": [
       "<div>\n",
       "<style scoped>\n",
       "    .dataframe tbody tr th:only-of-type {\n",
       "        vertical-align: middle;\n",
       "    }\n",
       "\n",
       "    .dataframe tbody tr th {\n",
       "        vertical-align: top;\n",
       "    }\n",
       "\n",
       "    .dataframe thead th {\n",
       "        text-align: right;\n",
       "    }\n",
       "</style>\n",
       "<table border=\"1\" class=\"dataframe\">\n",
       "  <thead>\n",
       "    <tr style=\"text-align: right;\">\n",
       "      <th></th>\n",
       "      <th>Age</th>\n",
       "      <th>Experience</th>\n",
       "      <th>Income</th>\n",
       "      <th>Family</th>\n",
       "      <th>CCAvg</th>\n",
       "      <th>Education</th>\n",
       "      <th>Mortgage</th>\n",
       "      <th>Personal_Loan</th>\n",
       "      <th>Securities_Account</th>\n",
       "      <th>CD_Account</th>\n",
       "      <th>Online</th>\n",
       "      <th>CreditCard</th>\n",
       "    </tr>\n",
       "  </thead>\n",
       "  <tbody>\n",
       "    <tr>\n",
       "      <th>0</th>\n",
       "      <td>25</td>\n",
       "      <td>1</td>\n",
       "      <td>49</td>\n",
       "      <td>4</td>\n",
       "      <td>1.6</td>\n",
       "      <td>1</td>\n",
       "      <td>0</td>\n",
       "      <td>0</td>\n",
       "      <td>1</td>\n",
       "      <td>0</td>\n",
       "      <td>0</td>\n",
       "      <td>0</td>\n",
       "    </tr>\n",
       "    <tr>\n",
       "      <th>1</th>\n",
       "      <td>45</td>\n",
       "      <td>19</td>\n",
       "      <td>34</td>\n",
       "      <td>3</td>\n",
       "      <td>1.5</td>\n",
       "      <td>1</td>\n",
       "      <td>0</td>\n",
       "      <td>0</td>\n",
       "      <td>1</td>\n",
       "      <td>0</td>\n",
       "      <td>0</td>\n",
       "      <td>0</td>\n",
       "    </tr>\n",
       "    <tr>\n",
       "      <th>2</th>\n",
       "      <td>39</td>\n",
       "      <td>15</td>\n",
       "      <td>11</td>\n",
       "      <td>1</td>\n",
       "      <td>1.0</td>\n",
       "      <td>1</td>\n",
       "      <td>0</td>\n",
       "      <td>0</td>\n",
       "      <td>0</td>\n",
       "      <td>0</td>\n",
       "      <td>0</td>\n",
       "      <td>0</td>\n",
       "    </tr>\n",
       "    <tr>\n",
       "      <th>3</th>\n",
       "      <td>35</td>\n",
       "      <td>9</td>\n",
       "      <td>100</td>\n",
       "      <td>1</td>\n",
       "      <td>2.7</td>\n",
       "      <td>2</td>\n",
       "      <td>0</td>\n",
       "      <td>0</td>\n",
       "      <td>0</td>\n",
       "      <td>0</td>\n",
       "      <td>0</td>\n",
       "      <td>0</td>\n",
       "    </tr>\n",
       "    <tr>\n",
       "      <th>4</th>\n",
       "      <td>35</td>\n",
       "      <td>8</td>\n",
       "      <td>45</td>\n",
       "      <td>4</td>\n",
       "      <td>1.0</td>\n",
       "      <td>2</td>\n",
       "      <td>0</td>\n",
       "      <td>0</td>\n",
       "      <td>0</td>\n",
       "      <td>0</td>\n",
       "      <td>0</td>\n",
       "      <td>1</td>\n",
       "    </tr>\n",
       "  </tbody>\n",
       "</table>\n",
       "</div>"
      ],
      "text/plain": [
       "   Age  Experience  Income  Family  CCAvg  Education  Mortgage  Personal_Loan  \\\n",
       "0   25           1      49       4    1.6          1         0              0   \n",
       "1   45          19      34       3    1.5          1         0              0   \n",
       "2   39          15      11       1    1.0          1         0              0   \n",
       "3   35           9     100       1    2.7          2         0              0   \n",
       "4   35           8      45       4    1.0          2         0              0   \n",
       "\n",
       "   Securities_Account  CD_Account  Online  CreditCard  \n",
       "0                   1           0       0           0  \n",
       "1                   1           0       0           0  \n",
       "2                   0           0       0           0  \n",
       "3                   0           0       0           0  \n",
       "4                   0           0       0           1  "
      ]
     },
     "metadata": {},
     "output_type": "display_data"
    }
   ],
   "source": [
    "display(df.head())"
   ]
  },
  {
   "cell_type": "markdown",
   "id": "0c6f7785-fbe5-4518-9c3d-1fa384589034",
   "metadata": {},
   "source": [
    "Transforming categorical predictors with more than two categories into dummy variables first"
   ]
  },
  {
   "cell_type": "code",
   "execution_count": 272,
   "id": "68dd0d69-a062-4aff-8107-b80a62af9e32",
   "metadata": {},
   "outputs": [
    {
     "data": {
      "text/html": [
       "<div>\n",
       "<style scoped>\n",
       "    .dataframe tbody tr th:only-of-type {\n",
       "        vertical-align: middle;\n",
       "    }\n",
       "\n",
       "    .dataframe tbody tr th {\n",
       "        vertical-align: top;\n",
       "    }\n",
       "\n",
       "    .dataframe thead th {\n",
       "        text-align: right;\n",
       "    }\n",
       "</style>\n",
       "<table border=\"1\" class=\"dataframe\">\n",
       "  <thead>\n",
       "    <tr style=\"text-align: right;\">\n",
       "      <th></th>\n",
       "      <th>Age</th>\n",
       "      <th>Experience</th>\n",
       "      <th>Income</th>\n",
       "      <th>Family</th>\n",
       "      <th>CCAvg</th>\n",
       "      <th>Mortgage</th>\n",
       "      <th>Personal_Loan</th>\n",
       "      <th>Securities_Account</th>\n",
       "      <th>CD_Account</th>\n",
       "      <th>Online</th>\n",
       "      <th>CreditCard</th>\n",
       "      <th>Education_1</th>\n",
       "      <th>Education_2</th>\n",
       "      <th>Education_3</th>\n",
       "    </tr>\n",
       "  </thead>\n",
       "  <tbody>\n",
       "    <tr>\n",
       "      <th>0</th>\n",
       "      <td>25</td>\n",
       "      <td>1</td>\n",
       "      <td>49</td>\n",
       "      <td>4</td>\n",
       "      <td>1.6</td>\n",
       "      <td>0</td>\n",
       "      <td>0</td>\n",
       "      <td>1</td>\n",
       "      <td>0</td>\n",
       "      <td>0</td>\n",
       "      <td>0</td>\n",
       "      <td>1</td>\n",
       "      <td>0</td>\n",
       "      <td>0</td>\n",
       "    </tr>\n",
       "    <tr>\n",
       "      <th>1</th>\n",
       "      <td>45</td>\n",
       "      <td>19</td>\n",
       "      <td>34</td>\n",
       "      <td>3</td>\n",
       "      <td>1.5</td>\n",
       "      <td>0</td>\n",
       "      <td>0</td>\n",
       "      <td>1</td>\n",
       "      <td>0</td>\n",
       "      <td>0</td>\n",
       "      <td>0</td>\n",
       "      <td>1</td>\n",
       "      <td>0</td>\n",
       "      <td>0</td>\n",
       "    </tr>\n",
       "    <tr>\n",
       "      <th>2</th>\n",
       "      <td>39</td>\n",
       "      <td>15</td>\n",
       "      <td>11</td>\n",
       "      <td>1</td>\n",
       "      <td>1.0</td>\n",
       "      <td>0</td>\n",
       "      <td>0</td>\n",
       "      <td>0</td>\n",
       "      <td>0</td>\n",
       "      <td>0</td>\n",
       "      <td>0</td>\n",
       "      <td>1</td>\n",
       "      <td>0</td>\n",
       "      <td>0</td>\n",
       "    </tr>\n",
       "    <tr>\n",
       "      <th>3</th>\n",
       "      <td>35</td>\n",
       "      <td>9</td>\n",
       "      <td>100</td>\n",
       "      <td>1</td>\n",
       "      <td>2.7</td>\n",
       "      <td>0</td>\n",
       "      <td>0</td>\n",
       "      <td>0</td>\n",
       "      <td>0</td>\n",
       "      <td>0</td>\n",
       "      <td>0</td>\n",
       "      <td>0</td>\n",
       "      <td>1</td>\n",
       "      <td>0</td>\n",
       "    </tr>\n",
       "    <tr>\n",
       "      <th>4</th>\n",
       "      <td>35</td>\n",
       "      <td>8</td>\n",
       "      <td>45</td>\n",
       "      <td>4</td>\n",
       "      <td>1.0</td>\n",
       "      <td>0</td>\n",
       "      <td>0</td>\n",
       "      <td>0</td>\n",
       "      <td>0</td>\n",
       "      <td>0</td>\n",
       "      <td>1</td>\n",
       "      <td>0</td>\n",
       "      <td>1</td>\n",
       "      <td>0</td>\n",
       "    </tr>\n",
       "  </tbody>\n",
       "</table>\n",
       "</div>"
      ],
      "text/plain": [
       "   Age  Experience  Income  Family  CCAvg  Mortgage  Personal_Loan  \\\n",
       "0   25           1      49       4    1.6         0              0   \n",
       "1   45          19      34       3    1.5         0              0   \n",
       "2   39          15      11       1    1.0         0              0   \n",
       "3   35           9     100       1    2.7         0              0   \n",
       "4   35           8      45       4    1.0         0              0   \n",
       "\n",
       "   Securities_Account  CD_Account  Online  CreditCard  Education_1  \\\n",
       "0                   1           0       0           0            1   \n",
       "1                   1           0       0           0            1   \n",
       "2                   0           0       0           0            1   \n",
       "3                   0           0       0           0            0   \n",
       "4                   0           0       0           1            0   \n",
       "\n",
       "   Education_2  Education_3  \n",
       "0            0            0  \n",
       "1            0            0  \n",
       "2            0            0  \n",
       "3            1            0  \n",
       "4            1            0  "
      ]
     },
     "metadata": {},
     "output_type": "display_data"
    }
   ],
   "source": [
    "# Create dummy variables from the Education column\n",
    "df = pd.get_dummies(df, columns=['Education'])\n",
    "display(df.head())"
   ]
  },
  {
   "cell_type": "markdown",
   "id": "8e55a50f-9927-4777-8ddf-b6bed3b1bf00",
   "metadata": {},
   "source": [
    "Making Personal_Loan as a last column of the dataframe."
   ]
  },
  {
   "cell_type": "code",
   "execution_count": 273,
   "id": "e2a4e5e0-1947-4d8f-a346-ed497b1bf4a6",
   "metadata": {},
   "outputs": [
    {
     "data": {
      "text/html": [
       "<div>\n",
       "<style scoped>\n",
       "    .dataframe tbody tr th:only-of-type {\n",
       "        vertical-align: middle;\n",
       "    }\n",
       "\n",
       "    .dataframe tbody tr th {\n",
       "        vertical-align: top;\n",
       "    }\n",
       "\n",
       "    .dataframe thead th {\n",
       "        text-align: right;\n",
       "    }\n",
       "</style>\n",
       "<table border=\"1\" class=\"dataframe\">\n",
       "  <thead>\n",
       "    <tr style=\"text-align: right;\">\n",
       "      <th></th>\n",
       "      <th>Age</th>\n",
       "      <th>Experience</th>\n",
       "      <th>Income</th>\n",
       "      <th>Family</th>\n",
       "      <th>CCAvg</th>\n",
       "      <th>Mortgage</th>\n",
       "      <th>Securities_Account</th>\n",
       "      <th>CD_Account</th>\n",
       "      <th>Online</th>\n",
       "      <th>CreditCard</th>\n",
       "      <th>Education_1</th>\n",
       "      <th>Education_2</th>\n",
       "      <th>Education_3</th>\n",
       "      <th>Personal_Loan</th>\n",
       "    </tr>\n",
       "  </thead>\n",
       "  <tbody>\n",
       "    <tr>\n",
       "      <th>0</th>\n",
       "      <td>25</td>\n",
       "      <td>1</td>\n",
       "      <td>49</td>\n",
       "      <td>4</td>\n",
       "      <td>1.6</td>\n",
       "      <td>0</td>\n",
       "      <td>1</td>\n",
       "      <td>0</td>\n",
       "      <td>0</td>\n",
       "      <td>0</td>\n",
       "      <td>1</td>\n",
       "      <td>0</td>\n",
       "      <td>0</td>\n",
       "      <td>0</td>\n",
       "    </tr>\n",
       "    <tr>\n",
       "      <th>1</th>\n",
       "      <td>45</td>\n",
       "      <td>19</td>\n",
       "      <td>34</td>\n",
       "      <td>3</td>\n",
       "      <td>1.5</td>\n",
       "      <td>0</td>\n",
       "      <td>1</td>\n",
       "      <td>0</td>\n",
       "      <td>0</td>\n",
       "      <td>0</td>\n",
       "      <td>1</td>\n",
       "      <td>0</td>\n",
       "      <td>0</td>\n",
       "      <td>0</td>\n",
       "    </tr>\n",
       "    <tr>\n",
       "      <th>2</th>\n",
       "      <td>39</td>\n",
       "      <td>15</td>\n",
       "      <td>11</td>\n",
       "      <td>1</td>\n",
       "      <td>1.0</td>\n",
       "      <td>0</td>\n",
       "      <td>0</td>\n",
       "      <td>0</td>\n",
       "      <td>0</td>\n",
       "      <td>0</td>\n",
       "      <td>1</td>\n",
       "      <td>0</td>\n",
       "      <td>0</td>\n",
       "      <td>0</td>\n",
       "    </tr>\n",
       "    <tr>\n",
       "      <th>3</th>\n",
       "      <td>35</td>\n",
       "      <td>9</td>\n",
       "      <td>100</td>\n",
       "      <td>1</td>\n",
       "      <td>2.7</td>\n",
       "      <td>0</td>\n",
       "      <td>0</td>\n",
       "      <td>0</td>\n",
       "      <td>0</td>\n",
       "      <td>0</td>\n",
       "      <td>0</td>\n",
       "      <td>1</td>\n",
       "      <td>0</td>\n",
       "      <td>0</td>\n",
       "    </tr>\n",
       "    <tr>\n",
       "      <th>4</th>\n",
       "      <td>35</td>\n",
       "      <td>8</td>\n",
       "      <td>45</td>\n",
       "      <td>4</td>\n",
       "      <td>1.0</td>\n",
       "      <td>0</td>\n",
       "      <td>0</td>\n",
       "      <td>0</td>\n",
       "      <td>0</td>\n",
       "      <td>1</td>\n",
       "      <td>0</td>\n",
       "      <td>1</td>\n",
       "      <td>0</td>\n",
       "      <td>0</td>\n",
       "    </tr>\n",
       "  </tbody>\n",
       "</table>\n",
       "</div>"
      ],
      "text/plain": [
       "   Age  Experience  Income  Family  CCAvg  Mortgage  Securities_Account  \\\n",
       "0   25           1      49       4    1.6         0                   1   \n",
       "1   45          19      34       3    1.5         0                   1   \n",
       "2   39          15      11       1    1.0         0                   0   \n",
       "3   35           9     100       1    2.7         0                   0   \n",
       "4   35           8      45       4    1.0         0                   0   \n",
       "\n",
       "   CD_Account  Online  CreditCard  Education_1  Education_2  Education_3  \\\n",
       "0           0       0           0            1            0            0   \n",
       "1           0       0           0            1            0            0   \n",
       "2           0       0           0            1            0            0   \n",
       "3           0       0           0            0            1            0   \n",
       "4           0       0           1            0            1            0   \n",
       "\n",
       "   Personal_Loan  \n",
       "0              0  \n",
       "1              0  \n",
       "2              0  \n",
       "3              0  \n",
       "4              0  "
      ]
     },
     "metadata": {},
     "output_type": "display_data"
    }
   ],
   "source": [
    "column_to_move = df.pop('Personal_Loan')\n",
    "df.insert((len(list(df))), 'Personal_Loan', column_to_move)\n",
    "display(df.head())"
   ]
  },
  {
   "cell_type": "markdown",
   "id": "78738f47-effc-4c57-b333-a5b12d75a42c",
   "metadata": {},
   "source": [
    "Partitioning the data into training (60%) and validation (40%) sets."
   ]
  },
  {
   "cell_type": "code",
   "execution_count": 274,
   "id": "0c1188ce-f846-4788-9556-e57824a343fa",
   "metadata": {},
   "outputs": [],
   "source": [
    "trainData, validData = train_test_split(df, \n",
    "                                        test_size=0.4, \n",
    "                                        random_state=26)"
   ]
  },
  {
   "cell_type": "markdown",
   "id": "6e248c82-fa35-4a18-8083-d29e3c9951a1",
   "metadata": {},
   "source": [
    "Creating dataset for prospect customer"
   ]
  },
  {
   "cell_type": "code",
   "execution_count": 275,
   "id": "67a3c0d7-dd68-430d-ab4d-19c76ddc1471",
   "metadata": {},
   "outputs": [
    {
     "data": {
      "text/html": [
       "<div>\n",
       "<style scoped>\n",
       "    .dataframe tbody tr th:only-of-type {\n",
       "        vertical-align: middle;\n",
       "    }\n",
       "\n",
       "    .dataframe tbody tr th {\n",
       "        vertical-align: top;\n",
       "    }\n",
       "\n",
       "    .dataframe thead th {\n",
       "        text-align: right;\n",
       "    }\n",
       "</style>\n",
       "<table border=\"1\" class=\"dataframe\">\n",
       "  <thead>\n",
       "    <tr style=\"text-align: right;\">\n",
       "      <th></th>\n",
       "      <th>Age</th>\n",
       "      <th>Experience</th>\n",
       "      <th>Income</th>\n",
       "      <th>Family</th>\n",
       "      <th>CCAvg</th>\n",
       "      <th>Mortgage</th>\n",
       "      <th>Securities_Account</th>\n",
       "      <th>CD_Account</th>\n",
       "      <th>Online</th>\n",
       "      <th>CreditCard</th>\n",
       "      <th>Education_1</th>\n",
       "      <th>Education_2</th>\n",
       "      <th>Education_3</th>\n",
       "    </tr>\n",
       "  </thead>\n",
       "  <tbody>\n",
       "    <tr>\n",
       "      <th>0</th>\n",
       "      <td>40</td>\n",
       "      <td>10</td>\n",
       "      <td>84</td>\n",
       "      <td>2</td>\n",
       "      <td>2</td>\n",
       "      <td>0</td>\n",
       "      <td>0</td>\n",
       "      <td>0</td>\n",
       "      <td>1</td>\n",
       "      <td>1</td>\n",
       "      <td>0</td>\n",
       "      <td>1</td>\n",
       "      <td>0</td>\n",
       "    </tr>\n",
       "  </tbody>\n",
       "</table>\n",
       "</div>"
      ],
      "text/plain": [
       "   Age  Experience  Income  Family  CCAvg  Mortgage  Securities_Account  \\\n",
       "0   40          10      84       2      2         0                   0   \n",
       "\n",
       "   CD_Account  Online  CreditCard  Education_1  Education_2  Education_3  \n",
       "0           0       1           1            0            1            0  "
      ]
     },
     "metadata": {},
     "output_type": "display_data"
    }
   ],
   "source": [
    "prospect = pd.DataFrame([{'Age': 40, \n",
    "                          'Experience': 10, \n",
    "                          'Income': 84, \n",
    "                          'Family': 2, \n",
    "                          'CCAvg': 2, \n",
    "                          'Mortgage': 0, \n",
    "                          'Securities_Account': 0, \n",
    "                          'CD_Account': 0, \n",
    "                          'Online': 1, \n",
    "                          'CreditCard': 1, \n",
    "                          'Education_1': 0, \n",
    "                          'Education_2': 1, \n",
    "                          'Education_3': 0}])\n",
    "display(prospect)"
   ]
  },
  {
   "cell_type": "markdown",
   "id": "dbff8ec3-bff5-47de-a0a9-b4a15c4b7523",
   "metadata": {},
   "source": [
    "## Normalizing Dataset"
   ]
  },
  {
   "cell_type": "code",
   "execution_count": 276,
   "id": "371fc9b6-5cb6-4291-a853-d4d15fe9e19a",
   "metadata": {},
   "outputs": [
    {
     "data": {
      "text/html": [
       "<div>\n",
       "<style scoped>\n",
       "    .dataframe tbody tr th:only-of-type {\n",
       "        vertical-align: middle;\n",
       "    }\n",
       "\n",
       "    .dataframe tbody tr th {\n",
       "        vertical-align: top;\n",
       "    }\n",
       "\n",
       "    .dataframe thead th {\n",
       "        text-align: right;\n",
       "    }\n",
       "</style>\n",
       "<table border=\"1\" class=\"dataframe\">\n",
       "  <thead>\n",
       "    <tr style=\"text-align: right;\">\n",
       "      <th></th>\n",
       "      <th>Age</th>\n",
       "      <th>Experience</th>\n",
       "      <th>Income</th>\n",
       "      <th>Family</th>\n",
       "      <th>CCAvg</th>\n",
       "      <th>Mortgage</th>\n",
       "      <th>Securities_Account</th>\n",
       "      <th>CD_Account</th>\n",
       "      <th>Online</th>\n",
       "      <th>CreditCard</th>\n",
       "      <th>Education_1</th>\n",
       "      <th>Education_2</th>\n",
       "      <th>Education_3</th>\n",
       "      <th>Personal_Loan</th>\n",
       "    </tr>\n",
       "  </thead>\n",
       "  <tbody>\n",
       "    <tr>\n",
       "      <th>0</th>\n",
       "      <td>-1.761111</td>\n",
       "      <td>-1.655564</td>\n",
       "      <td>-0.525899</td>\n",
       "      <td>1.400063</td>\n",
       "      <td>-0.179980</td>\n",
       "      <td>-0.547625</td>\n",
       "      <td>2.888909</td>\n",
       "      <td>-0.248891</td>\n",
       "      <td>-1.24019</td>\n",
       "      <td>-0.645314</td>\n",
       "      <td>1.167135</td>\n",
       "      <td>-0.629800</td>\n",
       "      <td>-0.643242</td>\n",
       "      <td>0</td>\n",
       "    </tr>\n",
       "    <tr>\n",
       "      <th>1</th>\n",
       "      <td>-0.025599</td>\n",
       "      <td>-0.092619</td>\n",
       "      <td>-0.855538</td>\n",
       "      <td>0.529738</td>\n",
       "      <td>-0.237394</td>\n",
       "      <td>-0.547625</td>\n",
       "      <td>2.888909</td>\n",
       "      <td>-0.248891</td>\n",
       "      <td>-1.24019</td>\n",
       "      <td>-0.645314</td>\n",
       "      <td>1.167135</td>\n",
       "      <td>-0.629800</td>\n",
       "      <td>-0.643242</td>\n",
       "      <td>0</td>\n",
       "    </tr>\n",
       "    <tr>\n",
       "      <th>2</th>\n",
       "      <td>-0.546253</td>\n",
       "      <td>-0.439940</td>\n",
       "      <td>-1.360985</td>\n",
       "      <td>-1.210912</td>\n",
       "      <td>-0.524464</td>\n",
       "      <td>-0.547625</td>\n",
       "      <td>-0.346151</td>\n",
       "      <td>-0.248891</td>\n",
       "      <td>-1.24019</td>\n",
       "      <td>-0.645314</td>\n",
       "      <td>1.167135</td>\n",
       "      <td>-0.629800</td>\n",
       "      <td>-0.643242</td>\n",
       "      <td>0</td>\n",
       "    </tr>\n",
       "    <tr>\n",
       "      <th>3</th>\n",
       "      <td>-0.893355</td>\n",
       "      <td>-0.960922</td>\n",
       "      <td>0.594874</td>\n",
       "      <td>-1.210912</td>\n",
       "      <td>0.451575</td>\n",
       "      <td>-0.547625</td>\n",
       "      <td>-0.346151</td>\n",
       "      <td>-0.248891</td>\n",
       "      <td>-1.24019</td>\n",
       "      <td>-0.645314</td>\n",
       "      <td>-0.856799</td>\n",
       "      <td>1.587806</td>\n",
       "      <td>-0.643242</td>\n",
       "      <td>0</td>\n",
       "    </tr>\n",
       "    <tr>\n",
       "      <th>4</th>\n",
       "      <td>-0.893355</td>\n",
       "      <td>-1.047752</td>\n",
       "      <td>-0.613803</td>\n",
       "      <td>1.400063</td>\n",
       "      <td>-0.524464</td>\n",
       "      <td>-0.547625</td>\n",
       "      <td>-0.346151</td>\n",
       "      <td>-0.248891</td>\n",
       "      <td>-1.24019</td>\n",
       "      <td>1.549632</td>\n",
       "      <td>-0.856799</td>\n",
       "      <td>1.587806</td>\n",
       "      <td>-0.643242</td>\n",
       "      <td>0</td>\n",
       "    </tr>\n",
       "  </tbody>\n",
       "</table>\n",
       "</div>"
      ],
      "text/plain": [
       "        Age  Experience    Income    Family     CCAvg  Mortgage  \\\n",
       "0 -1.761111   -1.655564 -0.525899  1.400063 -0.179980 -0.547625   \n",
       "1 -0.025599   -0.092619 -0.855538  0.529738 -0.237394 -0.547625   \n",
       "2 -0.546253   -0.439940 -1.360985 -1.210912 -0.524464 -0.547625   \n",
       "3 -0.893355   -0.960922  0.594874 -1.210912  0.451575 -0.547625   \n",
       "4 -0.893355   -1.047752 -0.613803  1.400063 -0.524464 -0.547625   \n",
       "\n",
       "   Securities_Account  CD_Account   Online  CreditCard  Education_1  \\\n",
       "0            2.888909   -0.248891 -1.24019   -0.645314     1.167135   \n",
       "1            2.888909   -0.248891 -1.24019   -0.645314     1.167135   \n",
       "2           -0.346151   -0.248891 -1.24019   -0.645314     1.167135   \n",
       "3           -0.346151   -0.248891 -1.24019   -0.645314    -0.856799   \n",
       "4           -0.346151   -0.248891 -1.24019    1.549632    -0.856799   \n",
       "\n",
       "   Education_2  Education_3  Personal_Loan  \n",
       "0    -0.629800    -0.643242              0  \n",
       "1    -0.629800    -0.643242              0  \n",
       "2    -0.629800    -0.643242              0  \n",
       "3     1.587806    -0.643242              0  \n",
       "4     1.587806    -0.643242              0  "
      ]
     },
     "metadata": {},
     "output_type": "display_data"
    },
    {
     "data": {
      "text/html": [
       "<div>\n",
       "<style scoped>\n",
       "    .dataframe tbody tr th:only-of-type {\n",
       "        vertical-align: middle;\n",
       "    }\n",
       "\n",
       "    .dataframe tbody tr th {\n",
       "        vertical-align: top;\n",
       "    }\n",
       "\n",
       "    .dataframe thead th {\n",
       "        text-align: right;\n",
       "    }\n",
       "</style>\n",
       "<table border=\"1\" class=\"dataframe\">\n",
       "  <thead>\n",
       "    <tr style=\"text-align: right;\">\n",
       "      <th></th>\n",
       "      <th>Age</th>\n",
       "      <th>Experience</th>\n",
       "      <th>Income</th>\n",
       "      <th>Family</th>\n",
       "      <th>CCAvg</th>\n",
       "      <th>Mortgage</th>\n",
       "      <th>Securities_Account</th>\n",
       "      <th>CD_Account</th>\n",
       "      <th>Online</th>\n",
       "      <th>CreditCard</th>\n",
       "      <th>Education_1</th>\n",
       "      <th>Education_2</th>\n",
       "      <th>Education_3</th>\n",
       "    </tr>\n",
       "  </thead>\n",
       "  <tbody>\n",
       "    <tr>\n",
       "      <th>0</th>\n",
       "      <td>-0.459477</td>\n",
       "      <td>-0.874091</td>\n",
       "      <td>0.243259</td>\n",
       "      <td>-0.340587</td>\n",
       "      <td>0.049677</td>\n",
       "      <td>-0.547625</td>\n",
       "      <td>-0.346151</td>\n",
       "      <td>-0.248891</td>\n",
       "      <td>0.806328</td>\n",
       "      <td>1.549632</td>\n",
       "      <td>-0.856799</td>\n",
       "      <td>1.587806</td>\n",
       "      <td>-0.643242</td>\n",
       "    </tr>\n",
       "  </tbody>\n",
       "</table>\n",
       "</div>"
      ],
      "text/plain": [
       "        Age  Experience    Income    Family     CCAvg  Mortgage  \\\n",
       "0 -0.459477   -0.874091  0.243259 -0.340587  0.049677 -0.547625   \n",
       "\n",
       "   Securities_Account  CD_Account    Online  CreditCard  Education_1  \\\n",
       "0           -0.346151   -0.248891  0.806328    1.549632    -0.856799   \n",
       "\n",
       "   Education_2  Education_3  \n",
       "0     1.587806    -0.643242  "
      ]
     },
     "metadata": {},
     "output_type": "display_data"
    }
   ],
   "source": [
    "# initialize normalized training, validation, and complete data frames\n",
    "# use the training data to learn the transformation.\n",
    "scaler = preprocessing.StandardScaler()\n",
    "scaler.fit(trainData.iloc[:, :-1]) \n",
    "\n",
    "# Transform the full dataaset \n",
    "dfNorm = pd.concat([pd.DataFrame(\n",
    "    scaler.transform(df.iloc[:, :-1]), \n",
    "    columns= df.columns.tolist()[:-1]),\n",
    "                       df[['Personal_Loan']]], axis=1)\n",
    "\n",
    "display(dfNorm.head())\n",
    "\n",
    "trainNorm = dfNorm.iloc[trainData.index]\n",
    "validNorm = dfNorm.iloc[validData.index]\n",
    "\n",
    "prospectNorm = pd.DataFrame(scaler.transform(prospect),\n",
    "                                columns=prospect.columns)\n",
    "display(prospectNorm)"
   ]
  },
  {
   "cell_type": "markdown",
   "id": "f954915a-bd35-4448-ab83-9fbcfe379156",
   "metadata": {},
   "source": [
    "## K-NN Classification (K = 1)"
   ]
  },
  {
   "cell_type": "markdown",
   "id": "68e56bdc-c53b-468e-8d35-5bcd246444e7",
   "metadata": {},
   "source": [
    "Performing a k-NN classification with all predictors except ID and ZIP code using k = 1."
   ]
  },
  {
   "cell_type": "code",
   "execution_count": 277,
   "id": "0fd91fc0-0205-4cd8-afa8-a1cb25dfd459",
   "metadata": {},
   "outputs": [
    {
     "data": {
      "text/html": [
       "<div>\n",
       "<style scoped>\n",
       "    .dataframe tbody tr th:only-of-type {\n",
       "        vertical-align: middle;\n",
       "    }\n",
       "\n",
       "    .dataframe tbody tr th {\n",
       "        vertical-align: top;\n",
       "    }\n",
       "\n",
       "    .dataframe thead th {\n",
       "        text-align: right;\n",
       "    }\n",
       "</style>\n",
       "<table border=\"1\" class=\"dataframe\">\n",
       "  <thead>\n",
       "    <tr style=\"text-align: right;\">\n",
       "      <th></th>\n",
       "      <th>Age</th>\n",
       "      <th>Experience</th>\n",
       "      <th>Income</th>\n",
       "      <th>Family</th>\n",
       "      <th>CCAvg</th>\n",
       "      <th>Mortgage</th>\n",
       "      <th>Securities_Account</th>\n",
       "      <th>CD_Account</th>\n",
       "      <th>Online</th>\n",
       "      <th>CreditCard</th>\n",
       "      <th>Education_1</th>\n",
       "      <th>Education_2</th>\n",
       "      <th>Education_3</th>\n",
       "      <th>Personal_Loan</th>\n",
       "    </tr>\n",
       "  </thead>\n",
       "  <tbody>\n",
       "    <tr>\n",
       "      <th>4034</th>\n",
       "      <td>-0.893355</td>\n",
       "      <td>-0.787261</td>\n",
       "      <td>0.199307</td>\n",
       "      <td>-0.340587</td>\n",
       "      <td>-0.122566</td>\n",
       "      <td>-0.547625</td>\n",
       "      <td>-0.346151</td>\n",
       "      <td>-0.248891</td>\n",
       "      <td>0.806328</td>\n",
       "      <td>1.549632</td>\n",
       "      <td>-0.856799</td>\n",
       "      <td>1.587806</td>\n",
       "      <td>-0.643242</td>\n",
       "      <td>0</td>\n",
       "    </tr>\n",
       "  </tbody>\n",
       "</table>\n",
       "</div>"
      ],
      "text/plain": [
       "           Age  Experience    Income    Family     CCAvg  Mortgage  \\\n",
       "4034 -0.893355   -0.787261  0.199307 -0.340587 -0.122566 -0.547625   \n",
       "\n",
       "      Securities_Account  CD_Account    Online  CreditCard  Education_1  \\\n",
       "4034           -0.346151   -0.248891  0.806328    1.549632    -0.856799   \n",
       "\n",
       "      Education_2  Education_3  Personal_Loan  \n",
       "4034     1.587806    -0.643242              0  "
      ]
     },
     "execution_count": 277,
     "metadata": {},
     "output_type": "execute_result"
    }
   ],
   "source": [
    "# use NearestNeighbors from scikit-learn to compute knn\n",
    "knn = NearestNeighbors(n_neighbors=1)\n",
    "knn.fit(dfNorm.iloc[:, :-1])\n",
    "distances, indices = knn.kneighbors(prospectNorm)\n",
    "\n",
    "# indices is a list of lists, we are only interested in the first element\n",
    "dfNorm.iloc[indices[0], :]"
   ]
  },
  {
   "cell_type": "markdown",
   "id": "2700b2e1-27bf-40a9-9a45-7061d8c3425e",
   "metadata": {},
   "source": [
    "## Result"
   ]
  },
  {
   "cell_type": "markdown",
   "id": "98eee0e3-3078-4ecc-8b49-e415b63a7c9c",
   "metadata": {},
   "source": [
    "From above grid we see that closest neighbors to our prospect customer is a customer who did not accept the loan. Therefore, our prospect customer is also not likely to accept the loan. Since we are using only one neighbor, the cutoff value of 0.5 is not applicable here. However, as we will see further, the cutoff value will be applicable when we try classification with more than one neighbor."
   ]
  },
  {
   "cell_type": "markdown",
   "id": "f3c79321-48ea-463c-8b4f-66e1b07e4e1f",
   "metadata": {},
   "source": [
    "## Finding best value of k "
   ]
  },
  {
   "cell_type": "markdown",
   "id": "f40a972f-26af-48aa-9083-1377865efca6",
   "metadata": {},
   "source": [
    "Finding choice of k that balances between overfitting and ignoring the predictor information. Trying out k = 1 to k = 15. "
   ]
  },
  {
   "cell_type": "code",
   "execution_count": 278,
   "id": "bde1315e-adc7-4dde-be70-223c7bafe9f0",
   "metadata": {},
   "outputs": [
    {
     "name": "stdout",
     "output_type": "stream",
     "text": [
      "     k  accuracy\n",
      "0    1    0.9550\n",
      "1    2    0.9460\n",
      "2    3    0.9555\n",
      "3    4    0.9445\n",
      "4    5    0.9525\n",
      "5    6    0.9445\n",
      "6    7    0.9495\n",
      "7    8    0.9425\n",
      "8    9    0.9460\n",
      "9   10    0.9430\n",
      "10  11    0.9450\n",
      "11  12    0.9390\n",
      "12  13    0.9405\n",
      "13  14    0.9350\n",
      "14  15    0.9380\n"
     ]
    }
   ],
   "source": [
    "train_X = trainNorm.drop('Personal_Loan', axis=1)\n",
    "train_y = trainNorm['Personal_Loan']\n",
    "valid_X = validNorm.drop('Personal_Loan', axis=1)\n",
    "valid_y = validNorm['Personal_Loan']\n",
    "\n",
    "# Train a classifier for different values of k\n",
    "results = []\n",
    "for k in range(1, 16):\n",
    "    knn = KNeighborsClassifier(n_neighbors=k).fit(train_X, train_y)\n",
    "    results.append({\n",
    "        'k': k,\n",
    "        'accuracy': accuracy_score(valid_y, knn.predict(valid_X))\n",
    "    })\n",
    "    \n",
    "# Convert results to a pandas data frame\n",
    "results = pd.DataFrame(results)\n",
    "print(results)"
   ]
  },
  {
   "cell_type": "markdown",
   "id": "aba6f2d9-57e2-46f2-80f2-48db49044017",
   "metadata": {},
   "source": [
    "## Result"
   ]
  },
  {
   "cell_type": "markdown",
   "id": "0060bca3-1c9d-4d5e-baad-884fc0de0f82",
   "metadata": {},
   "source": [
    "From above table we see that accuracy is best when k = 3. Therefore, when we use k = 3, we will get the best classification performance. Choice of k = 3 will balance between overfitting and ignoring the predictor information. If we choose value of k that is less than 3, then we will classify in a way that is very sensitive to the local characteristics of the training data. Likewise, if we choose a very large value of k, such as k = 15, we sould simply predict the most frequent class in the dataset in all cases. K = 15 would be very stable prediction but it will completely ignore the information in the predictors."
   ]
  },
  {
   "cell_type": "markdown",
   "id": "bfdbb5c8-78e8-41bc-bec0-f9459348b6e4",
   "metadata": {},
   "source": [
    "## Confusion Matrix"
   ]
  },
  {
   "cell_type": "markdown",
   "id": "cb3c9398-d324-4107-a835-46aada2cafa3",
   "metadata": {},
   "source": [
    "Displaying the confusion matrix for the validation data that results from using the best k. In our case, it is k = 3."
   ]
  },
  {
   "cell_type": "code",
   "execution_count": 279,
   "id": "9501bf27-dfaa-4ed1-a7b0-d7edb82646d0",
   "metadata": {},
   "outputs": [
    {
     "name": "stdout",
     "output_type": "stream",
     "text": [
      "Confusion Matrix\n",
      "[[1779    6]\n",
      " [  83  132]]\n"
     ]
    }
   ],
   "source": [
    "knn = KNeighborsClassifier(n_neighbors=3).fit(train_X, train_y)\n",
    "predicted = knn.predict(valid_X)\n",
    "\n",
    "cm = confusion_matrix(valid_y, predicted)\n",
    "print('Confusion Matrix')\n",
    "print(cm)"
   ]
  },
  {
   "cell_type": "markdown",
   "id": "b29f4a83-3ff3-44c1-aeea-a66bd2de39e4",
   "metadata": {},
   "source": [
    "Defining method to find counts of Actual and Predicted values so that we can label the axes correctly while plotting confusion matrix."
   ]
  },
  {
   "cell_type": "code",
   "execution_count": 280,
   "id": "c43be200-e120-4daa-b491-4b5ee05ab151",
   "metadata": {},
   "outputs": [],
   "source": [
    "def findOutputCounts(actual, predicted):   \n",
    "    assert isinstance(actual, np.ndarray), \"Argument 'actual' must be a numpy array.\"\n",
    "    assert isinstance(predicted, np.ndarray), \"Argument 'predicted' must be a numpy array.\"\n",
    "    \n",
    "    print('Actual Value Counts')\n",
    "    print('Total Element Count: {}'.format(len(actual)))\n",
    "    print('Not Accept Count: {}'.format(len(actual[actual == 0])))\n",
    "    print('Accept Count: {}'.format(len(actual[actual == 1])))\n",
    "\n",
    "    print('\\nPredicted Value Counts')\n",
    "    print('Total Element Count: {}'.format(len(predicted)))\n",
    "    print('Not Accept Count: {}'.format(len(predicted[predicted == 0])))\n",
    "    print('Accept Count: {}'.format(len(predicted[predicted == 1])))"
   ]
  },
  {
   "cell_type": "code",
   "execution_count": 281,
   "id": "6b655f6e-ac4b-441f-8ae2-3ff2686edede",
   "metadata": {},
   "outputs": [
    {
     "name": "stdout",
     "output_type": "stream",
     "text": [
      "Actual Value Counts\n",
      "Total Element Count: 2000\n",
      "Not Accept Count: 1785\n",
      "Accept Count: 215\n",
      "\n",
      "Predicted Value Counts\n",
      "Total Element Count: 2000\n",
      "Not Accept Count: 1862\n",
      "Accept Count: 138\n"
     ]
    }
   ],
   "source": [
    "findOutputCounts(valid_y.to_numpy(), predicted)"
   ]
  },
  {
   "cell_type": "markdown",
   "id": "f8ff4a8e-1779-4005-a5bf-dd448f3dc89d",
   "metadata": {},
   "source": [
    "Combining information from above confusion matrix and value counts we can conclude following about labels of axes in plot of confusion matrix. \n",
    "\n",
    "1. Sum of values in top row of confusion matrix above (1779 + 6) = 1785, which is Not Accept Count of Actual values as calculated above. Therefore, in the plot below, on the y-axis, where we display Acutal counts, the label of top row will be 'Not Accept'. If the label of top row is 'Not Accept' then label of bottom row will be 'Accept'.\n",
    "\n",
    "2. Likewise, Sum values in the first column of confusion matrix above (1779 + 83) = 1862, which is Not Accept Count of Predicted values as calculated above. Therefore, the plot below, on the x-axis, where we display Predicted counts, the label of first column will be 'Not Accept'. If the label of first column is 'Not Accept', then the label of second column will be 'Accept'."
   ]
  },
  {
   "cell_type": "markdown",
   "id": "6d873b1d-9958-4453-83de-f6922c91796b",
   "metadata": {},
   "source": [
    "Defining method to plot confusion matrix"
   ]
  },
  {
   "cell_type": "code",
   "execution_count": 282,
   "id": "7d708478-3aec-4b07-820d-351e2e8f2e4a",
   "metadata": {},
   "outputs": [],
   "source": [
    "def PlotConfusionMatrix(cm):\n",
    "    fig, ax = plt.subplots()\n",
    "    im = ax.imshow(cm)\n",
    "\n",
    "    # Showing all ticks and labelling them with the respective list entries\n",
    "    ax.set_xticks(np.arange(2), labels=['Not Accept', 'Accept'])\n",
    "    ax.set_yticks(np.arange(2), labels=['Not Accept', 'Accept'])\n",
    "\n",
    "    # Setting labels for x-axis and y-axis\n",
    "    ax.set_xlabel('Predicted', fontsize=13)\n",
    "    ax.set_ylabel('Actual', fontsize=13)\n",
    "\n",
    "    # Creating text annotations.\n",
    "    for i in range(2):\n",
    "        for j in range(2):\n",
    "            text = ax.text(j, i, cm[i, j], color='r')\n",
    "\n",
    "    ax.set_title('Confusion Matrix', fontsize=15)\n",
    "    fig.tight_layout()\n",
    "    plt.show()"
   ]
  },
  {
   "cell_type": "code",
   "execution_count": 283,
   "id": "809e6cbc-4e3a-4dfa-b733-147bbcca2f59",
   "metadata": {},
   "outputs": [
    {
     "data": {
      "image/png": "[encoded data removed]",
      "text/plain": [
       "<Figure size 640x480 with 1 Axes>"
      ]
     },
     "metadata": {},
     "output_type": "display_data"
    }
   ],
   "source": [
    "PlotConfusionMatrix(cm)"
   ]
  },
  {
   "cell_type": "markdown",
   "id": "064240f1-f5ef-490f-9228-3e5a030abcdc",
   "metadata": {},
   "source": [
    "## Classifying Prospect Customer using best K = 3"
   ]
  },
  {
   "cell_type": "markdown",
   "id": "b95b93fe-79de-464c-9134-841dec6ebc46",
   "metadata": {},
   "source": [
    "Our knn object is already fit to use best k = 3. We did this when we wanted to calculate confusion matrix (see above). "
   ]
  },
  {
   "cell_type": "code",
   "execution_count": 284,
   "id": "94741470-1e00-4d2b-9266-cb768251ce11",
   "metadata": {},
   "outputs": [
    {
     "name": "stdout",
     "output_type": "stream",
     "text": [
      "Prediction:  [1]\n",
      "Distances:  [[90.53760376 90.55816785 90.59831276]]\n",
      "Indices:  [[1438 2600 1546]]\n",
      "           Age  Experience    Income    Family     CCAvg  Mortgage  \\\n",
      "662   1.709914    1.817647  2.462830  0.529738  0.049677 -0.547625   \n",
      "4292  1.536362    1.470326  2.594686 -0.340587  1.370200  1.469803   \n",
      "940   1.362811    1.383496  2.638638 -1.210912  1.599856  1.450121   \n",
      "\n",
      "      Securities_Account  CD_Account    Online  CreditCard  Education_1  \\\n",
      "662            -0.346151   -0.248891 -1.240190   -0.645314    -0.856799   \n",
      "4292           -0.346151   -0.248891 -1.240190   -0.645314    -0.856799   \n",
      "940            -0.346151   -0.248891  0.806328   -0.645314    -0.856799   \n",
      "\n",
      "      Education_2  Education_3  Personal_Loan  \n",
      "662      1.587806    -0.643242              1  \n",
      "4292    -0.629800     1.554624              1  \n",
      "940     -0.629800     1.554624              1  \n"
     ]
    }
   ],
   "source": [
    "print('Prediction: ', knn.predict(prospect))\n",
    "\n",
    "distances, indices = knn.kneighbors(prospect)\n",
    "print('Distances: ', distances)\n",
    "print('Indices: ', indices)\n",
    "print(trainNorm.iloc[indices[0], :])"
   ]
  },
  {
   "cell_type": "markdown",
   "id": "1c32d136-2cbf-46af-b55c-5e9146a4b698",
   "metadata": {},
   "source": [
    "## Result"
   ]
  },
  {
   "cell_type": "markdown",
   "id": "a7e2052b-b166-4400-aad3-4faaa6239e12",
   "metadata": {},
   "source": [
    "From above results we see that our prospect customer is most likely to accept the personal loan offer since our prospect customers' closest neighbors are loan accepting customers. Note that this result is different from the k-nn = 1 that we calculated first. This is because with k-nn = 1, we trained the algorithm on whole dataset, whereas with k-nn = 3, we trained the dataset on only training data. In addition, earlier we used only one neighbor and this time we used 3 neighbors. "
   ]
  },
  {
   "cell_type": "markdown",
   "id": "9a910bd4-e8db-434e-8917-f9abea3ebb03",
   "metadata": {},
   "source": [
    "## Repartitioning the data"
   ]
  },
  {
   "cell_type": "markdown",
   "id": "b8b975ed-151a-4128-9bc5-34f03480461d",
   "metadata": {},
   "source": [
    "Repartitioning the data, this time into training, validation, and test sets (50%:30%:20%)."
   ]
  },
  {
   "cell_type": "code",
   "execution_count": 285,
   "id": "117454e1-5d42-4ea0-9a83-76548fe3595f",
   "metadata": {},
   "outputs": [
    {
     "name": "stdout",
     "output_type": "stream",
     "text": [
      "(2500, 14)\n",
      "(2500, 14)\n"
     ]
    }
   ],
   "source": [
    "trainNorm, remainingNorm = train_test_split(dfNorm, test_size=0.5, random_state=26)\n",
    "print(trainNorm.shape)\n",
    "print(remainingNorm.shape)"
   ]
  },
  {
   "cell_type": "code",
   "execution_count": 286,
   "id": "ad924d2a-6a4d-4848-bffa-36c7207f3cb4",
   "metadata": {},
   "outputs": [
    {
     "name": "stdout",
     "output_type": "stream",
     "text": [
      "(1500, 14)\n",
      "(1000, 14)\n"
     ]
    }
   ],
   "source": [
    "validNorm, testNorm = train_test_split(remainingNorm, test_size=0.4, random_state=26)\n",
    "print(validNorm.shape)\n",
    "print(testNorm.shape)"
   ]
  },
  {
   "cell_type": "code",
   "execution_count": 287,
   "id": "2c601aec-8b7d-4538-94f4-444b77912cbc",
   "metadata": {},
   "outputs": [],
   "source": [
    "train_X = trainNorm.drop('Personal_Loan', axis=1)\n",
    "train_y = trainNorm['Personal_Loan']\n",
    "valid_X = validNorm.drop('Personal_Loan', axis=1)\n",
    "valid_y = validNorm['Personal_Loan']\n",
    "test_X = testNorm.drop('Personal_Loan', axis=1)\n",
    "test_y = testNorm['Personal_Loan']"
   ]
  },
  {
   "cell_type": "markdown",
   "id": "499a3bb4-5249-437a-a1f5-6de8afefa1dd",
   "metadata": {},
   "source": [
    "## K-NN Classification (K = 3)"
   ]
  },
  {
   "cell_type": "code",
   "execution_count": 288,
   "id": "98b6ec87-aab2-4870-8614-465738a248b0",
   "metadata": {},
   "outputs": [],
   "source": [
    "knn = KNeighborsClassifier(n_neighbors=3).fit(train_X, train_y)"
   ]
  },
  {
   "cell_type": "markdown",
   "id": "dea18b5d-c63f-4cba-b808-5561b87ef086",
   "metadata": {},
   "source": [
    "Computing confusion matrix of training data"
   ]
  },
  {
   "cell_type": "code",
   "execution_count": 289,
   "id": "88ffec1d-df02-4d34-9880-20530ddb1bda",
   "metadata": {},
   "outputs": [
    {
     "name": "stdout",
     "output_type": "stream",
     "text": [
      "Accuracy Score:  0.9764\n",
      "Confusion Matrix\n",
      "[[2271    5]\n",
      " [  54  170]]\n"
     ]
    }
   ],
   "source": [
    "predicted = knn.predict(train_X)\n",
    "\n",
    "cm = confusion_matrix(train_y, predicted)\n",
    "print('Accuracy Score: ', accuracy_score(train_y, predicted))\n",
    "print('Confusion Matrix')\n",
    "print(cm)"
   ]
  },
  {
   "cell_type": "code",
   "execution_count": 290,
   "id": "501ede7f-0bce-4aae-bf8b-84c84cca1c9b",
   "metadata": {},
   "outputs": [
    {
     "name": "stdout",
     "output_type": "stream",
     "text": [
      "Actual Value Counts\n",
      "Total Element Count: 2500\n",
      "Not Accept Count: 2276\n",
      "Accept Count: 224\n",
      "\n",
      "Predicted Value Counts\n",
      "Total Element Count: 2500\n",
      "Not Accept Count: 2325\n",
      "Accept Count: 175\n"
     ]
    }
   ],
   "source": [
    "findOutputCounts(train_y.to_numpy(), predicted)"
   ]
  },
  {
   "cell_type": "code",
   "execution_count": 291,
   "id": "130145bb-5c8b-4042-9cab-77817401c6a8",
   "metadata": {},
   "outputs": [
    {
     "data": {
      "image/png": "[encoded data removed]",
      "text/plain": [
       "<Figure size 640x480 with 1 Axes>"
      ]
     },
     "metadata": {},
     "output_type": "display_data"
    }
   ],
   "source": [
    "PlotConfusionMatrix(cm)"
   ]
  },
  {
   "cell_type": "markdown",
   "id": "af27758e-403e-4310-b449-af1d35913701",
   "metadata": {},
   "source": [
    "Computing confusion matrix of validation data"
   ]
  },
  {
   "cell_type": "code",
   "execution_count": 292,
   "id": "63c4916b-c190-4e0d-a408-99b497cc6cae",
   "metadata": {},
   "outputs": [
    {
     "name": "stdout",
     "output_type": "stream",
     "text": [
      "Accuracy Score:  0.9573333333333334\n",
      "Confusion Matrix\n",
      "[[1345    8]\n",
      " [  56   91]]\n"
     ]
    }
   ],
   "source": [
    "predicted = knn.predict(valid_X)\n",
    "\n",
    "cm = confusion_matrix(valid_y, predicted)\n",
    "print('Accuracy Score: ', accuracy_score(valid_y, predicted))\n",
    "print('Confusion Matrix')\n",
    "print(cm)"
   ]
  },
  {
   "cell_type": "code",
   "execution_count": 293,
   "id": "7e51ff9e-9a2a-4a65-baab-58e1f41a0e17",
   "metadata": {},
   "outputs": [
    {
     "name": "stdout",
     "output_type": "stream",
     "text": [
      "Actual Value Counts\n",
      "Total Element Count: 1500\n",
      "Not Accept Count: 1353\n",
      "Accept Count: 147\n",
      "\n",
      "Predicted Value Counts\n",
      "Total Element Count: 1500\n",
      "Not Accept Count: 1401\n",
      "Accept Count: 99\n"
     ]
    }
   ],
   "source": [
    "findOutputCounts(valid_y.to_numpy(), predicted)"
   ]
  },
  {
   "cell_type": "code",
   "execution_count": 294,
   "id": "6d3608e6-2a9f-4bb9-a983-cf903a32d566",
   "metadata": {},
   "outputs": [
    {
     "data": {
      "image/png": "[encoded data removed]",
      "text/plain": [
       "<Figure size 640x480 with 1 Axes>"
      ]
     },
     "metadata": {},
     "output_type": "display_data"
    }
   ],
   "source": [
    "PlotConfusionMatrix(cm)"
   ]
  },
  {
   "cell_type": "markdown",
   "id": "51d9e376-c347-47db-b295-92ae68640308",
   "metadata": {},
   "source": [
    "Computing confusion matrix of test data"
   ]
  },
  {
   "cell_type": "code",
   "execution_count": 295,
   "id": "4e11845d-8109-4663-a719-ff4f78607097",
   "metadata": {},
   "outputs": [
    {
     "name": "stdout",
     "output_type": "stream",
     "text": [
      "Accuracy Score:  0.959\n",
      "Confusion Matrix\n",
      "[[890   1]\n",
      " [ 40  69]]\n"
     ]
    }
   ],
   "source": [
    "predicted = knn.predict(test_X)\n",
    "\n",
    "cm = confusion_matrix(test_y, predicted)\n",
    "print('Accuracy Score: ', accuracy_score(test_y, predicted))\n",
    "print('Confusion Matrix')\n",
    "print(cm)"
   ]
  },
  {
   "cell_type": "code",
   "execution_count": 296,
   "id": "c5fc9fa5-10f1-49c3-a7c4-199bf5e52ec5",
   "metadata": {},
   "outputs": [
    {
     "name": "stdout",
     "output_type": "stream",
     "text": [
      "Actual Value Counts\n",
      "Total Element Count: 1000\n",
      "Not Accept Count: 891\n",
      "Accept Count: 109\n",
      "\n",
      "Predicted Value Counts\n",
      "Total Element Count: 1000\n",
      "Not Accept Count: 930\n",
      "Accept Count: 70\n"
     ]
    }
   ],
   "source": [
    "findOutputCounts(test_y.to_numpy(), predicted)"
   ]
  },
  {
   "cell_type": "code",
   "execution_count": 297,
   "id": "b189e3c6-0828-4cf4-88bf-3794893b7ca7",
   "metadata": {},
   "outputs": [
    {
     "data": {
      "image/png": "[encoded data removed]",
      "text/plain": [
       "<Figure size 640x480 with 1 Axes>"
      ]
     },
     "metadata": {},
     "output_type": "display_data"
    }
   ],
   "source": [
    "PlotConfusionMatrix(cm)"
   ]
  },
  {
   "cell_type": "markdown",
   "id": "447b1dc1-c599-4dc3-9676-626c07ed7bf9",
   "metadata": {},
   "source": [
    "## Result"
   ]
  },
  {
   "cell_type": "markdown",
   "id": "2b7d9949-6618-4e8d-b786-ed0507bfdd01",
   "metadata": {},
   "source": [
    "The diagonal elements of the confusion matrix represent the correct predictions, while the off-diagonal elements represent the errors. You want to have high values on the diagonal and low values on the off-diagonal. If we compare confusion  matrix of the test dataset with that of training and validation dataset, we see that, in the test set diagonal elements have high values and off-diagonal elements have low values compared to diagonal and non-diagonal values of confusion matrices of validation and training datasets. There is not a huge difference but values of test set are still lower than values of validation and training sets. This means our algorighm is doing well while classifying. "
   ]
  }
 ],
 "metadata": {
  "kernelspec": {
   "display_name": "Python 3 (ipykernel)",
   "language": "python",
   "name": "python3"
  },
  "language_info": {
   "codemirror_mode": {
    "name": "ipython",
    "version": 3
   },
   "file_extension": ".py",
   "mimetype": "text/x-python",
   "name": "python",
   "nbconvert_exporter": "python",
   "pygments_lexer": "ipython3",
   "version": "3.10.9"
  }
 },
 "nbformat": 4,
 "nbformat_minor": 5
}
