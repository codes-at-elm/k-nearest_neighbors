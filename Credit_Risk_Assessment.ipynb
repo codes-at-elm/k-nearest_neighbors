{
 "cells": [
  {
   "cell_type": "markdown",
   "id": "8f2cdb87-ff86-40f7-a032-f9910513d425",
   "metadata": {},
   "source": [
    "# K-NN Classifier - Credit Risk Assessment"
   ]
  },
  {
   "cell_type": "markdown",
   "id": "7fa18d1b-25d1-4ab0-887b-b59788158384",
   "metadata": {},
   "source": [
    "## Importing Libraries"
   ]
  },
  {
   "cell_type": "code",
   "execution_count": 235,
   "id": "32af5617-7187-4d2a-989d-87c7bf949e43",
   "metadata": {},
   "outputs": [],
   "source": [
    "import pandas as pd\n",
    "import numpy as np\n",
    "\n",
    "from IPython.display import display\n",
    "\n",
    "from sklearn.model_selection import train_test_split\n",
    "from sklearn import preprocessing\n",
    "from sklearn.neighbors import KNeighborsClassifier\n",
    "from sklearn.metrics import accuracy_score, confusion_matrix\n",
    "\n",
    "import matplotlib.pyplot as plt"
   ]
  },
  {
   "cell_type": "markdown",
   "id": "747ed4b2-4b27-44b4-afd1-a7b4f68fb637",
   "metadata": {},
   "source": [
    "## Setting Options"
   ]
  },
  {
   "cell_type": "code",
   "execution_count": 236,
   "id": "ea305bdd-f519-49be-a8c8-aa4622392d6b",
   "metadata": {},
   "outputs": [],
   "source": [
    "# set the option to display all columns\n",
    "pd.set_option('display.max_columns', None)"
   ]
  },
  {
   "cell_type": "markdown",
   "id": "a67d8cbb-c2ee-41b0-bdfa-19f8e36dea54",
   "metadata": {},
   "source": [
    "## Loading Dataset"
   ]
  },
  {
   "cell_type": "code",
   "execution_count": 237,
   "id": "436cf334-e6e2-424d-98cd-a12c3ec80a41",
   "metadata": {},
   "outputs": [
    {
     "data": {
      "text/html": [
       "<div>\n",
       "<style scoped>\n",
       "    .dataframe tbody tr th:only-of-type {\n",
       "        vertical-align: middle;\n",
       "    }\n",
       "\n",
       "    .dataframe tbody tr th {\n",
       "        vertical-align: top;\n",
       "    }\n",
       "\n",
       "    .dataframe thead th {\n",
       "        text-align: right;\n",
       "    }\n",
       "</style>\n",
       "<table border=\"1\" class=\"dataframe\">\n",
       "  <thead>\n",
       "    <tr style=\"text-align: right;\">\n",
       "      <th></th>\n",
       "      <th>person_age</th>\n",
       "      <th>person_income</th>\n",
       "      <th>person_home_ownership</th>\n",
       "      <th>person_emp_length</th>\n",
       "      <th>loan_intent</th>\n",
       "      <th>loan_grade</th>\n",
       "      <th>loan_amnt</th>\n",
       "      <th>loan_int_rate</th>\n",
       "      <th>loan_status</th>\n",
       "      <th>loan_percent_income</th>\n",
       "      <th>cb_person_default_on_file</th>\n",
       "      <th>cb_person_cred_hist_length</th>\n",
       "    </tr>\n",
       "  </thead>\n",
       "  <tbody>\n",
       "    <tr>\n",
       "      <th>0</th>\n",
       "      <td>22</td>\n",
       "      <td>59000</td>\n",
       "      <td>RENT</td>\n",
       "      <td>123.0</td>\n",
       "      <td>PERSONAL</td>\n",
       "      <td>D</td>\n",
       "      <td>35000</td>\n",
       "      <td>16.02</td>\n",
       "      <td>1</td>\n",
       "      <td>0.59</td>\n",
       "      <td>Y</td>\n",
       "      <td>3</td>\n",
       "    </tr>\n",
       "    <tr>\n",
       "      <th>1</th>\n",
       "      <td>21</td>\n",
       "      <td>9600</td>\n",
       "      <td>OWN</td>\n",
       "      <td>5.0</td>\n",
       "      <td>EDUCATION</td>\n",
       "      <td>B</td>\n",
       "      <td>1000</td>\n",
       "      <td>11.14</td>\n",
       "      <td>0</td>\n",
       "      <td>0.10</td>\n",
       "      <td>N</td>\n",
       "      <td>2</td>\n",
       "    </tr>\n",
       "    <tr>\n",
       "      <th>2</th>\n",
       "      <td>25</td>\n",
       "      <td>9600</td>\n",
       "      <td>MORTGAGE</td>\n",
       "      <td>1.0</td>\n",
       "      <td>MEDICAL</td>\n",
       "      <td>C</td>\n",
       "      <td>5500</td>\n",
       "      <td>12.87</td>\n",
       "      <td>1</td>\n",
       "      <td>0.57</td>\n",
       "      <td>N</td>\n",
       "      <td>3</td>\n",
       "    </tr>\n",
       "    <tr>\n",
       "      <th>3</th>\n",
       "      <td>23</td>\n",
       "      <td>65500</td>\n",
       "      <td>RENT</td>\n",
       "      <td>4.0</td>\n",
       "      <td>MEDICAL</td>\n",
       "      <td>C</td>\n",
       "      <td>35000</td>\n",
       "      <td>15.23</td>\n",
       "      <td>1</td>\n",
       "      <td>0.53</td>\n",
       "      <td>N</td>\n",
       "      <td>2</td>\n",
       "    </tr>\n",
       "    <tr>\n",
       "      <th>4</th>\n",
       "      <td>24</td>\n",
       "      <td>54400</td>\n",
       "      <td>RENT</td>\n",
       "      <td>8.0</td>\n",
       "      <td>MEDICAL</td>\n",
       "      <td>C</td>\n",
       "      <td>35000</td>\n",
       "      <td>14.27</td>\n",
       "      <td>1</td>\n",
       "      <td>0.55</td>\n",
       "      <td>Y</td>\n",
       "      <td>4</td>\n",
       "    </tr>\n",
       "  </tbody>\n",
       "</table>\n",
       "</div>"
      ],
      "text/plain": [
       "   person_age  person_income person_home_ownership  person_emp_length  \\\n",
       "0          22          59000                  RENT              123.0   \n",
       "1          21           9600                   OWN                5.0   \n",
       "2          25           9600              MORTGAGE                1.0   \n",
       "3          23          65500                  RENT                4.0   \n",
       "4          24          54400                  RENT                8.0   \n",
       "\n",
       "  loan_intent loan_grade  loan_amnt  loan_int_rate  loan_status  \\\n",
       "0    PERSONAL          D      35000          16.02            1   \n",
       "1   EDUCATION          B       1000          11.14            0   \n",
       "2     MEDICAL          C       5500          12.87            1   \n",
       "3     MEDICAL          C      35000          15.23            1   \n",
       "4     MEDICAL          C      35000          14.27            1   \n",
       "\n",
       "   loan_percent_income cb_person_default_on_file  cb_person_cred_hist_length  \n",
       "0                 0.59                         Y                           3  \n",
       "1                 0.10                         N                           2  \n",
       "2                 0.57                         N                           3  \n",
       "3                 0.53                         N                           2  \n",
       "4                 0.55                         Y                           4  "
      ]
     },
     "metadata": {},
     "output_type": "display_data"
    }
   ],
   "source": [
    "df = pd.read_csv('CreditRisk.csv', skipinitialspace=True)\n",
    "display(df.head())"
   ]
  },
  {
   "cell_type": "code",
   "execution_count": 238,
   "id": "92a5d7b9-611b-43b8-b1c7-0eb29fe0de1a",
   "metadata": {},
   "outputs": [
    {
     "name": "stdout",
     "output_type": "stream",
     "text": [
      "<class 'pandas.core.frame.DataFrame'>\n",
      "RangeIndex: 32581 entries, 0 to 32580\n",
      "Data columns (total 12 columns):\n",
      " #   Column                      Non-Null Count  Dtype  \n",
      "---  ------                      --------------  -----  \n",
      " 0   person_age                  32581 non-null  int64  \n",
      " 1   person_income               32581 non-null  int64  \n",
      " 2   person_home_ownership       32581 non-null  object \n",
      " 3   person_emp_length           31686 non-null  float64\n",
      " 4   loan_intent                 32581 non-null  object \n",
      " 5   loan_grade                  32581 non-null  object \n",
      " 6   loan_amnt                   32581 non-null  int64  \n",
      " 7   loan_int_rate               29465 non-null  float64\n",
      " 8   loan_status                 32581 non-null  int64  \n",
      " 9   loan_percent_income         32581 non-null  float64\n",
      " 10  cb_person_default_on_file   32581 non-null  object \n",
      " 11  cb_person_cred_hist_length  32581 non-null  int64  \n",
      "dtypes: float64(3), int64(5), object(4)\n",
      "memory usage: 3.0+ MB\n"
     ]
    }
   ],
   "source": [
    "df.info()"
   ]
  },
  {
   "cell_type": "markdown",
   "id": "83245c5d-af9b-4db1-8c32-3e51399106fc",
   "metadata": {},
   "source": [
    "## Data Preprocessing"
   ]
  },
  {
   "cell_type": "markdown",
   "id": "952216d0-848b-4a57-955a-7e1da5b579bd",
   "metadata": {},
   "source": [
    "Finding duplicate rows."
   ]
  },
  {
   "cell_type": "code",
   "execution_count": 239,
   "id": "d5199d35-296c-462f-af02-890c871bc28c",
   "metadata": {},
   "outputs": [
    {
     "data": {
      "text/plain": [
       "165"
      ]
     },
     "execution_count": 239,
     "metadata": {},
     "output_type": "execute_result"
    }
   ],
   "source": [
    "df.duplicated(subset=None, keep='first').sum()"
   ]
  },
  {
   "cell_type": "markdown",
   "id": "5c6c995c-f203-45dc-b4db-4c21a060a75f",
   "metadata": {},
   "source": [
    "Dropping duplicate rows."
   ]
  },
  {
   "cell_type": "code",
   "execution_count": 240,
   "id": "3e3bfbe4-b9c2-478a-9a86-c46c4e77432a",
   "metadata": {},
   "outputs": [
    {
     "data": {
      "text/plain": [
       "0"
      ]
     },
     "execution_count": 240,
     "metadata": {},
     "output_type": "execute_result"
    }
   ],
   "source": [
    "df.drop_duplicates(subset=None, keep='first', inplace=True)\n",
    "df.duplicated(subset=None, keep='first').sum()"
   ]
  },
  {
   "cell_type": "markdown",
   "id": "83acd3ec-2ed9-48a6-a6f3-34b4d02e1c85",
   "metadata": {},
   "source": [
    "Finding missing values"
   ]
  },
  {
   "cell_type": "code",
   "execution_count": 241,
   "id": "b4d7a7a9-8fa9-46a3-b07a-c80533aa6e8b",
   "metadata": {},
   "outputs": [
    {
     "data": {
      "text/plain": [
       "person_age                       0\n",
       "person_income                    0\n",
       "person_home_ownership            0\n",
       "person_emp_length              887\n",
       "loan_intent                      0\n",
       "loan_grade                       0\n",
       "loan_amnt                        0\n",
       "loan_int_rate                 3095\n",
       "loan_status                      0\n",
       "loan_percent_income              0\n",
       "cb_person_default_on_file        0\n",
       "cb_person_cred_hist_length       0\n",
       "dtype: int64"
      ]
     },
     "execution_count": 241,
     "metadata": {},
     "output_type": "execute_result"
    }
   ],
   "source": [
    "df.isnull().sum(axis=0)"
   ]
  },
  {
   "cell_type": "markdown",
   "id": "b902c355-d0be-484a-9f9f-f11318f2f05a",
   "metadata": {},
   "source": [
    "We see that there are 895 values missing from 'person_emp_length' column and 3116 values missing from 'loan_int_rate' column. \n",
    "\n",
    "'person_emp_length' column is employment length in years. Therefore, we will replace missing values in 'person_emp_length' with 0, assuming 0 means person is employed for less than a year. Similarly, we will replace missing values in 'loan_int_rate' column with minimum value of the column assuming the person is paying minimum interest rate since no loan is free and there must be some interest rate on any kind of loan. "
   ]
  },
  {
   "cell_type": "code",
   "execution_count": 242,
   "id": "10065d61-426d-4190-be7d-e5f37c99be40",
   "metadata": {},
   "outputs": [],
   "source": [
    "df['person_emp_length'].fillna(0, inplace=True)\n",
    "df['loan_int_rate'].fillna(df['loan_int_rate'].min(), inplace=True)"
   ]
  },
  {
   "cell_type": "code",
   "execution_count": 243,
   "id": "a0cbb145-5311-4a2b-8d7b-a344c1eb3884",
   "metadata": {},
   "outputs": [
    {
     "data": {
      "text/plain": [
       "person_age                    0\n",
       "person_income                 0\n",
       "person_home_ownership         0\n",
       "person_emp_length             0\n",
       "loan_intent                   0\n",
       "loan_grade                    0\n",
       "loan_amnt                     0\n",
       "loan_int_rate                 0\n",
       "loan_status                   0\n",
       "loan_percent_income           0\n",
       "cb_person_default_on_file     0\n",
       "cb_person_cred_hist_length    0\n",
       "dtype: int64"
      ]
     },
     "execution_count": 243,
     "metadata": {},
     "output_type": "execute_result"
    }
   ],
   "source": [
    "df.isnull().sum(axis=0)"
   ]
  },
  {
   "cell_type": "markdown",
   "id": "d9bed216-af2d-4292-9b94-d7549d3f9caf",
   "metadata": {},
   "source": [
    "Now that there are no missing values from the dataset. Next we will check for outliers."
   ]
  },
  {
   "cell_type": "code",
   "execution_count": 244,
   "id": "b78f2bb3-a881-4107-ab4a-248df39dfa28",
   "metadata": {},
   "outputs": [
    {
     "data": {
      "text/html": [
       "<div>\n",
       "<style scoped>\n",
       "    .dataframe tbody tr th:only-of-type {\n",
       "        vertical-align: middle;\n",
       "    }\n",
       "\n",
       "    .dataframe tbody tr th {\n",
       "        vertical-align: top;\n",
       "    }\n",
       "\n",
       "    .dataframe thead th {\n",
       "        text-align: right;\n",
       "    }\n",
       "</style>\n",
       "<table border=\"1\" class=\"dataframe\">\n",
       "  <thead>\n",
       "    <tr style=\"text-align: right;\">\n",
       "      <th></th>\n",
       "      <th>person_age</th>\n",
       "      <th>person_income</th>\n",
       "      <th>person_emp_length</th>\n",
       "      <th>loan_amnt</th>\n",
       "      <th>loan_int_rate</th>\n",
       "      <th>loan_status</th>\n",
       "      <th>loan_percent_income</th>\n",
       "      <th>cb_person_cred_hist_length</th>\n",
       "    </tr>\n",
       "  </thead>\n",
       "  <tbody>\n",
       "    <tr>\n",
       "      <th>count</th>\n",
       "      <td>32416.000000</td>\n",
       "      <td>3.241600e+04</td>\n",
       "      <td>32416.000000</td>\n",
       "      <td>32416.000000</td>\n",
       "      <td>32416.000000</td>\n",
       "      <td>32416.000000</td>\n",
       "      <td>32416.000000</td>\n",
       "      <td>32416.000000</td>\n",
       "    </tr>\n",
       "    <tr>\n",
       "      <th>mean</th>\n",
       "      <td>27.747008</td>\n",
       "      <td>6.609164e+04</td>\n",
       "      <td>4.659427</td>\n",
       "      <td>9593.845632</td>\n",
       "      <td>10.482852</td>\n",
       "      <td>0.218688</td>\n",
       "      <td>0.170250</td>\n",
       "      <td>5.811297</td>\n",
       "    </tr>\n",
       "    <tr>\n",
       "      <th>std</th>\n",
       "      <td>6.354100</td>\n",
       "      <td>6.201558e+04</td>\n",
       "      <td>4.162406</td>\n",
       "      <td>6322.730241</td>\n",
       "      <td>3.494406</td>\n",
       "      <td>0.413363</td>\n",
       "      <td>0.106812</td>\n",
       "      <td>4.059030</td>\n",
       "    </tr>\n",
       "    <tr>\n",
       "      <th>min</th>\n",
       "      <td>20.000000</td>\n",
       "      <td>4.000000e+03</td>\n",
       "      <td>0.000000</td>\n",
       "      <td>500.000000</td>\n",
       "      <td>5.420000</td>\n",
       "      <td>0.000000</td>\n",
       "      <td>0.000000</td>\n",
       "      <td>2.000000</td>\n",
       "    </tr>\n",
       "    <tr>\n",
       "      <th>25%</th>\n",
       "      <td>23.000000</td>\n",
       "      <td>3.854200e+04</td>\n",
       "      <td>2.000000</td>\n",
       "      <td>5000.000000</td>\n",
       "      <td>7.490000</td>\n",
       "      <td>0.000000</td>\n",
       "      <td>0.090000</td>\n",
       "      <td>3.000000</td>\n",
       "    </tr>\n",
       "    <tr>\n",
       "      <th>50%</th>\n",
       "      <td>26.000000</td>\n",
       "      <td>5.500000e+04</td>\n",
       "      <td>4.000000</td>\n",
       "      <td>8000.000000</td>\n",
       "      <td>10.620000</td>\n",
       "      <td>0.000000</td>\n",
       "      <td>0.150000</td>\n",
       "      <td>4.000000</td>\n",
       "    </tr>\n",
       "    <tr>\n",
       "      <th>75%</th>\n",
       "      <td>30.000000</td>\n",
       "      <td>7.921800e+04</td>\n",
       "      <td>7.000000</td>\n",
       "      <td>12250.000000</td>\n",
       "      <td>13.110000</td>\n",
       "      <td>0.000000</td>\n",
       "      <td>0.230000</td>\n",
       "      <td>8.000000</td>\n",
       "    </tr>\n",
       "    <tr>\n",
       "      <th>max</th>\n",
       "      <td>144.000000</td>\n",
       "      <td>6.000000e+06</td>\n",
       "      <td>123.000000</td>\n",
       "      <td>35000.000000</td>\n",
       "      <td>23.220000</td>\n",
       "      <td>1.000000</td>\n",
       "      <td>0.830000</td>\n",
       "      <td>30.000000</td>\n",
       "    </tr>\n",
       "  </tbody>\n",
       "</table>\n",
       "</div>"
      ],
      "text/plain": [
       "         person_age  person_income  person_emp_length     loan_amnt  \\\n",
       "count  32416.000000   3.241600e+04       32416.000000  32416.000000   \n",
       "mean      27.747008   6.609164e+04           4.659427   9593.845632   \n",
       "std        6.354100   6.201558e+04           4.162406   6322.730241   \n",
       "min       20.000000   4.000000e+03           0.000000    500.000000   \n",
       "25%       23.000000   3.854200e+04           2.000000   5000.000000   \n",
       "50%       26.000000   5.500000e+04           4.000000   8000.000000   \n",
       "75%       30.000000   7.921800e+04           7.000000  12250.000000   \n",
       "max      144.000000   6.000000e+06         123.000000  35000.000000   \n",
       "\n",
       "       loan_int_rate   loan_status  loan_percent_income  \\\n",
       "count   32416.000000  32416.000000         32416.000000   \n",
       "mean       10.482852      0.218688             0.170250   \n",
       "std         3.494406      0.413363             0.106812   \n",
       "min         5.420000      0.000000             0.000000   \n",
       "25%         7.490000      0.000000             0.090000   \n",
       "50%        10.620000      0.000000             0.150000   \n",
       "75%        13.110000      0.000000             0.230000   \n",
       "max        23.220000      1.000000             0.830000   \n",
       "\n",
       "       cb_person_cred_hist_length  \n",
       "count                32416.000000  \n",
       "mean                     5.811297  \n",
       "std                      4.059030  \n",
       "min                      2.000000  \n",
       "25%                      3.000000  \n",
       "50%                      4.000000  \n",
       "75%                      8.000000  \n",
       "max                     30.000000  "
      ]
     },
     "execution_count": 244,
     "metadata": {},
     "output_type": "execute_result"
    }
   ],
   "source": [
    "df.describe()"
   ]
  },
  {
   "cell_type": "markdown",
   "id": "79f2abc0-a342-4db3-83ed-0887bfb70190",
   "metadata": {},
   "source": [
    "Description of the dataset shows that 'person_age' and 'person_emp_length' columns has outlier values. Maximum value in 'person_age' and 'person_emp_length' column is 144 and 123 respectively, which does not seem correct. We will stick to assessing credit risk of customers whose age and employment length is reasonable and not exceptional. Therefore, we will remove rows from our dataset where age and employment length of a person is greater than 85. Values in other columns seems correct and don't need fixing."
   ]
  },
  {
   "cell_type": "code",
   "execution_count": 245,
   "id": "74b62040-65a1-4c67-ab3d-6ab022ade1ad",
   "metadata": {},
   "outputs": [
    {
     "name": "stdout",
     "output_type": "stream",
     "text": [
      "(32416, 12)\n"
     ]
    }
   ],
   "source": [
    "print(df.shape)\n",
    "df.drop(df.index[(df.person_age > 85) | (df.person_emp_length > 85)], inplace=True)"
   ]
  },
  {
   "cell_type": "code",
   "execution_count": 246,
   "id": "922f8cc1-e42b-443e-ab37-8dfb2fb6887b",
   "metadata": {},
   "outputs": [
    {
     "data": {
      "text/html": [
       "<div>\n",
       "<style scoped>\n",
       "    .dataframe tbody tr th:only-of-type {\n",
       "        vertical-align: middle;\n",
       "    }\n",
       "\n",
       "    .dataframe tbody tr th {\n",
       "        vertical-align: top;\n",
       "    }\n",
       "\n",
       "    .dataframe thead th {\n",
       "        text-align: right;\n",
       "    }\n",
       "</style>\n",
       "<table border=\"1\" class=\"dataframe\">\n",
       "  <thead>\n",
       "    <tr style=\"text-align: right;\">\n",
       "      <th></th>\n",
       "      <th>person_age</th>\n",
       "      <th>person_income</th>\n",
       "      <th>person_emp_length</th>\n",
       "      <th>loan_amnt</th>\n",
       "      <th>loan_int_rate</th>\n",
       "      <th>loan_status</th>\n",
       "      <th>loan_percent_income</th>\n",
       "      <th>cb_person_cred_hist_length</th>\n",
       "    </tr>\n",
       "  </thead>\n",
       "  <tbody>\n",
       "    <tr>\n",
       "      <th>count</th>\n",
       "      <td>32408.000000</td>\n",
       "      <td>3.240800e+04</td>\n",
       "      <td>32408.000000</td>\n",
       "      <td>32408.000000</td>\n",
       "      <td>32408.000000</td>\n",
       "      <td>32408.000000</td>\n",
       "      <td>32408.000000</td>\n",
       "      <td>32408.000000</td>\n",
       "    </tr>\n",
       "    <tr>\n",
       "      <th>mean</th>\n",
       "      <td>27.728709</td>\n",
       "      <td>6.589557e+04</td>\n",
       "      <td>4.652061</td>\n",
       "      <td>9592.582078</td>\n",
       "      <td>10.482915</td>\n",
       "      <td>0.218711</td>\n",
       "      <td>0.170245</td>\n",
       "      <td>5.810541</td>\n",
       "    </tr>\n",
       "    <tr>\n",
       "      <th>std</th>\n",
       "      <td>6.199621</td>\n",
       "      <td>5.251816e+04</td>\n",
       "      <td>4.057471</td>\n",
       "      <td>6320.959306</td>\n",
       "      <td>3.494334</td>\n",
       "      <td>0.413379</td>\n",
       "      <td>0.106785</td>\n",
       "      <td>4.056254</td>\n",
       "    </tr>\n",
       "    <tr>\n",
       "      <th>min</th>\n",
       "      <td>20.000000</td>\n",
       "      <td>4.000000e+03</td>\n",
       "      <td>0.000000</td>\n",
       "      <td>500.000000</td>\n",
       "      <td>5.420000</td>\n",
       "      <td>0.000000</td>\n",
       "      <td>0.000000</td>\n",
       "      <td>2.000000</td>\n",
       "    </tr>\n",
       "    <tr>\n",
       "      <th>25%</th>\n",
       "      <td>23.000000</td>\n",
       "      <td>3.850000e+04</td>\n",
       "      <td>2.000000</td>\n",
       "      <td>5000.000000</td>\n",
       "      <td>7.490000</td>\n",
       "      <td>0.000000</td>\n",
       "      <td>0.090000</td>\n",
       "      <td>3.000000</td>\n",
       "    </tr>\n",
       "    <tr>\n",
       "      <th>50%</th>\n",
       "      <td>26.000000</td>\n",
       "      <td>5.500000e+04</td>\n",
       "      <td>4.000000</td>\n",
       "      <td>8000.000000</td>\n",
       "      <td>10.620000</td>\n",
       "      <td>0.000000</td>\n",
       "      <td>0.150000</td>\n",
       "      <td>4.000000</td>\n",
       "    </tr>\n",
       "    <tr>\n",
       "      <th>75%</th>\n",
       "      <td>30.000000</td>\n",
       "      <td>7.920000e+04</td>\n",
       "      <td>7.000000</td>\n",
       "      <td>12250.000000</td>\n",
       "      <td>13.110000</td>\n",
       "      <td>0.000000</td>\n",
       "      <td>0.230000</td>\n",
       "      <td>8.000000</td>\n",
       "    </tr>\n",
       "    <tr>\n",
       "      <th>max</th>\n",
       "      <td>84.000000</td>\n",
       "      <td>2.039784e+06</td>\n",
       "      <td>41.000000</td>\n",
       "      <td>35000.000000</td>\n",
       "      <td>23.220000</td>\n",
       "      <td>1.000000</td>\n",
       "      <td>0.830000</td>\n",
       "      <td>30.000000</td>\n",
       "    </tr>\n",
       "  </tbody>\n",
       "</table>\n",
       "</div>"
      ],
      "text/plain": [
       "         person_age  person_income  person_emp_length     loan_amnt  \\\n",
       "count  32408.000000   3.240800e+04       32408.000000  32408.000000   \n",
       "mean      27.728709   6.589557e+04           4.652061   9592.582078   \n",
       "std        6.199621   5.251816e+04           4.057471   6320.959306   \n",
       "min       20.000000   4.000000e+03           0.000000    500.000000   \n",
       "25%       23.000000   3.850000e+04           2.000000   5000.000000   \n",
       "50%       26.000000   5.500000e+04           4.000000   8000.000000   \n",
       "75%       30.000000   7.920000e+04           7.000000  12250.000000   \n",
       "max       84.000000   2.039784e+06          41.000000  35000.000000   \n",
       "\n",
       "       loan_int_rate   loan_status  loan_percent_income  \\\n",
       "count   32408.000000  32408.000000         32408.000000   \n",
       "mean       10.482915      0.218711             0.170245   \n",
       "std         3.494334      0.413379             0.106785   \n",
       "min         5.420000      0.000000             0.000000   \n",
       "25%         7.490000      0.000000             0.090000   \n",
       "50%        10.620000      0.000000             0.150000   \n",
       "75%        13.110000      0.000000             0.230000   \n",
       "max        23.220000      1.000000             0.830000   \n",
       "\n",
       "       cb_person_cred_hist_length  \n",
       "count                32408.000000  \n",
       "mean                     5.810541  \n",
       "std                      4.056254  \n",
       "min                      2.000000  \n",
       "25%                      3.000000  \n",
       "50%                      4.000000  \n",
       "75%                      8.000000  \n",
       "max                     30.000000  "
      ]
     },
     "execution_count": 246,
     "metadata": {},
     "output_type": "execute_result"
    }
   ],
   "source": [
    "df.describe()"
   ]
  },
  {
   "cell_type": "markdown",
   "id": "fa3b81d0-6557-4c2b-9605-af72d713842d",
   "metadata": {},
   "source": [
    "Now, we can see that values in 'person_age' and 'person_emp_length' columns are reasonable. Let's check the amount of data loss when we dropped columns to fix outliers in the dataset."
   ]
  },
  {
   "cell_type": "code",
   "execution_count": 247,
   "id": "20f8c6f1-0e48-4082-a2a4-14559b78152e",
   "metadata": {},
   "outputs": [
    {
     "data": {
      "text/plain": [
       "(32408, 12)"
      ]
     },
     "execution_count": 247,
     "metadata": {},
     "output_type": "execute_result"
    }
   ],
   "source": [
    "df.shape"
   ]
  },
  {
   "cell_type": "markdown",
   "id": "487817cd-de66-4ce5-92c7-0c226783e2bf",
   "metadata": {},
   "source": [
    "We can see that we have not lost much data, because before dropping rows we had 32416 rows and after dropping rows we are left with 32408 rows. We lost 8 rows, which means those rows that we deleted were outliers for sure. We are safe. "
   ]
  },
  {
   "cell_type": "markdown",
   "id": "ebcd0aa5-4d48-4f3e-a9a1-dbdfb87af414",
   "metadata": {},
   "source": [
    "Encoding Text Columns"
   ]
  },
  {
   "cell_type": "markdown",
   "id": "1fefbac1-614e-4e0b-87fa-78eec3aeb0fc",
   "metadata": {},
   "source": [
    "Encoding text columns that contain categorical values with less than two categories to the appropriate numeric type. "
   ]
  },
  {
   "cell_type": "code",
   "execution_count": 248,
   "id": "1cf8c964-a3d6-4c67-ae7b-c6b778e67ef2",
   "metadata": {},
   "outputs": [
    {
     "name": "stdout",
     "output_type": "stream",
     "text": [
      "Index(['N', 'Y'], dtype='object')\n",
      "[0 1]\n"
     ]
    }
   ],
   "source": [
    "df['cb_person_default_on_file'], categories = pd.factorize(df['cb_person_default_on_file'])\n",
    "print(categories)\n",
    "print(df['cb_person_default_on_file'].unique())"
   ]
  },
  {
   "cell_type": "markdown",
   "id": "ca7b028b-cc8c-44e2-aa23-138a453f8b39",
   "metadata": {},
   "source": [
    "Encoding text columns that contain categorical values with more than two categories to dummy variables(one-hot encoded columns)"
   ]
  },
  {
   "cell_type": "code",
   "execution_count": 249,
   "id": "ab4d449d-30e8-411d-9172-50663df5f85e",
   "metadata": {},
   "outputs": [
    {
     "data": {
      "text/html": [
       "<div>\n",
       "<style scoped>\n",
       "    .dataframe tbody tr th:only-of-type {\n",
       "        vertical-align: middle;\n",
       "    }\n",
       "\n",
       "    .dataframe tbody tr th {\n",
       "        vertical-align: top;\n",
       "    }\n",
       "\n",
       "    .dataframe thead th {\n",
       "        text-align: right;\n",
       "    }\n",
       "</style>\n",
       "<table border=\"1\" class=\"dataframe\">\n",
       "  <thead>\n",
       "    <tr style=\"text-align: right;\">\n",
       "      <th></th>\n",
       "      <th>person_age</th>\n",
       "      <th>person_income</th>\n",
       "      <th>person_emp_length</th>\n",
       "      <th>loan_amnt</th>\n",
       "      <th>loan_int_rate</th>\n",
       "      <th>loan_status</th>\n",
       "      <th>loan_percent_income</th>\n",
       "      <th>cb_person_default_on_file</th>\n",
       "      <th>cb_person_cred_hist_length</th>\n",
       "      <th>person_home_ownership_MORTGAGE</th>\n",
       "      <th>person_home_ownership_OTHER</th>\n",
       "      <th>person_home_ownership_OWN</th>\n",
       "      <th>person_home_ownership_RENT</th>\n",
       "      <th>loan_intent_DEBTCONSOLIDATION</th>\n",
       "      <th>loan_intent_EDUCATION</th>\n",
       "      <th>loan_intent_HOMEIMPROVEMENT</th>\n",
       "      <th>loan_intent_MEDICAL</th>\n",
       "      <th>loan_intent_PERSONAL</th>\n",
       "      <th>loan_intent_VENTURE</th>\n",
       "      <th>loan_grade_A</th>\n",
       "      <th>loan_grade_B</th>\n",
       "      <th>loan_grade_C</th>\n",
       "      <th>loan_grade_D</th>\n",
       "      <th>loan_grade_E</th>\n",
       "      <th>loan_grade_F</th>\n",
       "      <th>loan_grade_G</th>\n",
       "    </tr>\n",
       "  </thead>\n",
       "  <tbody>\n",
       "    <tr>\n",
       "      <th>1</th>\n",
       "      <td>21</td>\n",
       "      <td>9600</td>\n",
       "      <td>5.0</td>\n",
       "      <td>1000</td>\n",
       "      <td>11.14</td>\n",
       "      <td>0</td>\n",
       "      <td>0.10</td>\n",
       "      <td>0</td>\n",
       "      <td>2</td>\n",
       "      <td>0</td>\n",
       "      <td>0</td>\n",
       "      <td>1</td>\n",
       "      <td>0</td>\n",
       "      <td>0</td>\n",
       "      <td>1</td>\n",
       "      <td>0</td>\n",
       "      <td>0</td>\n",
       "      <td>0</td>\n",
       "      <td>0</td>\n",
       "      <td>0</td>\n",
       "      <td>1</td>\n",
       "      <td>0</td>\n",
       "      <td>0</td>\n",
       "      <td>0</td>\n",
       "      <td>0</td>\n",
       "      <td>0</td>\n",
       "    </tr>\n",
       "    <tr>\n",
       "      <th>2</th>\n",
       "      <td>25</td>\n",
       "      <td>9600</td>\n",
       "      <td>1.0</td>\n",
       "      <td>5500</td>\n",
       "      <td>12.87</td>\n",
       "      <td>1</td>\n",
       "      <td>0.57</td>\n",
       "      <td>0</td>\n",
       "      <td>3</td>\n",
       "      <td>1</td>\n",
       "      <td>0</td>\n",
       "      <td>0</td>\n",
       "      <td>0</td>\n",
       "      <td>0</td>\n",
       "      <td>0</td>\n",
       "      <td>0</td>\n",
       "      <td>1</td>\n",
       "      <td>0</td>\n",
       "      <td>0</td>\n",
       "      <td>0</td>\n",
       "      <td>0</td>\n",
       "      <td>1</td>\n",
       "      <td>0</td>\n",
       "      <td>0</td>\n",
       "      <td>0</td>\n",
       "      <td>0</td>\n",
       "    </tr>\n",
       "    <tr>\n",
       "      <th>3</th>\n",
       "      <td>23</td>\n",
       "      <td>65500</td>\n",
       "      <td>4.0</td>\n",
       "      <td>35000</td>\n",
       "      <td>15.23</td>\n",
       "      <td>1</td>\n",
       "      <td>0.53</td>\n",
       "      <td>0</td>\n",
       "      <td>2</td>\n",
       "      <td>0</td>\n",
       "      <td>0</td>\n",
       "      <td>0</td>\n",
       "      <td>1</td>\n",
       "      <td>0</td>\n",
       "      <td>0</td>\n",
       "      <td>0</td>\n",
       "      <td>1</td>\n",
       "      <td>0</td>\n",
       "      <td>0</td>\n",
       "      <td>0</td>\n",
       "      <td>0</td>\n",
       "      <td>1</td>\n",
       "      <td>0</td>\n",
       "      <td>0</td>\n",
       "      <td>0</td>\n",
       "      <td>0</td>\n",
       "    </tr>\n",
       "    <tr>\n",
       "      <th>4</th>\n",
       "      <td>24</td>\n",
       "      <td>54400</td>\n",
       "      <td>8.0</td>\n",
       "      <td>35000</td>\n",
       "      <td>14.27</td>\n",
       "      <td>1</td>\n",
       "      <td>0.55</td>\n",
       "      <td>1</td>\n",
       "      <td>4</td>\n",
       "      <td>0</td>\n",
       "      <td>0</td>\n",
       "      <td>0</td>\n",
       "      <td>1</td>\n",
       "      <td>0</td>\n",
       "      <td>0</td>\n",
       "      <td>0</td>\n",
       "      <td>1</td>\n",
       "      <td>0</td>\n",
       "      <td>0</td>\n",
       "      <td>0</td>\n",
       "      <td>0</td>\n",
       "      <td>1</td>\n",
       "      <td>0</td>\n",
       "      <td>0</td>\n",
       "      <td>0</td>\n",
       "      <td>0</td>\n",
       "    </tr>\n",
       "    <tr>\n",
       "      <th>5</th>\n",
       "      <td>21</td>\n",
       "      <td>9900</td>\n",
       "      <td>2.0</td>\n",
       "      <td>2500</td>\n",
       "      <td>7.14</td>\n",
       "      <td>1</td>\n",
       "      <td>0.25</td>\n",
       "      <td>0</td>\n",
       "      <td>2</td>\n",
       "      <td>0</td>\n",
       "      <td>0</td>\n",
       "      <td>1</td>\n",
       "      <td>0</td>\n",
       "      <td>0</td>\n",
       "      <td>0</td>\n",
       "      <td>0</td>\n",
       "      <td>0</td>\n",
       "      <td>0</td>\n",
       "      <td>1</td>\n",
       "      <td>1</td>\n",
       "      <td>0</td>\n",
       "      <td>0</td>\n",
       "      <td>0</td>\n",
       "      <td>0</td>\n",
       "      <td>0</td>\n",
       "      <td>0</td>\n",
       "    </tr>\n",
       "  </tbody>\n",
       "</table>\n",
       "</div>"
      ],
      "text/plain": [
       "   person_age  person_income  person_emp_length  loan_amnt  loan_int_rate  \\\n",
       "1          21           9600                5.0       1000          11.14   \n",
       "2          25           9600                1.0       5500          12.87   \n",
       "3          23          65500                4.0      35000          15.23   \n",
       "4          24          54400                8.0      35000          14.27   \n",
       "5          21           9900                2.0       2500           7.14   \n",
       "\n",
       "   loan_status  loan_percent_income  cb_person_default_on_file  \\\n",
       "1            0                 0.10                          0   \n",
       "2            1                 0.57                          0   \n",
       "3            1                 0.53                          0   \n",
       "4            1                 0.55                          1   \n",
       "5            1                 0.25                          0   \n",
       "\n",
       "   cb_person_cred_hist_length  person_home_ownership_MORTGAGE  \\\n",
       "1                           2                               0   \n",
       "2                           3                               1   \n",
       "3                           2                               0   \n",
       "4                           4                               0   \n",
       "5                           2                               0   \n",
       "\n",
       "   person_home_ownership_OTHER  person_home_ownership_OWN  \\\n",
       "1                            0                          1   \n",
       "2                            0                          0   \n",
       "3                            0                          0   \n",
       "4                            0                          0   \n",
       "5                            0                          1   \n",
       "\n",
       "   person_home_ownership_RENT  loan_intent_DEBTCONSOLIDATION  \\\n",
       "1                           0                              0   \n",
       "2                           0                              0   \n",
       "3                           1                              0   \n",
       "4                           1                              0   \n",
       "5                           0                              0   \n",
       "\n",
       "   loan_intent_EDUCATION  loan_intent_HOMEIMPROVEMENT  loan_intent_MEDICAL  \\\n",
       "1                      1                            0                    0   \n",
       "2                      0                            0                    1   \n",
       "3                      0                            0                    1   \n",
       "4                      0                            0                    1   \n",
       "5                      0                            0                    0   \n",
       "\n",
       "   loan_intent_PERSONAL  loan_intent_VENTURE  loan_grade_A  loan_grade_B  \\\n",
       "1                     0                    0             0             1   \n",
       "2                     0                    0             0             0   \n",
       "3                     0                    0             0             0   \n",
       "4                     0                    0             0             0   \n",
       "5                     0                    1             1             0   \n",
       "\n",
       "   loan_grade_C  loan_grade_D  loan_grade_E  loan_grade_F  loan_grade_G  \n",
       "1             0             0             0             0             0  \n",
       "2             1             0             0             0             0  \n",
       "3             1             0             0             0             0  \n",
       "4             1             0             0             0             0  \n",
       "5             0             0             0             0             0  "
      ]
     },
     "metadata": {},
     "output_type": "display_data"
    }
   ],
   "source": [
    "df = pd.get_dummies(df, columns=['person_home_ownership', 'loan_intent', 'loan_grade'])\n",
    "display(df.head())"
   ]
  },
  {
   "cell_type": "markdown",
   "id": "7595a803-21e8-4fed-96a6-7fb16184c813",
   "metadata": {},
   "source": [
    "Since 'loan_status' is the output variable, we need to make it last column in the pandas dataframe to organize our understanding of this assessment."
   ]
  },
  {
   "cell_type": "code",
   "execution_count": 250,
   "id": "491cbcfb-bb60-478b-9003-30dc7f6957c8",
   "metadata": {},
   "outputs": [
    {
     "data": {
      "text/html": [
       "<div>\n",
       "<style scoped>\n",
       "    .dataframe tbody tr th:only-of-type {\n",
       "        vertical-align: middle;\n",
       "    }\n",
       "\n",
       "    .dataframe tbody tr th {\n",
       "        vertical-align: top;\n",
       "    }\n",
       "\n",
       "    .dataframe thead th {\n",
       "        text-align: right;\n",
       "    }\n",
       "</style>\n",
       "<table border=\"1\" class=\"dataframe\">\n",
       "  <thead>\n",
       "    <tr style=\"text-align: right;\">\n",
       "      <th></th>\n",
       "      <th>person_age</th>\n",
       "      <th>person_income</th>\n",
       "      <th>person_emp_length</th>\n",
       "      <th>loan_amnt</th>\n",
       "      <th>loan_int_rate</th>\n",
       "      <th>loan_percent_income</th>\n",
       "      <th>cb_person_default_on_file</th>\n",
       "      <th>cb_person_cred_hist_length</th>\n",
       "      <th>person_home_ownership_MORTGAGE</th>\n",
       "      <th>person_home_ownership_OTHER</th>\n",
       "      <th>person_home_ownership_OWN</th>\n",
       "      <th>person_home_ownership_RENT</th>\n",
       "      <th>loan_intent_DEBTCONSOLIDATION</th>\n",
       "      <th>loan_intent_EDUCATION</th>\n",
       "      <th>loan_intent_HOMEIMPROVEMENT</th>\n",
       "      <th>loan_intent_MEDICAL</th>\n",
       "      <th>loan_intent_PERSONAL</th>\n",
       "      <th>loan_intent_VENTURE</th>\n",
       "      <th>loan_grade_A</th>\n",
       "      <th>loan_grade_B</th>\n",
       "      <th>loan_grade_C</th>\n",
       "      <th>loan_grade_D</th>\n",
       "      <th>loan_grade_E</th>\n",
       "      <th>loan_grade_F</th>\n",
       "      <th>loan_grade_G</th>\n",
       "      <th>loan_status</th>\n",
       "    </tr>\n",
       "  </thead>\n",
       "  <tbody>\n",
       "    <tr>\n",
       "      <th>1</th>\n",
       "      <td>21</td>\n",
       "      <td>9600</td>\n",
       "      <td>5.0</td>\n",
       "      <td>1000</td>\n",
       "      <td>11.14</td>\n",
       "      <td>0.10</td>\n",
       "      <td>0</td>\n",
       "      <td>2</td>\n",
       "      <td>0</td>\n",
       "      <td>0</td>\n",
       "      <td>1</td>\n",
       "      <td>0</td>\n",
       "      <td>0</td>\n",
       "      <td>1</td>\n",
       "      <td>0</td>\n",
       "      <td>0</td>\n",
       "      <td>0</td>\n",
       "      <td>0</td>\n",
       "      <td>0</td>\n",
       "      <td>1</td>\n",
       "      <td>0</td>\n",
       "      <td>0</td>\n",
       "      <td>0</td>\n",
       "      <td>0</td>\n",
       "      <td>0</td>\n",
       "      <td>0</td>\n",
       "    </tr>\n",
       "    <tr>\n",
       "      <th>2</th>\n",
       "      <td>25</td>\n",
       "      <td>9600</td>\n",
       "      <td>1.0</td>\n",
       "      <td>5500</td>\n",
       "      <td>12.87</td>\n",
       "      <td>0.57</td>\n",
       "      <td>0</td>\n",
       "      <td>3</td>\n",
       "      <td>1</td>\n",
       "      <td>0</td>\n",
       "      <td>0</td>\n",
       "      <td>0</td>\n",
       "      <td>0</td>\n",
       "      <td>0</td>\n",
       "      <td>0</td>\n",
       "      <td>1</td>\n",
       "      <td>0</td>\n",
       "      <td>0</td>\n",
       "      <td>0</td>\n",
       "      <td>0</td>\n",
       "      <td>1</td>\n",
       "      <td>0</td>\n",
       "      <td>0</td>\n",
       "      <td>0</td>\n",
       "      <td>0</td>\n",
       "      <td>1</td>\n",
       "    </tr>\n",
       "    <tr>\n",
       "      <th>3</th>\n",
       "      <td>23</td>\n",
       "      <td>65500</td>\n",
       "      <td>4.0</td>\n",
       "      <td>35000</td>\n",
       "      <td>15.23</td>\n",
       "      <td>0.53</td>\n",
       "      <td>0</td>\n",
       "      <td>2</td>\n",
       "      <td>0</td>\n",
       "      <td>0</td>\n",
       "      <td>0</td>\n",
       "      <td>1</td>\n",
       "      <td>0</td>\n",
       "      <td>0</td>\n",
       "      <td>0</td>\n",
       "      <td>1</td>\n",
       "      <td>0</td>\n",
       "      <td>0</td>\n",
       "      <td>0</td>\n",
       "      <td>0</td>\n",
       "      <td>1</td>\n",
       "      <td>0</td>\n",
       "      <td>0</td>\n",
       "      <td>0</td>\n",
       "      <td>0</td>\n",
       "      <td>1</td>\n",
       "    </tr>\n",
       "    <tr>\n",
       "      <th>4</th>\n",
       "      <td>24</td>\n",
       "      <td>54400</td>\n",
       "      <td>8.0</td>\n",
       "      <td>35000</td>\n",
       "      <td>14.27</td>\n",
       "      <td>0.55</td>\n",
       "      <td>1</td>\n",
       "      <td>4</td>\n",
       "      <td>0</td>\n",
       "      <td>0</td>\n",
       "      <td>0</td>\n",
       "      <td>1</td>\n",
       "      <td>0</td>\n",
       "      <td>0</td>\n",
       "      <td>0</td>\n",
       "      <td>1</td>\n",
       "      <td>0</td>\n",
       "      <td>0</td>\n",
       "      <td>0</td>\n",
       "      <td>0</td>\n",
       "      <td>1</td>\n",
       "      <td>0</td>\n",
       "      <td>0</td>\n",
       "      <td>0</td>\n",
       "      <td>0</td>\n",
       "      <td>1</td>\n",
       "    </tr>\n",
       "    <tr>\n",
       "      <th>5</th>\n",
       "      <td>21</td>\n",
       "      <td>9900</td>\n",
       "      <td>2.0</td>\n",
       "      <td>2500</td>\n",
       "      <td>7.14</td>\n",
       "      <td>0.25</td>\n",
       "      <td>0</td>\n",
       "      <td>2</td>\n",
       "      <td>0</td>\n",
       "      <td>0</td>\n",
       "      <td>1</td>\n",
       "      <td>0</td>\n",
       "      <td>0</td>\n",
       "      <td>0</td>\n",
       "      <td>0</td>\n",
       "      <td>0</td>\n",
       "      <td>0</td>\n",
       "      <td>1</td>\n",
       "      <td>1</td>\n",
       "      <td>0</td>\n",
       "      <td>0</td>\n",
       "      <td>0</td>\n",
       "      <td>0</td>\n",
       "      <td>0</td>\n",
       "      <td>0</td>\n",
       "      <td>1</td>\n",
       "    </tr>\n",
       "  </tbody>\n",
       "</table>\n",
       "</div>"
      ],
      "text/plain": [
       "   person_age  person_income  person_emp_length  loan_amnt  loan_int_rate  \\\n",
       "1          21           9600                5.0       1000          11.14   \n",
       "2          25           9600                1.0       5500          12.87   \n",
       "3          23          65500                4.0      35000          15.23   \n",
       "4          24          54400                8.0      35000          14.27   \n",
       "5          21           9900                2.0       2500           7.14   \n",
       "\n",
       "   loan_percent_income  cb_person_default_on_file  cb_person_cred_hist_length  \\\n",
       "1                 0.10                          0                           2   \n",
       "2                 0.57                          0                           3   \n",
       "3                 0.53                          0                           2   \n",
       "4                 0.55                          1                           4   \n",
       "5                 0.25                          0                           2   \n",
       "\n",
       "   person_home_ownership_MORTGAGE  person_home_ownership_OTHER  \\\n",
       "1                               0                            0   \n",
       "2                               1                            0   \n",
       "3                               0                            0   \n",
       "4                               0                            0   \n",
       "5                               0                            0   \n",
       "\n",
       "   person_home_ownership_OWN  person_home_ownership_RENT  \\\n",
       "1                          1                           0   \n",
       "2                          0                           0   \n",
       "3                          0                           1   \n",
       "4                          0                           1   \n",
       "5                          1                           0   \n",
       "\n",
       "   loan_intent_DEBTCONSOLIDATION  loan_intent_EDUCATION  \\\n",
       "1                              0                      1   \n",
       "2                              0                      0   \n",
       "3                              0                      0   \n",
       "4                              0                      0   \n",
       "5                              0                      0   \n",
       "\n",
       "   loan_intent_HOMEIMPROVEMENT  loan_intent_MEDICAL  loan_intent_PERSONAL  \\\n",
       "1                            0                    0                     0   \n",
       "2                            0                    1                     0   \n",
       "3                            0                    1                     0   \n",
       "4                            0                    1                     0   \n",
       "5                            0                    0                     0   \n",
       "\n",
       "   loan_intent_VENTURE  loan_grade_A  loan_grade_B  loan_grade_C  \\\n",
       "1                    0             0             1             0   \n",
       "2                    0             0             0             1   \n",
       "3                    0             0             0             1   \n",
       "4                    0             0             0             1   \n",
       "5                    1             1             0             0   \n",
       "\n",
       "   loan_grade_D  loan_grade_E  loan_grade_F  loan_grade_G  loan_status  \n",
       "1             0             0             0             0            0  \n",
       "2             0             0             0             0            1  \n",
       "3             0             0             0             0            1  \n",
       "4             0             0             0             0            1  \n",
       "5             0             0             0             0            1  "
      ]
     },
     "metadata": {},
     "output_type": "display_data"
    }
   ],
   "source": [
    "date_col = df.pop('loan_status')\n",
    "df.insert(len(df.columns), 'loan_status', date_col)\n",
    "display(df.head())"
   ]
  },
  {
   "cell_type": "markdown",
   "id": "05f2fabd-f7b7-4ce4-9170-f93aa90947ba",
   "metadata": {},
   "source": [
    "## Partitioning Dataset"
   ]
  },
  {
   "cell_type": "markdown",
   "id": "41219aae-4aed-494f-8c68-3f224765c910",
   "metadata": {},
   "source": [
    "We dropped several rows from dataframe above and moved 'loan_status' a column to the end of the dataframe. This deletion of rows might cause indexing errors. Therefore, to avoid any indexing errors we need to rebuild the index to avoid any indexing errors down the line. "
   ]
  },
  {
   "cell_type": "code",
   "execution_count": 251,
   "id": "369671bc-485b-4d5d-bbef-3878cfcd1425",
   "metadata": {},
   "outputs": [],
   "source": [
    "df.reset_index(inplace=True, drop=True)"
   ]
  },
  {
   "cell_type": "markdown",
   "id": "a765fce7-68bf-4070-a2dc-4753070004f1",
   "metadata": {},
   "source": [
    "Partitioning the dataset into the training, validation, and test sets (60%:40%)."
   ]
  },
  {
   "cell_type": "code",
   "execution_count": 252,
   "id": "8968974f-62d8-4a02-87d7-9edaabb0e5d5",
   "metadata": {},
   "outputs": [],
   "source": [
    "trainData, validData = train_test_split(df, test_size=0.4, random_state=26)"
   ]
  },
  {
   "cell_type": "markdown",
   "id": "b9eb3376-946a-4126-9d2a-a38f647071d5",
   "metadata": {},
   "source": [
    "## Normalizing Dataset"
   ]
  },
  {
   "cell_type": "code",
   "execution_count": 253,
   "id": "caf961c6-7c61-458c-9466-008454b23ebd",
   "metadata": {},
   "outputs": [
    {
     "data": {
      "text/html": [
       "<div>\n",
       "<style scoped>\n",
       "    .dataframe tbody tr th:only-of-type {\n",
       "        vertical-align: middle;\n",
       "    }\n",
       "\n",
       "    .dataframe tbody tr th {\n",
       "        vertical-align: top;\n",
       "    }\n",
       "\n",
       "    .dataframe thead th {\n",
       "        text-align: right;\n",
       "    }\n",
       "</style>\n",
       "<table border=\"1\" class=\"dataframe\">\n",
       "  <thead>\n",
       "    <tr style=\"text-align: right;\">\n",
       "      <th></th>\n",
       "      <th>person_age</th>\n",
       "      <th>person_income</th>\n",
       "      <th>person_emp_length</th>\n",
       "      <th>loan_amnt</th>\n",
       "      <th>loan_int_rate</th>\n",
       "      <th>loan_percent_income</th>\n",
       "      <th>cb_person_default_on_file</th>\n",
       "      <th>cb_person_cred_hist_length</th>\n",
       "      <th>person_home_ownership_MORTGAGE</th>\n",
       "      <th>person_home_ownership_OTHER</th>\n",
       "      <th>person_home_ownership_OWN</th>\n",
       "      <th>person_home_ownership_RENT</th>\n",
       "      <th>loan_intent_DEBTCONSOLIDATION</th>\n",
       "      <th>loan_intent_EDUCATION</th>\n",
       "      <th>loan_intent_HOMEIMPROVEMENT</th>\n",
       "      <th>loan_intent_MEDICAL</th>\n",
       "      <th>loan_intent_PERSONAL</th>\n",
       "      <th>loan_intent_VENTURE</th>\n",
       "      <th>loan_grade_A</th>\n",
       "      <th>loan_grade_B</th>\n",
       "      <th>loan_grade_C</th>\n",
       "      <th>loan_grade_D</th>\n",
       "      <th>loan_grade_E</th>\n",
       "      <th>loan_grade_F</th>\n",
       "      <th>loan_grade_G</th>\n",
       "      <th>loan_status</th>\n",
       "    </tr>\n",
       "  </thead>\n",
       "  <tbody>\n",
       "    <tr>\n",
       "      <th>0</th>\n",
       "      <td>-1.082295</td>\n",
       "      <td>-1.061080</td>\n",
       "      <td>0.086492</td>\n",
       "      <td>-1.362889</td>\n",
       "      <td>0.183564</td>\n",
       "      <td>-0.653623</td>\n",
       "      <td>-0.467711</td>\n",
       "      <td>-0.939835</td>\n",
       "      <td>-0.836007</td>\n",
       "      <td>-0.057915</td>\n",
       "      <td>3.413300</td>\n",
       "      <td>-1.012524</td>\n",
       "      <td>-0.437267</td>\n",
       "      <td>2.025027</td>\n",
       "      <td>-0.348707</td>\n",
       "      <td>-0.480243</td>\n",
       "      <td>-0.451045</td>\n",
       "      <td>-0.466241</td>\n",
       "      <td>-0.699891</td>\n",
       "      <td>1.450889</td>\n",
       "      <td>-0.498569</td>\n",
       "      <td>-0.352407</td>\n",
       "      <td>-0.174879</td>\n",
       "      <td>-0.087876</td>\n",
       "      <td>-0.047624</td>\n",
       "      <td>0</td>\n",
       "    </tr>\n",
       "    <tr>\n",
       "      <th>1</th>\n",
       "      <td>-0.434045</td>\n",
       "      <td>-1.061080</td>\n",
       "      <td>-0.904229</td>\n",
       "      <td>-0.644355</td>\n",
       "      <td>0.679417</td>\n",
       "      <td>3.738993</td>\n",
       "      <td>-0.467711</td>\n",
       "      <td>-0.691075</td>\n",
       "      <td>1.196162</td>\n",
       "      <td>-0.057915</td>\n",
       "      <td>-0.292972</td>\n",
       "      <td>-1.012524</td>\n",
       "      <td>-0.437267</td>\n",
       "      <td>-0.493821</td>\n",
       "      <td>-0.348707</td>\n",
       "      <td>2.082281</td>\n",
       "      <td>-0.451045</td>\n",
       "      <td>-0.466241</td>\n",
       "      <td>-0.699891</td>\n",
       "      <td>-0.689233</td>\n",
       "      <td>2.005740</td>\n",
       "      <td>-0.352407</td>\n",
       "      <td>-0.174879</td>\n",
       "      <td>-0.087876</td>\n",
       "      <td>-0.047624</td>\n",
       "      <td>1</td>\n",
       "    </tr>\n",
       "    <tr>\n",
       "      <th>2</th>\n",
       "      <td>-0.758170</td>\n",
       "      <td>-0.004738</td>\n",
       "      <td>-0.161188</td>\n",
       "      <td>4.066036</td>\n",
       "      <td>1.355841</td>\n",
       "      <td>3.365153</td>\n",
       "      <td>-0.467711</td>\n",
       "      <td>-0.939835</td>\n",
       "      <td>-0.836007</td>\n",
       "      <td>-0.057915</td>\n",
       "      <td>-0.292972</td>\n",
       "      <td>0.987630</td>\n",
       "      <td>-0.437267</td>\n",
       "      <td>-0.493821</td>\n",
       "      <td>-0.348707</td>\n",
       "      <td>2.082281</td>\n",
       "      <td>-0.451045</td>\n",
       "      <td>-0.466241</td>\n",
       "      <td>-0.699891</td>\n",
       "      <td>-0.689233</td>\n",
       "      <td>2.005740</td>\n",
       "      <td>-0.352407</td>\n",
       "      <td>-0.174879</td>\n",
       "      <td>-0.087876</td>\n",
       "      <td>-0.047624</td>\n",
       "      <td>1</td>\n",
       "    </tr>\n",
       "    <tr>\n",
       "      <th>3</th>\n",
       "      <td>-0.596108</td>\n",
       "      <td>-0.214495</td>\n",
       "      <td>0.829533</td>\n",
       "      <td>4.066036</td>\n",
       "      <td>1.080686</td>\n",
       "      <td>3.552073</td>\n",
       "      <td>2.138071</td>\n",
       "      <td>-0.442315</td>\n",
       "      <td>-0.836007</td>\n",
       "      <td>-0.057915</td>\n",
       "      <td>-0.292972</td>\n",
       "      <td>0.987630</td>\n",
       "      <td>-0.437267</td>\n",
       "      <td>-0.493821</td>\n",
       "      <td>-0.348707</td>\n",
       "      <td>2.082281</td>\n",
       "      <td>-0.451045</td>\n",
       "      <td>-0.466241</td>\n",
       "      <td>-0.699891</td>\n",
       "      <td>-0.689233</td>\n",
       "      <td>2.005740</td>\n",
       "      <td>-0.352407</td>\n",
       "      <td>-0.174879</td>\n",
       "      <td>-0.087876</td>\n",
       "      <td>-0.047624</td>\n",
       "      <td>1</td>\n",
       "    </tr>\n",
       "    <tr>\n",
       "      <th>4</th>\n",
       "      <td>-1.082295</td>\n",
       "      <td>-1.055411</td>\n",
       "      <td>-0.656549</td>\n",
       "      <td>-1.123378</td>\n",
       "      <td>-0.962917</td>\n",
       "      <td>0.748275</td>\n",
       "      <td>-0.467711</td>\n",
       "      <td>-0.939835</td>\n",
       "      <td>-0.836007</td>\n",
       "      <td>-0.057915</td>\n",
       "      <td>3.413300</td>\n",
       "      <td>-1.012524</td>\n",
       "      <td>-0.437267</td>\n",
       "      <td>-0.493821</td>\n",
       "      <td>-0.348707</td>\n",
       "      <td>-0.480243</td>\n",
       "      <td>-0.451045</td>\n",
       "      <td>2.144815</td>\n",
       "      <td>1.428794</td>\n",
       "      <td>-0.689233</td>\n",
       "      <td>-0.498569</td>\n",
       "      <td>-0.352407</td>\n",
       "      <td>-0.174879</td>\n",
       "      <td>-0.087876</td>\n",
       "      <td>-0.047624</td>\n",
       "      <td>1</td>\n",
       "    </tr>\n",
       "  </tbody>\n",
       "</table>\n",
       "</div>"
      ],
      "text/plain": [
       "   person_age  person_income  person_emp_length  loan_amnt  loan_int_rate  \\\n",
       "0   -1.082295      -1.061080           0.086492  -1.362889       0.183564   \n",
       "1   -0.434045      -1.061080          -0.904229  -0.644355       0.679417   \n",
       "2   -0.758170      -0.004738          -0.161188   4.066036       1.355841   \n",
       "3   -0.596108      -0.214495           0.829533   4.066036       1.080686   \n",
       "4   -1.082295      -1.055411          -0.656549  -1.123378      -0.962917   \n",
       "\n",
       "   loan_percent_income  cb_person_default_on_file  cb_person_cred_hist_length  \\\n",
       "0            -0.653623                  -0.467711                   -0.939835   \n",
       "1             3.738993                  -0.467711                   -0.691075   \n",
       "2             3.365153                  -0.467711                   -0.939835   \n",
       "3             3.552073                   2.138071                   -0.442315   \n",
       "4             0.748275                  -0.467711                   -0.939835   \n",
       "\n",
       "   person_home_ownership_MORTGAGE  person_home_ownership_OTHER  \\\n",
       "0                       -0.836007                    -0.057915   \n",
       "1                        1.196162                    -0.057915   \n",
       "2                       -0.836007                    -0.057915   \n",
       "3                       -0.836007                    -0.057915   \n",
       "4                       -0.836007                    -0.057915   \n",
       "\n",
       "   person_home_ownership_OWN  person_home_ownership_RENT  \\\n",
       "0                   3.413300                   -1.012524   \n",
       "1                  -0.292972                   -1.012524   \n",
       "2                  -0.292972                    0.987630   \n",
       "3                  -0.292972                    0.987630   \n",
       "4                   3.413300                   -1.012524   \n",
       "\n",
       "   loan_intent_DEBTCONSOLIDATION  loan_intent_EDUCATION  \\\n",
       "0                      -0.437267               2.025027   \n",
       "1                      -0.437267              -0.493821   \n",
       "2                      -0.437267              -0.493821   \n",
       "3                      -0.437267              -0.493821   \n",
       "4                      -0.437267              -0.493821   \n",
       "\n",
       "   loan_intent_HOMEIMPROVEMENT  loan_intent_MEDICAL  loan_intent_PERSONAL  \\\n",
       "0                    -0.348707            -0.480243             -0.451045   \n",
       "1                    -0.348707             2.082281             -0.451045   \n",
       "2                    -0.348707             2.082281             -0.451045   \n",
       "3                    -0.348707             2.082281             -0.451045   \n",
       "4                    -0.348707            -0.480243             -0.451045   \n",
       "\n",
       "   loan_intent_VENTURE  loan_grade_A  loan_grade_B  loan_grade_C  \\\n",
       "0            -0.466241     -0.699891      1.450889     -0.498569   \n",
       "1            -0.466241     -0.699891     -0.689233      2.005740   \n",
       "2            -0.466241     -0.699891     -0.689233      2.005740   \n",
       "3            -0.466241     -0.699891     -0.689233      2.005740   \n",
       "4             2.144815      1.428794     -0.689233     -0.498569   \n",
       "\n",
       "   loan_grade_D  loan_grade_E  loan_grade_F  loan_grade_G  loan_status  \n",
       "0     -0.352407     -0.174879     -0.087876     -0.047624            0  \n",
       "1     -0.352407     -0.174879     -0.087876     -0.047624            1  \n",
       "2     -0.352407     -0.174879     -0.087876     -0.047624            1  \n",
       "3     -0.352407     -0.174879     -0.087876     -0.047624            1  \n",
       "4     -0.352407     -0.174879     -0.087876     -0.047624            1  "
      ]
     },
     "metadata": {},
     "output_type": "display_data"
    }
   ],
   "source": [
    "scaler = preprocessing.StandardScaler()\n",
    "scaler.fit(trainData.iloc[:, :-1]) \n",
    "\n",
    "# Transform the full dataaset \n",
    "dfNorm = pd.concat([pd.DataFrame(\n",
    "    scaler.transform(df.iloc[:, :-1]), \n",
    "    columns= df.columns.tolist()[:-1]),\n",
    "                       df[['loan_status']]], axis=1)\n",
    "\n",
    "display(dfNorm.head())"
   ]
  },
  {
   "cell_type": "code",
   "execution_count": 254,
   "id": "fb1a9318-b122-4b46-b4a4-ef2151de82f4",
   "metadata": {},
   "outputs": [],
   "source": [
    "trainNorm = dfNorm.iloc[trainData.index]\n",
    "validNorm = dfNorm.iloc[validData.index]"
   ]
  },
  {
   "cell_type": "markdown",
   "id": "2a3197c7-f2cb-4944-a375-63c5f681b0e3",
   "metadata": {},
   "source": [
    "## Finding Best Value of K"
   ]
  },
  {
   "cell_type": "markdown",
   "id": "b2596290-b422-4e2b-a7eb-8be3341a8b35",
   "metadata": {},
   "source": [
    "Finding choice of k that balances between overfitting and ignoring the predictor information. Trying out k = 1 to k = 15."
   ]
  },
  {
   "cell_type": "code",
   "execution_count": 255,
   "id": "5aaa040f-6253-4c5f-b730-34cc220262c2",
   "metadata": {},
   "outputs": [
    {
     "data": {
      "text/html": [
       "<div>\n",
       "<style scoped>\n",
       "    .dataframe tbody tr th:only-of-type {\n",
       "        vertical-align: middle;\n",
       "    }\n",
       "\n",
       "    .dataframe tbody tr th {\n",
       "        vertical-align: top;\n",
       "    }\n",
       "\n",
       "    .dataframe thead th {\n",
       "        text-align: right;\n",
       "    }\n",
       "</style>\n",
       "<table border=\"1\" class=\"dataframe\">\n",
       "  <thead>\n",
       "    <tr style=\"text-align: right;\">\n",
       "      <th></th>\n",
       "      <th>k</th>\n",
       "      <th>accuracy</th>\n",
       "    </tr>\n",
       "  </thead>\n",
       "  <tbody>\n",
       "    <tr>\n",
       "      <th>0</th>\n",
       "      <td>1</td>\n",
       "      <td>0.855446</td>\n",
       "    </tr>\n",
       "    <tr>\n",
       "      <th>1</th>\n",
       "      <td>2</td>\n",
       "      <td>0.882829</td>\n",
       "    </tr>\n",
       "    <tr>\n",
       "      <th>2</th>\n",
       "      <td>3</td>\n",
       "      <td>0.885221</td>\n",
       "    </tr>\n",
       "    <tr>\n",
       "      <th>3</th>\n",
       "      <td>4</td>\n",
       "      <td>0.889926</td>\n",
       "    </tr>\n",
       "    <tr>\n",
       "      <th>4</th>\n",
       "      <td>5</td>\n",
       "      <td>0.891237</td>\n",
       "    </tr>\n",
       "    <tr>\n",
       "      <th>5</th>\n",
       "      <td>6</td>\n",
       "      <td>0.891623</td>\n",
       "    </tr>\n",
       "    <tr>\n",
       "      <th>6</th>\n",
       "      <td>7</td>\n",
       "      <td>0.891700</td>\n",
       "    </tr>\n",
       "    <tr>\n",
       "      <th>7</th>\n",
       "      <td>8</td>\n",
       "      <td>0.890543</td>\n",
       "    </tr>\n",
       "    <tr>\n",
       "      <th>8</th>\n",
       "      <td>9</td>\n",
       "      <td>0.893243</td>\n",
       "    </tr>\n",
       "    <tr>\n",
       "      <th>9</th>\n",
       "      <td>10</td>\n",
       "      <td>0.891160</td>\n",
       "    </tr>\n",
       "    <tr>\n",
       "      <th>10</th>\n",
       "      <td>11</td>\n",
       "      <td>0.892703</td>\n",
       "    </tr>\n",
       "    <tr>\n",
       "      <th>11</th>\n",
       "      <td>12</td>\n",
       "      <td>0.890080</td>\n",
       "    </tr>\n",
       "    <tr>\n",
       "      <th>12</th>\n",
       "      <td>13</td>\n",
       "      <td>0.891006</td>\n",
       "    </tr>\n",
       "    <tr>\n",
       "      <th>13</th>\n",
       "      <td>14</td>\n",
       "      <td>0.888537</td>\n",
       "    </tr>\n",
       "    <tr>\n",
       "      <th>14</th>\n",
       "      <td>15</td>\n",
       "      <td>0.890389</td>\n",
       "    </tr>\n",
       "  </tbody>\n",
       "</table>\n",
       "</div>"
      ],
      "text/plain": [
       "     k  accuracy\n",
       "0    1  0.855446\n",
       "1    2  0.882829\n",
       "2    3  0.885221\n",
       "3    4  0.889926\n",
       "4    5  0.891237\n",
       "5    6  0.891623\n",
       "6    7  0.891700\n",
       "7    8  0.890543\n",
       "8    9  0.893243\n",
       "9   10  0.891160\n",
       "10  11  0.892703\n",
       "11  12  0.890080\n",
       "12  13  0.891006\n",
       "13  14  0.888537\n",
       "14  15  0.890389"
      ]
     },
     "metadata": {},
     "output_type": "display_data"
    }
   ],
   "source": [
    "train_X = trainNorm.drop('loan_status', axis=1)\n",
    "train_y = trainNorm['loan_status']\n",
    "valid_X = validNorm.drop('loan_status', axis=1)\n",
    "valid_y = validNorm['loan_status']\n",
    "\n",
    "# Train a classifier for different values of k\n",
    "results = []\n",
    "for k in range(1, 16):\n",
    "    knn = KNeighborsClassifier(n_neighbors=k).fit(train_X, train_y)\n",
    "    results.append({\n",
    "        'k': k,\n",
    "        'accuracy': accuracy_score(valid_y, knn.predict(valid_X))\n",
    "    })\n",
    "    \n",
    "# Convert results to a pandas data frame\n",
    "results = pd.DataFrame(results)\n",
    "display(results)"
   ]
  },
  {
   "cell_type": "markdown",
   "id": "90929190-a43e-482f-b813-9c579cb73bc9",
   "metadata": {},
   "source": [
    "## Result"
   ]
  },
  {
   "cell_type": "markdown",
   "id": "92d6179c-eda7-4365-8ad0-9cbb8ea5396f",
   "metadata": {},
   "source": [
    "From above table we see that accuracy is best when k = 8. Therefore, when we use k = 8, we will get the best classification performance. Choice of k = 8 will balance between overfitting and ignoring the predictor information. If we choose value of k that is less than 8, then we will classify in a way that is very sensitive to the local characteristics of the training data. Likewise, if we choose a very large value of k, such as k = 15, we sould simply predict the most frequent class in the dataset in all cases. K = 15 would be very stable prediction but it will completely ignore the information in the predictors."
   ]
  },
  {
   "cell_type": "markdown",
   "id": "d40ad34c-2c94-4d76-8aa8-3091e3cb1d89",
   "metadata": {},
   "source": [
    "## Confusion Matrix"
   ]
  },
  {
   "cell_type": "markdown",
   "id": "15d22502-b72a-429a-88e8-64b75bba0689",
   "metadata": {},
   "source": [
    "Displaying the confusion matrix for the validation data that results from using the best k. In our case, it is k = 8."
   ]
  },
  {
   "cell_type": "code",
   "execution_count": 256,
   "id": "2b30240c-8f5c-4b14-bea4-28c4750671d3",
   "metadata": {},
   "outputs": [
    {
     "name": "stdout",
     "output_type": "stream",
     "text": [
      "Confusion Matrix\n",
      "[[9966  161]\n",
      " [1258 1579]]\n"
     ]
    }
   ],
   "source": [
    "knn = KNeighborsClassifier(n_neighbors=8).fit(train_X, train_y)\n",
    "predicted = knn.predict(valid_X)\n",
    "\n",
    "cm = confusion_matrix(valid_y, predicted)\n",
    "print('Confusion Matrix')\n",
    "print(cm)"
   ]
  },
  {
   "cell_type": "markdown",
   "id": "31a6d8bc-181f-4134-bd74-6dfc91893a82",
   "metadata": {},
   "source": [
    "Defining method to find counts of Actual and Predicted values so that we can label the axes correctly while plotting confusion matrix."
   ]
  },
  {
   "cell_type": "code",
   "execution_count": 257,
   "id": "60a68f03-81be-4604-8e15-23be92913736",
   "metadata": {},
   "outputs": [],
   "source": [
    "def findOutputCounts(actual, predicted):   \n",
    "    assert isinstance(actual, np.ndarray), \"Argument 'actual' must be a numpy array.\"\n",
    "    assert isinstance(predicted, np.ndarray), \"Argument 'predicted' must be a numpy array.\"\n",
    "    \n",
    "    print('Actual Value Counts')\n",
    "    print('Total Element Count: {}'.format(len(actual)))\n",
    "    print('Not Default Count: {}'.format(len(actual[actual == 0])))\n",
    "    print('Default Count: {}'.format(len(actual[actual == 1])))\n",
    "\n",
    "    print('\\nPredicted Value Counts')\n",
    "    print('Total Element Count: {}'.format(len(predicted)))\n",
    "    print('Not Default Count: {}'.format(len(predicted[predicted == 0])))\n",
    "    print('Default Count: {}'.format(len(predicted[predicted == 1])))"
   ]
  },
  {
   "cell_type": "code",
   "execution_count": 258,
   "id": "6e47cf6f-dad1-4f6f-95eb-592e9e22f554",
   "metadata": {},
   "outputs": [
    {
     "name": "stdout",
     "output_type": "stream",
     "text": [
      "Actual Value Counts\n",
      "Total Element Count: 12964\n",
      "Not Default Count: 10127\n",
      "Default Count: 2837\n",
      "\n",
      "Predicted Value Counts\n",
      "Total Element Count: 12964\n",
      "Not Default Count: 11224\n",
      "Default Count: 1740\n"
     ]
    }
   ],
   "source": [
    "findOutputCounts(valid_y.to_numpy(), predicted)"
   ]
  },
  {
   "cell_type": "markdown",
   "id": "98d14a1d-a67e-4283-b00d-bfdf2e1a30fb",
   "metadata": {},
   "source": [
    "Combining information from above confusion matrix and value counts we can conclude following about labels of axes in plot of confusion matrix. \n",
    "\n",
    "1. Sum of values in top row of confusion matrix above (9966 + 161) = 10127, which is Not Default Count of Actual values as calculated above. Therefore, in the plot below, on the y-axis, where we display Acutal counts, the label of top row will be 'Not Default'. If the label of top row is 'Not Default' then label of bottom row will be 'Default'.\n",
    "\n",
    "2. Likewise, Sum values in the first column of confusion matrix above (9966 + 1258) = 11224, which is Not Default Count of Predicted values as calculated above. Therefore, in the plot below, on the x-axis, where we display Predicted counts, the label of first column will be 'Not Default'. If the label of first column is 'Not Default', then the label of second column will be 'Default'."
   ]
  },
  {
   "cell_type": "markdown",
   "id": "a57d4ad3-d9a0-4d4c-8d89-0ae60b6c0b72",
   "metadata": {},
   "source": [
    "Defining method to plot confusion matrix"
   ]
  },
  {
   "cell_type": "code",
   "execution_count": 260,
   "id": "d5ca5f69-dee8-4ee0-8f3b-e53b28c92436",
   "metadata": {},
   "outputs": [],
   "source": [
    "def PlotConfusionMatrix(cm):\n",
    "    fig, ax = plt.subplots()\n",
    "    im = ax.imshow(cm)\n",
    "\n",
    "    # Showing all ticks and labelling them with the respective list entries\n",
    "    ax.set_xticks(np.arange(2), labels=['Not Default', 'Default'])\n",
    "    ax.set_yticks(np.arange(2), labels=['Not Default', 'Default'])\n",
    "\n",
    "    # Setting labels for x-axis and y-axis\n",
    "    ax.set_xlabel('Predicted', fontsize=13)\n",
    "    ax.set_ylabel('Actual', fontsize=13)\n",
    "\n",
    "    # Creating text annotations.\n",
    "    for i in range(2):\n",
    "        for j in range(2):\n",
    "            text = ax.text(j, i, cm[i, j], color='r')\n",
    "\n",
    "    ax.set_title('Confusion Matrix', fontsize=15)\n",
    "    fig.tight_layout()\n",
    "    plt.show()"
   ]
  },
  {
   "cell_type": "code",
   "execution_count": 261,
   "id": "e147f51c-8601-42b4-bedf-b457d63e2587",
   "metadata": {},
   "outputs": [
    {
     "data": {
      "image/png": "[encoded data removed]",
      "text/plain": [
       "<Figure size 640x480 with 1 Axes>"
      ]
     },
     "metadata": {},
     "output_type": "display_data"
    }
   ],
   "source": [
    "PlotConfusionMatrix(cm)"
   ]
  },
  {
   "cell_type": "markdown",
   "id": "c87d3b19-a271-4530-8b34-321d8538040a",
   "metadata": {},
   "source": [
    "## Repartitioning Data"
   ]
  },
  {
   "cell_type": "markdown",
   "id": "06b37ef3-b4ce-4756-a9da-33c41d57f66c",
   "metadata": {},
   "source": [
    "Repartitioning the data, this time into training, validation, and test sets (50%:30%:20%)."
   ]
  },
  {
   "cell_type": "code",
   "execution_count": 262,
   "id": "29220c60-158c-4129-8a09-1d4f008f7769",
   "metadata": {},
   "outputs": [
    {
     "name": "stdout",
     "output_type": "stream",
     "text": [
      "(16204, 26)\n",
      "(16204, 26)\n"
     ]
    }
   ],
   "source": [
    "trainNorm, remainingNorm = train_test_split(dfNorm, test_size=0.5, random_state=26)\n",
    "print(trainNorm.shape)\n",
    "print(remainingNorm.shape)"
   ]
  },
  {
   "cell_type": "code",
   "execution_count": 263,
   "id": "e93928c3-dd4d-409d-9cbc-43ec06f00545",
   "metadata": {},
   "outputs": [
    {
     "name": "stdout",
     "output_type": "stream",
     "text": [
      "(9722, 26)\n",
      "(6482, 26)\n"
     ]
    }
   ],
   "source": [
    "validNorm, testNorm = train_test_split(remainingNorm, test_size=0.4, random_state=26)\n",
    "print(validNorm.shape)\n",
    "print(testNorm.shape)"
   ]
  },
  {
   "cell_type": "code",
   "execution_count": 264,
   "id": "fc2ebe7e-49ab-449c-9588-7a56bca627f6",
   "metadata": {},
   "outputs": [],
   "source": [
    "train_X = trainNorm.drop('loan_status', axis=1)\n",
    "train_y = trainNorm['loan_status']\n",
    "valid_X = validNorm.drop('loan_status', axis=1)\n",
    "valid_y = validNorm['loan_status']\n",
    "test_X = testNorm.drop('loan_status', axis=1)\n",
    "test_y = testNorm['loan_status']"
   ]
  },
  {
   "cell_type": "markdown",
   "id": "85a391eb-a8c8-46bb-982d-8068cba49f04",
   "metadata": {},
   "source": [
    "## K-NN Classification (K = 8)"
   ]
  },
  {
   "cell_type": "code",
   "execution_count": 265,
   "id": "a5cf9038-4bba-4797-9c7a-c317734e71a8",
   "metadata": {},
   "outputs": [],
   "source": [
    "knn = KNeighborsClassifier(n_neighbors=8).fit(train_X, train_y)"
   ]
  },
  {
   "cell_type": "markdown",
   "id": "28ccf5fb-ab40-4ef4-b31f-9ffca063d8c6",
   "metadata": {},
   "source": [
    "Computing confusion matrix on training data"
   ]
  },
  {
   "cell_type": "code",
   "execution_count": 266,
   "id": "9cfa1bc3-352d-4d68-823a-bc7a32098659",
   "metadata": {},
   "outputs": [
    {
     "name": "stdout",
     "output_type": "stream",
     "text": [
      "Accuracy Score:  0.9051468773142434\n",
      "Confusion Matrix\n",
      "[[12519   128]\n",
      " [ 1409  2148]]\n"
     ]
    }
   ],
   "source": [
    "predicted = knn.predict(train_X)\n",
    "\n",
    "cm = confusion_matrix(train_y, predicted)\n",
    "print('Accuracy Score: ', accuracy_score(train_y, predicted))\n",
    "print('Confusion Matrix')\n",
    "print(cm)"
   ]
  },
  {
   "cell_type": "code",
   "execution_count": 267,
   "id": "892565e8-3f9b-4cf0-907f-486787f2caf7",
   "metadata": {},
   "outputs": [
    {
     "name": "stdout",
     "output_type": "stream",
     "text": [
      "Actual Value Counts\n",
      "Total Element Count: 16204\n",
      "Not Default Count: 12647\n",
      "Default Count: 3557\n",
      "\n",
      "Predicted Value Counts\n",
      "Total Element Count: 16204\n",
      "Not Default Count: 13928\n",
      "Default Count: 2276\n"
     ]
    }
   ],
   "source": [
    "findOutputCounts(train_y.to_numpy(), predicted)"
   ]
  },
  {
   "cell_type": "code",
   "execution_count": 268,
   "id": "ae6f782f-044a-481e-a1f8-86c54c7b95bd",
   "metadata": {},
   "outputs": [
    {
     "data": {
      "image/png": "[encoded data removed]",
      "text/plain": [
       "<Figure size 640x480 with 1 Axes>"
      ]
     },
     "metadata": {},
     "output_type": "display_data"
    }
   ],
   "source": [
    "PlotConfusionMatrix(cm)"
   ]
  },
  {
   "cell_type": "markdown",
   "id": "a6ba7923-5353-4d72-af13-aef298c13531",
   "metadata": {},
   "source": [
    "Computing confusion matrix on validation data"
   ]
  },
  {
   "cell_type": "code",
   "execution_count": 270,
   "id": "3d3fc88b-31e7-4ffa-96ec-de13cfc676f3",
   "metadata": {},
   "outputs": [
    {
     "name": "stdout",
     "output_type": "stream",
     "text": [
      "Accuracy Score:  0.8876774326270315\n",
      "Confusion Matrix\n",
      "[[7486  141]\n",
      " [ 951 1144]]\n"
     ]
    }
   ],
   "source": [
    "predicted = knn.predict(valid_X)\n",
    "\n",
    "cm = confusion_matrix(valid_y, predicted)\n",
    "print('Accuracy Score: ', accuracy_score(valid_y, predicted))\n",
    "print('Confusion Matrix')\n",
    "print(cm)"
   ]
  },
  {
   "cell_type": "code",
   "execution_count": 271,
   "id": "d358b252-bc59-4ba9-a9d7-89bfaf12cc30",
   "metadata": {},
   "outputs": [
    {
     "name": "stdout",
     "output_type": "stream",
     "text": [
      "Actual Value Counts\n",
      "Total Element Count: 9722\n",
      "Not Default Count: 7627\n",
      "Default Count: 2095\n",
      "\n",
      "Predicted Value Counts\n",
      "Total Element Count: 9722\n",
      "Not Default Count: 8437\n",
      "Default Count: 1285\n"
     ]
    }
   ],
   "source": [
    "findOutputCounts(valid_y.to_numpy(), predicted)"
   ]
  },
  {
   "cell_type": "code",
   "execution_count": 272,
   "id": "8209063d-489d-4417-907d-a50534f91206",
   "metadata": {},
   "outputs": [
    {
     "data": {
      "image/png": "[encoded data removed]",
      "text/plain": [
       "<Figure size 640x480 with 1 Axes>"
      ]
     },
     "metadata": {},
     "output_type": "display_data"
    }
   ],
   "source": [
    "PlotConfusionMatrix(cm)"
   ]
  },
  {
   "cell_type": "markdown",
   "id": "c38e5e30-6631-4e6b-80e8-92169d7c03f6",
   "metadata": {},
   "source": [
    "Computing confusion matrix on test data"
   ]
  },
  {
   "cell_type": "code",
   "execution_count": 273,
   "id": "c6ed41b5-490f-48eb-bc7f-8cdd5cd24705",
   "metadata": {},
   "outputs": [
    {
     "name": "stdout",
     "output_type": "stream",
     "text": [
      "Accuracy Score:  0.8903116322122802\n",
      "Confusion Matrix\n",
      "[[4958   88]\n",
      " [ 623  813]]\n"
     ]
    }
   ],
   "source": [
    "predicted = knn.predict(test_X)\n",
    "\n",
    "cm = confusion_matrix(test_y, predicted)\n",
    "print('Accuracy Score: ', accuracy_score(test_y, predicted))\n",
    "print('Confusion Matrix')\n",
    "print(cm)"
   ]
  },
  {
   "cell_type": "code",
   "execution_count": 274,
   "id": "5997a048-72ec-4a74-948c-26c564718a49",
   "metadata": {},
   "outputs": [
    {
     "name": "stdout",
     "output_type": "stream",
     "text": [
      "Actual Value Counts\n",
      "Total Element Count: 6482\n",
      "Not Default Count: 5046\n",
      "Default Count: 1436\n",
      "\n",
      "Predicted Value Counts\n",
      "Total Element Count: 6482\n",
      "Not Default Count: 5581\n",
      "Default Count: 901\n"
     ]
    }
   ],
   "source": [
    "findOutputCounts(test_y.to_numpy(), predicted)"
   ]
  },
  {
   "cell_type": "code",
   "execution_count": 275,
   "id": "b738ba07-3eb9-4b32-b8a1-b40965fba948",
   "metadata": {},
   "outputs": [
    {
     "data": {
      "image/png": "[encoded data removed]",
      "text/plain": [
       "<Figure size 640x480 with 1 Axes>"
      ]
     },
     "metadata": {},
     "output_type": "display_data"
    }
   ],
   "source": [
    "PlotConfusionMatrix(cm)"
   ]
  },
  {
   "cell_type": "markdown",
   "id": "0da8f8c8-9ece-405e-a8bd-3ad6126803e2",
   "metadata": {},
   "source": [
    "## Result"
   ]
  },
  {
   "cell_type": "markdown",
   "id": "8d372dd5-f174-4c14-9532-f4a91c04a6bf",
   "metadata": {},
   "source": [
    "The diagonal elements of the confusion matrix represent the correct predictions, while the off-diagonal elements represent the errors. You want to have high values on the diagonal and low values on the off-diagonal. If we compare confusion  matrix on the test dataset with that on training and validation dataset, we see that, in the test set diagonal elements have high values and off-diagonal elements have low values compared to diagonal and non-diagonal values of confusion matrices on validation and training datasets. This means our algorighm is doing well while classifying. \n",
    "\n",
    "In addition, first, accuracy on validation data (accuracy = 0.8876774326270315) and test data (accuracy = 0.8903116322122802) is less than accuracy on training data (accuracy = 0.9051468773142434). This is the desired result and this means our algorithm is doing well and selection of k = 8 is correct. Less accuracy on validation and test data compared to accuracy on training data means, algorithm is not overfitting, which is a good thing. This is apparent, because, since algorithm was trained on training data, accuracy on training data will be higher because algorithm has already seen the data. Accuracy on validation and test data is less than training data because algorithm made prediction on data that the algorithm has not seen before, therefore, decrease in accuracy is expected and desired. \n",
    "\n",
    "Secondly, accuracy on validation and test data is not very low, it is still high and very close to 90%. This means our algorithm is not underfitting. \n",
    "\n",
    "Further, difference between accuracy on validation and test data is not huge. They are not equal and they are very close. We need this difference because algorithm is working on two different datasets and we do expect a difference in accuracy."
   ]
  },
  {
   "cell_type": "code",
   "execution_count": null,
   "id": "71c6331e-fce0-4e9c-99d6-7afd7161f339",
   "metadata": {},
   "outputs": [],
   "source": []
  }
 ],
 "metadata": {
  "kernelspec": {
   "display_name": "Python 3 (ipykernel)",
   "language": "python",
   "name": "python3"
  },
  "language_info": {
   "codemirror_mode": {
    "name": "ipython",
    "version": 3
   },
   "file_extension": ".py",
   "mimetype": "text/x-python",
   "name": "python",
   "nbconvert_exporter": "python",
   "pygments_lexer": "ipython3",
   "version": "3.10.9"
  }
 },
 "nbformat": 4,
 "nbformat_minor": 5
}
