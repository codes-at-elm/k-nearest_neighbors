{
 "cells": [
  {
   "cell_type": "markdown",
   "id": "114103e3-8663-4778-8e27-f287ba6e80c3",
   "metadata": {},
   "source": [
    "### K-NN Classifier - Calculating Distance with Categorical Predictors"
   ]
  },
  {
   "cell_type": "markdown",
   "id": "b5fb3f03-8367-45cf-90d4-95dcdb2e04bb",
   "metadata": {},
   "source": [
    "This program is a solution to the problem 7.1 of chapter 7 of following book. \n",
    "\n",
    "Data Mining for Business Analytics: Concepts, Techniques, and Applications in Python, First Edition.\n",
    "\n",
    "Galit Shmueli, Peter C. Bruce, Peter Gedeck, and Nitin R. Patel\n",
    "\n",
    "© 2020 John Wiley & Sons, Inc. Published 2020 by John Wiley & Sons, Inc."
   ]
  },
  {
   "cell_type": "markdown",
   "id": "11e2b314-2788-466a-bac1-e66434d1efaa",
   "metadata": {},
   "source": [
    "#### Importing Libraries"
   ]
  },
  {
   "cell_type": "code",
   "execution_count": 30,
   "id": "b91fd624-ec39-41b2-9d23-6d618566d724",
   "metadata": {},
   "outputs": [],
   "source": [
    "import pandas as pd\n",
    "import numpy as np\n",
    "import sklearn as skl\n",
    "from sklearn.neighbors import NearestNeighbors"
   ]
  },
  {
   "cell_type": "markdown",
   "id": "ff13b739-88cb-469c-9fc7-12c6d57a74e9",
   "metadata": {},
   "source": [
    "Printing versions of libraries"
   ]
  },
  {
   "cell_type": "code",
   "execution_count": 31,
   "id": "7846963c-5880-49a7-b5d6-fe1bb0d6b0e0",
   "metadata": {},
   "outputs": [
    {
     "name": "stdout",
     "output_type": "stream",
     "text": [
      "pandas version: 1.5.3\n",
      "numpy version: 1.23.5\n",
      "sklearn version: 1.2.1\n"
     ]
    }
   ],
   "source": [
    "print('pandas version: {}'.format(pd.__version__))\n",
    "print('numpy version: {}'.format(np.__version__))\n",
    "print('sklearn version: {}'.format(skl.__version__))"
   ]
  },
  {
   "cell_type": "markdown",
   "id": "ddec338a-610f-4ce7-a7ee-260abdceae01",
   "metadata": {},
   "source": [
    "#### Creating a dataset"
   ]
  },
  {
   "cell_type": "code",
   "execution_count": 32,
   "id": "973f0553-f918-4313-9b4f-aa371d458a95",
   "metadata": {},
   "outputs": [
    {
     "data": {
      "text/html": [
       "<div>\n",
       "<style scoped>\n",
       "    .dataframe tbody tr th:only-of-type {\n",
       "        vertical-align: middle;\n",
       "    }\n",
       "\n",
       "    .dataframe tbody tr th {\n",
       "        vertical-align: top;\n",
       "    }\n",
       "\n",
       "    .dataframe thead th {\n",
       "        text-align: right;\n",
       "    }\n",
       "</style>\n",
       "<table border=\"1\" class=\"dataframe\">\n",
       "  <thead>\n",
       "    <tr style=\"text-align: right;\">\n",
       "      <th></th>\n",
       "      <th>customer</th>\n",
       "      <th>category</th>\n",
       "      <th>num_years</th>\n",
       "      <th>Couse_Taken</th>\n",
       "    </tr>\n",
       "  </thead>\n",
       "  <tbody>\n",
       "    <tr>\n",
       "      <th>0</th>\n",
       "      <td>1</td>\n",
       "      <td>Stat</td>\n",
       "      <td>1.0</td>\n",
       "      <td>No</td>\n",
       "    </tr>\n",
       "    <tr>\n",
       "      <th>1</th>\n",
       "      <td>2</td>\n",
       "      <td>Other</td>\n",
       "      <td>1.1</td>\n",
       "      <td>Yes</td>\n",
       "    </tr>\n",
       "    <tr>\n",
       "      <th>2</th>\n",
       "      <td>3</td>\n",
       "      <td>IT</td>\n",
       "      <td>1.0</td>\n",
       "      <td>Unknown</td>\n",
       "    </tr>\n",
       "  </tbody>\n",
       "</table>\n",
       "</div>"
      ],
      "text/plain": [
       "   customer category  num_years Couse_Taken\n",
       "0         1     Stat        1.0          No\n",
       "1         2    Other        1.1         Yes\n",
       "2         3       IT        1.0     Unknown"
      ]
     },
     "metadata": {},
     "output_type": "display_data"
    }
   ],
   "source": [
    "df = pd.DataFrame({'category':['Stat', 'Other', 'IT'],\n",
    "                   'num_years':[1, 1.1, 1],\n",
    "                   'Couse_Taken': ['No', 'Yes', 'Unknown']})\n",
    "\n",
    "df['customer'] = df.index + 1\n",
    "column_to_move = df.pop('customer')\n",
    "df.insert(0, 'customer', column_to_move)\n",
    "\n",
    "display(df)"
   ]
  },
  {
   "cell_type": "markdown",
   "id": "8749a7c5-aa7a-426b-b8a4-e9aaa8a544a0",
   "metadata": {},
   "source": [
    "#### Declaring method to calculate the Euclidean distance between the prospect and each of the other two customers."
   ]
  },
  {
   "cell_type": "code",
   "execution_count": 33,
   "id": "eb54e826-def3-4a15-b0d3-da42a0ec559e",
   "metadata": {},
   "outputs": [],
   "source": [
    "def Calculate_Distance(existing_customers, prospect_customer):\n",
    "    point_2 = prospect_customer.iloc[:,1:].to_numpy()[0]\n",
    "\n",
    "    result = []\n",
    "    for _, row in existing_customers.iterrows():\n",
    "        point_1 = np.array(row.iloc[1:])\n",
    "        distance = np.linalg.norm(point_1 - point_2)\n",
    "        result.append([int(row[0]), distance])\n",
    "\n",
    "    distance_df = pd.DataFrame(result, columns = ['Customer', 'Distance with Prospect'])\n",
    "    return distance_df"
   ]
  },
  {
   "cell_type": "markdown",
   "id": "31416a56-4a4d-4d7a-b285-1f1b8cbefca7",
   "metadata": {},
   "source": [
    "#### Using two dummies - categorical predictor variable transformed into 2 binaries"
   ]
  },
  {
   "cell_type": "code",
   "execution_count": 34,
   "id": "f503e892-11fa-487d-a315-0f289334b04b",
   "metadata": {},
   "outputs": [
    {
     "data": {
      "text/html": [
       "<div>\n",
       "<style scoped>\n",
       "    .dataframe tbody tr th:only-of-type {\n",
       "        vertical-align: middle;\n",
       "    }\n",
       "\n",
       "    .dataframe tbody tr th {\n",
       "        vertical-align: top;\n",
       "    }\n",
       "\n",
       "    .dataframe thead th {\n",
       "        text-align: right;\n",
       "    }\n",
       "</style>\n",
       "<table border=\"1\" class=\"dataframe\">\n",
       "  <thead>\n",
       "    <tr style=\"text-align: right;\">\n",
       "      <th></th>\n",
       "      <th>customer</th>\n",
       "      <th>num_years</th>\n",
       "      <th>category_Other</th>\n",
       "      <th>category_Stat</th>\n",
       "    </tr>\n",
       "  </thead>\n",
       "  <tbody>\n",
       "    <tr>\n",
       "      <th>0</th>\n",
       "      <td>1</td>\n",
       "      <td>1.0</td>\n",
       "      <td>0</td>\n",
       "      <td>1</td>\n",
       "    </tr>\n",
       "    <tr>\n",
       "      <th>1</th>\n",
       "      <td>2</td>\n",
       "      <td>1.1</td>\n",
       "      <td>1</td>\n",
       "      <td>0</td>\n",
       "    </tr>\n",
       "    <tr>\n",
       "      <th>2</th>\n",
       "      <td>3</td>\n",
       "      <td>1.0</td>\n",
       "      <td>0</td>\n",
       "      <td>0</td>\n",
       "    </tr>\n",
       "  </tbody>\n",
       "</table>\n",
       "</div>"
      ],
      "text/plain": [
       "   customer  num_years  category_Other  category_Stat\n",
       "0         1        1.0               0              1\n",
       "1         2        1.1               1              0\n",
       "2         3        1.0               0              0"
      ]
     },
     "metadata": {},
     "output_type": "display_data"
    }
   ],
   "source": [
    "df_2binary = pd.get_dummies(df.iloc[:,:-1], drop_first=True)\n",
    "display(df_2binary)"
   ]
  },
  {
   "cell_type": "markdown",
   "id": "4e153e7b-6f60-4820-84b3-1780edab7b1a",
   "metadata": {},
   "source": [
    "##### Calculating the Euclidean distance between the prospect and each of the other two customers."
   ]
  },
  {
   "cell_type": "code",
   "execution_count": 35,
   "id": "ea6bcd2b-ba95-478e-8d69-95aa003d855e",
   "metadata": {},
   "outputs": [
    {
     "data": {
      "text/html": [
       "<div>\n",
       "<style scoped>\n",
       "    .dataframe tbody tr th:only-of-type {\n",
       "        vertical-align: middle;\n",
       "    }\n",
       "\n",
       "    .dataframe tbody tr th {\n",
       "        vertical-align: top;\n",
       "    }\n",
       "\n",
       "    .dataframe thead th {\n",
       "        text-align: right;\n",
       "    }\n",
       "</style>\n",
       "<table border=\"1\" class=\"dataframe\">\n",
       "  <thead>\n",
       "    <tr style=\"text-align: right;\">\n",
       "      <th></th>\n",
       "      <th>Customer</th>\n",
       "      <th>Distance with Prospect</th>\n",
       "    </tr>\n",
       "  </thead>\n",
       "  <tbody>\n",
       "    <tr>\n",
       "      <th>0</th>\n",
       "      <td>1</td>\n",
       "      <td>1.000000</td>\n",
       "    </tr>\n",
       "    <tr>\n",
       "      <th>1</th>\n",
       "      <td>2</td>\n",
       "      <td>1.004988</td>\n",
       "    </tr>\n",
       "  </tbody>\n",
       "</table>\n",
       "</div>"
      ],
      "text/plain": [
       "   Customer  Distance with Prospect\n",
       "0         1                1.000000\n",
       "1         2                1.004988"
      ]
     },
     "metadata": {},
     "output_type": "display_data"
    }
   ],
   "source": [
    "existing_customers = df_2binary.iloc[:2,]\n",
    "prospect_customer = df_2binary.iloc[2:,]\n",
    "\n",
    "display(Calculate_Distance(existing_customers, prospect_customer))"
   ]
  },
  {
   "cell_type": "markdown",
   "id": "b101af14-fae3-4d1e-b6a7-c96621d4e240",
   "metadata": {},
   "source": [
    "##### Using k-NN with k = 1 to classify the prospect as taking or not taking a course"
   ]
  },
  {
   "cell_type": "code",
   "execution_count": 36,
   "id": "b2cfe6d9-02b6-4d6b-a190-cb8cdbf8e111",
   "metadata": {},
   "outputs": [
    {
     "data": {
      "text/html": [
       "<div>\n",
       "<style scoped>\n",
       "    .dataframe tbody tr th:only-of-type {\n",
       "        vertical-align: middle;\n",
       "    }\n",
       "\n",
       "    .dataframe tbody tr th {\n",
       "        vertical-align: top;\n",
       "    }\n",
       "\n",
       "    .dataframe thead th {\n",
       "        text-align: right;\n",
       "    }\n",
       "</style>\n",
       "<table border=\"1\" class=\"dataframe\">\n",
       "  <thead>\n",
       "    <tr style=\"text-align: right;\">\n",
       "      <th></th>\n",
       "      <th>customer</th>\n",
       "      <th>category</th>\n",
       "      <th>num_years</th>\n",
       "      <th>Couse_Taken</th>\n",
       "    </tr>\n",
       "  </thead>\n",
       "  <tbody>\n",
       "    <tr>\n",
       "      <th>0</th>\n",
       "      <td>1</td>\n",
       "      <td>Stat</td>\n",
       "      <td>1.0</td>\n",
       "      <td>No</td>\n",
       "    </tr>\n",
       "  </tbody>\n",
       "</table>\n",
       "</div>"
      ],
      "text/plain": [
       "   customer category  num_years Couse_Taken\n",
       "0         1     Stat        1.0          No"
      ]
     },
     "execution_count": 36,
     "metadata": {},
     "output_type": "execute_result"
    }
   ],
   "source": [
    "# use NearestNeighbors from scikit-learn to compute knn\n",
    "knn = NearestNeighbors(n_neighbors=1)\n",
    "knn.fit(existing_customers.iloc[:, 1:])\n",
    "distances, indices = knn.kneighbors(prospect_customer.iloc[:,1:])\n",
    "\n",
    "# indices is a list of lists, we are only interested in the first element\n",
    "df.iloc[indices[0], :]"
   ]
  },
  {
   "cell_type": "markdown",
   "id": "09d791da-73c7-4834-b59f-b2649fdcb5b6",
   "metadata": {},
   "source": [
    "##### Result"
   ]
  },
  {
   "cell_type": "markdown",
   "id": "41f01fed-3686-4b61-b2d1-7d723c28ba33",
   "metadata": {},
   "source": [
    "From above table we see that the closest neighbor to the prospect is customer 1 who has not taken the course. Therefore, we conclude that prospect will not be taking the course."
   ]
  },
  {
   "cell_type": "markdown",
   "id": "0ad1f60f-8320-487b-825e-1048e58cae23",
   "metadata": {},
   "source": [
    "#### Using three dummies - categorical predictor variable transformed into 3 binaries"
   ]
  },
  {
   "cell_type": "code",
   "execution_count": 37,
   "id": "3e85e6b5-a28e-4d61-be2e-77f247121d95",
   "metadata": {},
   "outputs": [
    {
     "data": {
      "text/html": [
       "<div>\n",
       "<style scoped>\n",
       "    .dataframe tbody tr th:only-of-type {\n",
       "        vertical-align: middle;\n",
       "    }\n",
       "\n",
       "    .dataframe tbody tr th {\n",
       "        vertical-align: top;\n",
       "    }\n",
       "\n",
       "    .dataframe thead th {\n",
       "        text-align: right;\n",
       "    }\n",
       "</style>\n",
       "<table border=\"1\" class=\"dataframe\">\n",
       "  <thead>\n",
       "    <tr style=\"text-align: right;\">\n",
       "      <th></th>\n",
       "      <th>customer</th>\n",
       "      <th>num_years</th>\n",
       "      <th>category_IT</th>\n",
       "      <th>category_Other</th>\n",
       "      <th>category_Stat</th>\n",
       "    </tr>\n",
       "  </thead>\n",
       "  <tbody>\n",
       "    <tr>\n",
       "      <th>0</th>\n",
       "      <td>1</td>\n",
       "      <td>1.0</td>\n",
       "      <td>0</td>\n",
       "      <td>0</td>\n",
       "      <td>1</td>\n",
       "    </tr>\n",
       "    <tr>\n",
       "      <th>1</th>\n",
       "      <td>2</td>\n",
       "      <td>1.1</td>\n",
       "      <td>0</td>\n",
       "      <td>1</td>\n",
       "      <td>0</td>\n",
       "    </tr>\n",
       "    <tr>\n",
       "      <th>2</th>\n",
       "      <td>3</td>\n",
       "      <td>1.0</td>\n",
       "      <td>1</td>\n",
       "      <td>0</td>\n",
       "      <td>0</td>\n",
       "    </tr>\n",
       "  </tbody>\n",
       "</table>\n",
       "</div>"
      ],
      "text/plain": [
       "   customer  num_years  category_IT  category_Other  category_Stat\n",
       "0         1        1.0            0               0              1\n",
       "1         2        1.1            0               1              0\n",
       "2         3        1.0            1               0              0"
      ]
     },
     "metadata": {},
     "output_type": "display_data"
    }
   ],
   "source": [
    "df_3binary = pd.get_dummies(df.iloc[:,:-1])\n",
    "display(df_3binary)"
   ]
  },
  {
   "cell_type": "markdown",
   "id": "ff620683-32a2-4aa8-9126-64a748ecf215",
   "metadata": {},
   "source": [
    "##### Calculating the Euclidean distance between the prospect and each of the other two customers."
   ]
  },
  {
   "cell_type": "code",
   "execution_count": 38,
   "id": "7dda1c79-1a57-498c-8f20-072c306c5563",
   "metadata": {},
   "outputs": [
    {
     "data": {
      "text/html": [
       "<div>\n",
       "<style scoped>\n",
       "    .dataframe tbody tr th:only-of-type {\n",
       "        vertical-align: middle;\n",
       "    }\n",
       "\n",
       "    .dataframe tbody tr th {\n",
       "        vertical-align: top;\n",
       "    }\n",
       "\n",
       "    .dataframe thead th {\n",
       "        text-align: right;\n",
       "    }\n",
       "</style>\n",
       "<table border=\"1\" class=\"dataframe\">\n",
       "  <thead>\n",
       "    <tr style=\"text-align: right;\">\n",
       "      <th></th>\n",
       "      <th>Customer</th>\n",
       "      <th>Distance with Prospect</th>\n",
       "    </tr>\n",
       "  </thead>\n",
       "  <tbody>\n",
       "    <tr>\n",
       "      <th>0</th>\n",
       "      <td>1</td>\n",
       "      <td>1.414214</td>\n",
       "    </tr>\n",
       "    <tr>\n",
       "      <th>1</th>\n",
       "      <td>2</td>\n",
       "      <td>1.417745</td>\n",
       "    </tr>\n",
       "  </tbody>\n",
       "</table>\n",
       "</div>"
      ],
      "text/plain": [
       "   Customer  Distance with Prospect\n",
       "0         1                1.414214\n",
       "1         2                1.417745"
      ]
     },
     "metadata": {},
     "output_type": "display_data"
    }
   ],
   "source": [
    "existing_customers = df_3binary.iloc[:2,]\n",
    "prospect_customer = df_3binary.iloc[2:,]\n",
    "\n",
    "display(Calculate_Distance(existing_customers, prospect_customer))"
   ]
  },
  {
   "cell_type": "markdown",
   "id": "7c028b54-77f1-49ce-a1db-fb3c08640f61",
   "metadata": {},
   "source": [
    "##### Using k-NN with k = 1 to classify the prospect as taking or not taking a course."
   ]
  },
  {
   "cell_type": "code",
   "execution_count": 39,
   "id": "d166c50d-c3ef-45fb-ab07-407e1c4a6c42",
   "metadata": {},
   "outputs": [
    {
     "data": {
      "text/html": [
       "<div>\n",
       "<style scoped>\n",
       "    .dataframe tbody tr th:only-of-type {\n",
       "        vertical-align: middle;\n",
       "    }\n",
       "\n",
       "    .dataframe tbody tr th {\n",
       "        vertical-align: top;\n",
       "    }\n",
       "\n",
       "    .dataframe thead th {\n",
       "        text-align: right;\n",
       "    }\n",
       "</style>\n",
       "<table border=\"1\" class=\"dataframe\">\n",
       "  <thead>\n",
       "    <tr style=\"text-align: right;\">\n",
       "      <th></th>\n",
       "      <th>customer</th>\n",
       "      <th>category</th>\n",
       "      <th>num_years</th>\n",
       "      <th>Couse_Taken</th>\n",
       "    </tr>\n",
       "  </thead>\n",
       "  <tbody>\n",
       "    <tr>\n",
       "      <th>0</th>\n",
       "      <td>1</td>\n",
       "      <td>Stat</td>\n",
       "      <td>1.0</td>\n",
       "      <td>No</td>\n",
       "    </tr>\n",
       "  </tbody>\n",
       "</table>\n",
       "</div>"
      ],
      "text/plain": [
       "   customer category  num_years Couse_Taken\n",
       "0         1     Stat        1.0          No"
      ]
     },
     "execution_count": 39,
     "metadata": {},
     "output_type": "execute_result"
    }
   ],
   "source": [
    "# use NearestNeighbors from scikit-learn to compute knn\n",
    "knn = NearestNeighbors(n_neighbors=1)\n",
    "knn.fit(existing_customers.iloc[:, 1:])\n",
    "distances, indices = knn.kneighbors(prospect_customer.iloc[:,1:])\n",
    "\n",
    "# indices is a list of lists, we are only interested in the first element\n",
    "df.iloc[indices[0], :]"
   ]
  },
  {
   "cell_type": "markdown",
   "id": "cb510f5b-4dfd-40c5-b34b-a6fa2534cccd",
   "metadata": {},
   "source": [
    "##### Result"
   ]
  },
  {
   "cell_type": "markdown",
   "id": "69a61b00-e85a-4b4f-b08e-32d108ef69ec",
   "metadata": {},
   "source": [
    "From above table we see that the closest neighbor to the prospect is customer 1 who has not taken the course. Therefore, we conclude that prospect will not be taking the course."
   ]
  },
  {
   "cell_type": "markdown",
   "id": "99e6c748-ad31-4915-a8b2-9cc008de4586",
   "metadata": {},
   "source": [
    "#### Overall Result"
   ]
  },
  {
   "cell_type": "markdown",
   "id": "723a67a7-1e93-4cfa-9a05-3012e8c4940b",
   "metadata": {},
   "source": [
    "Therefore, we see that it doesn't make a difference whether we use two or three dummies. "
   ]
  }
 ],
 "metadata": {
  "kernelspec": {
   "display_name": "Python 3 (ipykernel)",
   "language": "python",
   "name": "python3"
  },
  "language_info": {
   "codemirror_mode": {
    "name": "ipython",
    "version": 3
   },
   "file_extension": ".py",
   "mimetype": "text/x-python",
   "name": "python",
   "nbconvert_exporter": "python",
   "pygments_lexer": "ipython3",
   "version": "3.10.9"
  }
 },
 "nbformat": 4,
 "nbformat_minor": 5
}
