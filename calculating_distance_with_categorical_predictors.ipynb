{
 "cells": [
  {
   "cell_type": "markdown",
   "id": "114103e3-8663-4778-8e27-f287ba6e80c3",
   "metadata": {},
   "source": [
    "### Calculating Distance with Categorical Predictors"
   ]
  },
  {
   "cell_type": "markdown",
   "id": "b5fb3f03-8367-45cf-90d4-95dcdb2e04bb",
   "metadata": {},
   "source": [
    "This program is a solution to the problem 7.1 of chapter 7 of following book. \n",
    "\n",
    "Data Mining for Business Analytics: Concepts, Techniques, and Applications in Python, First Edition.\n",
    "\n",
    "Galit Shmueli, Peter C. Bruce, Peter Gedeck, and Nitin R. Patel\n",
    "\n",
    "© 2020 John Wiley & Sons, Inc. Published 2020 by John Wiley & Sons, Inc."
   ]
  },
  {
   "cell_type": "markdown",
   "id": "11e2b314-2788-466a-bac1-e66434d1efaa",
   "metadata": {},
   "source": [
    "#### Importing Libraries"
   ]
  },
  {
   "cell_type": "code",
   "execution_count": 2,
   "id": "b91fd624-ec39-41b2-9d23-6d618566d724",
   "metadata": {},
   "outputs": [],
   "source": [
    "import pandas as pd\n",
    "import numpy as np\n",
    "import sklearn as skl\n",
    "from sklearn.neighbors import NearestNeighbors"
   ]
  },
  {
   "cell_type": "markdown",
   "id": "ff13b739-88cb-469c-9fc7-12c6d57a74e9",
   "metadata": {},
   "source": [
    "Printing versions of libraries"
   ]
  },
  {
   "cell_type": "code",
   "execution_count": 4,
   "id": "7846963c-5880-49a7-b5d6-fe1bb0d6b0e0",
   "metadata": {},
   "outputs": [
    {
     "name": "stdout",
     "output_type": "stream",
     "text": [
      "pandas version: 1.5.3\n",
      "numpy version: 1.23.5\n",
      "sklearn version: 1.2.1\n"
     ]
    }
   ],
   "source": [
    "print('pandas version: {}'.format(pd.__version__))\n",
    "print('numpy version: {}'.format(np.__version__))\n",
    "print('sklearn version: {}'.format(skl.__version__))"
   ]
  },
  {
   "cell_type": "code",
   "execution_count": 36,
   "id": "973f0553-f918-4313-9b4f-aa371d458a95",
   "metadata": {},
   "outputs": [
    {
     "data": {
      "text/html": [
       "<div>\n",
       "<style scoped>\n",
       "    .dataframe tbody tr th:only-of-type {\n",
       "        vertical-align: middle;\n",
       "    }\n",
       "\n",
       "    .dataframe tbody tr th {\n",
       "        vertical-align: top;\n",
       "    }\n",
       "\n",
       "    .dataframe thead th {\n",
       "        text-align: right;\n",
       "    }\n",
       "</style>\n",
       "<table border=\"1\" class=\"dataframe\">\n",
       "  <thead>\n",
       "    <tr style=\"text-align: right;\">\n",
       "      <th></th>\n",
       "      <th>customer</th>\n",
       "      <th>category</th>\n",
       "      <th>num_years</th>\n",
       "    </tr>\n",
       "  </thead>\n",
       "  <tbody>\n",
       "    <tr>\n",
       "      <th>0</th>\n",
       "      <td>1</td>\n",
       "      <td>Stat</td>\n",
       "      <td>1.0</td>\n",
       "    </tr>\n",
       "    <tr>\n",
       "      <th>1</th>\n",
       "      <td>2</td>\n",
       "      <td>Other</td>\n",
       "      <td>1.1</td>\n",
       "    </tr>\n",
       "    <tr>\n",
       "      <th>2</th>\n",
       "      <td>3</td>\n",
       "      <td>IT</td>\n",
       "      <td>1.0</td>\n",
       "    </tr>\n",
       "  </tbody>\n",
       "</table>\n",
       "</div>"
      ],
      "text/plain": [
       "   customer category  num_years\n",
       "0         1     Stat        1.0\n",
       "1         2    Other        1.1\n",
       "2         3       IT        1.0"
      ]
     },
     "metadata": {},
     "output_type": "display_data"
    }
   ],
   "source": [
    "df = pd.DataFrame({'category':['Stat', 'Other', 'IT'],\n",
    "                   'num_years':[1, 1.1, 1]})\n",
    "\n",
    "df['customer'] = df.index + 1\n",
    "column_to_move = df.pop('customer')\n",
    "df.insert(0, 'customer', column_to_move)\n",
    "\n",
    "display(df)"
   ]
  },
  {
   "cell_type": "markdown",
   "id": "8749a7c5-aa7a-426b-b8a4-e9aaa8a544a0",
   "metadata": {},
   "source": [
    "Declaring method to calculate distnace between existing customers and a new prospect customer"
   ]
  },
  {
   "cell_type": "code",
   "execution_count": 37,
   "id": "eb54e826-def3-4a15-b0d3-da42a0ec559e",
   "metadata": {},
   "outputs": [],
   "source": [
    "def Calculate_Distance(existing_customers, prospect_customer):\n",
    "    point_2 = prospect_customer.iloc[:,1:].to_numpy()[0]\n",
    "\n",
    "    result = []\n",
    "    for _, row in existing_customers.iterrows():\n",
    "        point_1 = np.array(row.iloc[1:])\n",
    "        distance = np.linalg.norm(point_1 - point_2)\n",
    "        result.append([int(row[0]), distance])\n",
    "\n",
    "    distance_df = pd.DataFrame(result, columns = ['Customer', 'Distance with Prospect'])\n",
    "    display(distance_df)"
   ]
  },
  {
   "cell_type": "markdown",
   "id": "31416a56-4a4d-4d7a-b285-1f1b8cbefca7",
   "metadata": {},
   "source": [
    "Using two dummies - categorical predictor variable transformed into 2 binaries"
   ]
  },
  {
   "cell_type": "code",
   "execution_count": 38,
   "id": "f503e892-11fa-487d-a315-0f289334b04b",
   "metadata": {},
   "outputs": [
    {
     "data": {
      "text/html": [
       "<div>\n",
       "<style scoped>\n",
       "    .dataframe tbody tr th:only-of-type {\n",
       "        vertical-align: middle;\n",
       "    }\n",
       "\n",
       "    .dataframe tbody tr th {\n",
       "        vertical-align: top;\n",
       "    }\n",
       "\n",
       "    .dataframe thead th {\n",
       "        text-align: right;\n",
       "    }\n",
       "</style>\n",
       "<table border=\"1\" class=\"dataframe\">\n",
       "  <thead>\n",
       "    <tr style=\"text-align: right;\">\n",
       "      <th></th>\n",
       "      <th>customer</th>\n",
       "      <th>num_years</th>\n",
       "      <th>category_Other</th>\n",
       "      <th>category_Stat</th>\n",
       "    </tr>\n",
       "  </thead>\n",
       "  <tbody>\n",
       "    <tr>\n",
       "      <th>0</th>\n",
       "      <td>1</td>\n",
       "      <td>1.0</td>\n",
       "      <td>0</td>\n",
       "      <td>1</td>\n",
       "    </tr>\n",
       "    <tr>\n",
       "      <th>1</th>\n",
       "      <td>2</td>\n",
       "      <td>1.1</td>\n",
       "      <td>1</td>\n",
       "      <td>0</td>\n",
       "    </tr>\n",
       "    <tr>\n",
       "      <th>2</th>\n",
       "      <td>3</td>\n",
       "      <td>1.0</td>\n",
       "      <td>0</td>\n",
       "      <td>0</td>\n",
       "    </tr>\n",
       "  </tbody>\n",
       "</table>\n",
       "</div>"
      ],
      "text/plain": [
       "   customer  num_years  category_Other  category_Stat\n",
       "0         1        1.0               0              1\n",
       "1         2        1.1               1              0\n",
       "2         3        1.0               0              0"
      ]
     },
     "metadata": {},
     "output_type": "display_data"
    },
    {
     "data": {
      "text/html": [
       "<div>\n",
       "<style scoped>\n",
       "    .dataframe tbody tr th:only-of-type {\n",
       "        vertical-align: middle;\n",
       "    }\n",
       "\n",
       "    .dataframe tbody tr th {\n",
       "        vertical-align: top;\n",
       "    }\n",
       "\n",
       "    .dataframe thead th {\n",
       "        text-align: right;\n",
       "    }\n",
       "</style>\n",
       "<table border=\"1\" class=\"dataframe\">\n",
       "  <thead>\n",
       "    <tr style=\"text-align: right;\">\n",
       "      <th></th>\n",
       "      <th>Customer</th>\n",
       "      <th>Distance with Prospect</th>\n",
       "    </tr>\n",
       "  </thead>\n",
       "  <tbody>\n",
       "    <tr>\n",
       "      <th>0</th>\n",
       "      <td>1</td>\n",
       "      <td>1.000000</td>\n",
       "    </tr>\n",
       "    <tr>\n",
       "      <th>1</th>\n",
       "      <td>2</td>\n",
       "      <td>1.004988</td>\n",
       "    </tr>\n",
       "  </tbody>\n",
       "</table>\n",
       "</div>"
      ],
      "text/plain": [
       "   Customer  Distance with Prospect\n",
       "0         1                1.000000\n",
       "1         2                1.004988"
      ]
     },
     "metadata": {},
     "output_type": "display_data"
    }
   ],
   "source": [
    "df_2binary = pd.get_dummies(df, drop_first=True)\n",
    "display(df_2binary)\n",
    "\n",
    "existing_customers = df_2binary.iloc[:2,]\n",
    "prospect_customer = df_2binary.iloc[2:,]\n",
    "\n",
    "Calculate_Distance(existing_customers, prospect_customer)"
   ]
  },
  {
   "cell_type": "code",
   "execution_count": 44,
   "id": "b2cfe6d9-02b6-4d6b-a190-cb8cdbf8e111",
   "metadata": {},
   "outputs": [
    {
     "data": {
      "text/html": [
       "<div>\n",
       "<style scoped>\n",
       "    .dataframe tbody tr th:only-of-type {\n",
       "        vertical-align: middle;\n",
       "    }\n",
       "\n",
       "    .dataframe tbody tr th {\n",
       "        vertical-align: top;\n",
       "    }\n",
       "\n",
       "    .dataframe thead th {\n",
       "        text-align: right;\n",
       "    }\n",
       "</style>\n",
       "<table border=\"1\" class=\"dataframe\">\n",
       "  <thead>\n",
       "    <tr style=\"text-align: right;\">\n",
       "      <th></th>\n",
       "      <th>customer</th>\n",
       "      <th>num_years</th>\n",
       "      <th>category_Other</th>\n",
       "      <th>category_Stat</th>\n",
       "    </tr>\n",
       "  </thead>\n",
       "  <tbody>\n",
       "    <tr>\n",
       "      <th>0</th>\n",
       "      <td>1</td>\n",
       "      <td>1.0</td>\n",
       "      <td>0</td>\n",
       "      <td>1</td>\n",
       "    </tr>\n",
       "  </tbody>\n",
       "</table>\n",
       "</div>"
      ],
      "text/plain": [
       "   customer  num_years  category_Other  category_Stat\n",
       "0         1        1.0               0              1"
      ]
     },
     "execution_count": 44,
     "metadata": {},
     "output_type": "execute_result"
    }
   ],
   "source": [
    "# use NearestNeighbors from scikit-learn to compute knn\n",
    "knn = NearestNeighbors(n_neighbors=1)\n",
    "knn.fit(existing_customers.iloc[:, 1:])\n",
    "distances, indices = knn.kneighbors(prospect_customer.iloc[:,1:])\n",
    "\n",
    "# indices is a list of lists, we are only interested in the first element\n",
    "existing_customers.iloc[indices[0], :]"
   ]
  },
  {
   "cell_type": "markdown",
   "id": "0ad1f60f-8320-487b-825e-1048e58cae23",
   "metadata": {},
   "source": [
    "Using three dummies - categorical predictor variable transformed into 3 binaries"
   ]
  },
  {
   "cell_type": "code",
   "execution_count": 45,
   "id": "3e85e6b5-a28e-4d61-be2e-77f247121d95",
   "metadata": {},
   "outputs": [
    {
     "data": {
      "text/html": [
       "<div>\n",
       "<style scoped>\n",
       "    .dataframe tbody tr th:only-of-type {\n",
       "        vertical-align: middle;\n",
       "    }\n",
       "\n",
       "    .dataframe tbody tr th {\n",
       "        vertical-align: top;\n",
       "    }\n",
       "\n",
       "    .dataframe thead th {\n",
       "        text-align: right;\n",
       "    }\n",
       "</style>\n",
       "<table border=\"1\" class=\"dataframe\">\n",
       "  <thead>\n",
       "    <tr style=\"text-align: right;\">\n",
       "      <th></th>\n",
       "      <th>customer</th>\n",
       "      <th>num_years</th>\n",
       "      <th>category_IT</th>\n",
       "      <th>category_Other</th>\n",
       "      <th>category_Stat</th>\n",
       "    </tr>\n",
       "  </thead>\n",
       "  <tbody>\n",
       "    <tr>\n",
       "      <th>0</th>\n",
       "      <td>1</td>\n",
       "      <td>1.0</td>\n",
       "      <td>0</td>\n",
       "      <td>0</td>\n",
       "      <td>1</td>\n",
       "    </tr>\n",
       "    <tr>\n",
       "      <th>1</th>\n",
       "      <td>2</td>\n",
       "      <td>1.1</td>\n",
       "      <td>0</td>\n",
       "      <td>1</td>\n",
       "      <td>0</td>\n",
       "    </tr>\n",
       "    <tr>\n",
       "      <th>2</th>\n",
       "      <td>3</td>\n",
       "      <td>1.0</td>\n",
       "      <td>1</td>\n",
       "      <td>0</td>\n",
       "      <td>0</td>\n",
       "    </tr>\n",
       "  </tbody>\n",
       "</table>\n",
       "</div>"
      ],
      "text/plain": [
       "   customer  num_years  category_IT  category_Other  category_Stat\n",
       "0         1        1.0            0               0              1\n",
       "1         2        1.1            0               1              0\n",
       "2         3        1.0            1               0              0"
      ]
     },
     "metadata": {},
     "output_type": "display_data"
    },
    {
     "data": {
      "text/html": [
       "<div>\n",
       "<style scoped>\n",
       "    .dataframe tbody tr th:only-of-type {\n",
       "        vertical-align: middle;\n",
       "    }\n",
       "\n",
       "    .dataframe tbody tr th {\n",
       "        vertical-align: top;\n",
       "    }\n",
       "\n",
       "    .dataframe thead th {\n",
       "        text-align: right;\n",
       "    }\n",
       "</style>\n",
       "<table border=\"1\" class=\"dataframe\">\n",
       "  <thead>\n",
       "    <tr style=\"text-align: right;\">\n",
       "      <th></th>\n",
       "      <th>Customer</th>\n",
       "      <th>Distance with Prospect</th>\n",
       "    </tr>\n",
       "  </thead>\n",
       "  <tbody>\n",
       "    <tr>\n",
       "      <th>0</th>\n",
       "      <td>1</td>\n",
       "      <td>1.414214</td>\n",
       "    </tr>\n",
       "    <tr>\n",
       "      <th>1</th>\n",
       "      <td>2</td>\n",
       "      <td>1.417745</td>\n",
       "    </tr>\n",
       "  </tbody>\n",
       "</table>\n",
       "</div>"
      ],
      "text/plain": [
       "   Customer  Distance with Prospect\n",
       "0         1                1.414214\n",
       "1         2                1.417745"
      ]
     },
     "metadata": {},
     "output_type": "display_data"
    }
   ],
   "source": [
    "df_3binary = pd.get_dummies(df)\n",
    "display(df_3binary)\n",
    "\n",
    "existing_customers = df_3binary.iloc[:2,]\n",
    "prospect_customer = df_3binary.iloc[2:,]\n",
    "\n",
    "Calculate_Distance(existing_customers, prospect_customer)"
   ]
  },
  {
   "cell_type": "code",
   "execution_count": 46,
   "id": "d166c50d-c3ef-45fb-ab07-407e1c4a6c42",
   "metadata": {},
   "outputs": [
    {
     "data": {
      "text/html": [
       "<div>\n",
       "<style scoped>\n",
       "    .dataframe tbody tr th:only-of-type {\n",
       "        vertical-align: middle;\n",
       "    }\n",
       "\n",
       "    .dataframe tbody tr th {\n",
       "        vertical-align: top;\n",
       "    }\n",
       "\n",
       "    .dataframe thead th {\n",
       "        text-align: right;\n",
       "    }\n",
       "</style>\n",
       "<table border=\"1\" class=\"dataframe\">\n",
       "  <thead>\n",
       "    <tr style=\"text-align: right;\">\n",
       "      <th></th>\n",
       "      <th>customer</th>\n",
       "      <th>num_years</th>\n",
       "      <th>category_IT</th>\n",
       "      <th>category_Other</th>\n",
       "      <th>category_Stat</th>\n",
       "    </tr>\n",
       "  </thead>\n",
       "  <tbody>\n",
       "    <tr>\n",
       "      <th>0</th>\n",
       "      <td>1</td>\n",
       "      <td>1.0</td>\n",
       "      <td>0</td>\n",
       "      <td>0</td>\n",
       "      <td>1</td>\n",
       "    </tr>\n",
       "  </tbody>\n",
       "</table>\n",
       "</div>"
      ],
      "text/plain": [
       "   customer  num_years  category_IT  category_Other  category_Stat\n",
       "0         1        1.0            0               0              1"
      ]
     },
     "execution_count": 46,
     "metadata": {},
     "output_type": "execute_result"
    }
   ],
   "source": [
    "# use NearestNeighbors from scikit-learn to compute knn\n",
    "knn = NearestNeighbors(n_neighbors=1)\n",
    "knn.fit(existing_customers.iloc[:, 1:])\n",
    "distances, indices = knn.kneighbors(prospect_customer.iloc[:,1:])\n",
    "\n",
    "# indices is a list of lists, we are only interested in the first element\n",
    "existing_customers.iloc[indices[0], :]"
   ]
  }
 ],
 "metadata": {
  "kernelspec": {
   "display_name": "Python 3 (ipykernel)",
   "language": "python",
   "name": "python3"
  },
  "language_info": {
   "codemirror_mode": {
    "name": "ipython",
    "version": 3
   },
   "file_extension": ".py",
   "mimetype": "text/x-python",
   "name": "python",
   "nbconvert_exporter": "python",
   "pygments_lexer": "ipython3",
   "version": "3.10.9"
  }
 },
 "nbformat": 4,
 "nbformat_minor": 5
}
