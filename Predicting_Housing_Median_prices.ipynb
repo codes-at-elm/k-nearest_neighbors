{
 "cells": [
  {
   "cell_type": "markdown",
   "id": "102d9dcb-b842-4cee-bec9-f4cb26c5178b",
   "metadata": {},
   "source": [
    "# K-NN Classifier - Predicting Housing Median Prices"
   ]
  },
  {
   "cell_type": "markdown",
   "id": "d43b7f4c-d652-468f-bedb-e190b8c5e1b1",
   "metadata": {},
   "source": [
    "This program is a solution to the problem 7.3 of chapter 7 of following book. \n",
    "\n",
    "Data Mining for Business Analytics: Concepts, Techniques, and Applications in Python, First Edition.\n",
    "\n",
    "Galit Shmueli, Peter C. Bruce, Peter Gedeck, and Nitin R. Patel\n",
    "\n",
    "© 2020 John Wiley & Sons, Inc. Published 2020 by John Wiley & Sons, Inc."
   ]
  },
  {
   "cell_type": "markdown",
   "id": "663c7efe-09fd-46d9-969e-10f00095f25d",
   "metadata": {},
   "source": [
    "## Importing Libraries"
   ]
  },
  {
   "cell_type": "code",
   "execution_count": 112,
   "id": "942761b4-0608-4bd8-88ba-a307c4a7bc5d",
   "metadata": {},
   "outputs": [],
   "source": [
    "import numpy as np\n",
    "import pandas as pd\n",
    "\n",
    "import sklearn as skl\n",
    "from sklearn.model_selection import train_test_split\n",
    "from sklearn import preprocessing\n",
    "from sklearn.neighbors import KNeighborsRegressor\n",
    "from sklearn.metrics import mean_squared_error"
   ]
  },
  {
   "cell_type": "markdown",
   "id": "3ddced59-8f76-4310-b794-1d2ce11e5c20",
   "metadata": {},
   "source": [
    "Printing versions of libraries"
   ]
  },
  {
   "cell_type": "code",
   "execution_count": 113,
   "id": "21ba79b1-f2b0-4b45-a88d-05d5f5f22fd5",
   "metadata": {},
   "outputs": [
    {
     "name": "stdout",
     "output_type": "stream",
     "text": [
      "numpy version: 1.23.5\n",
      "pandas version: 1.5.3\n",
      "sklearn version: 1.2.1\n"
     ]
    }
   ],
   "source": [
    "print('numpy version: {}'.format(np.__version__))\n",
    "print('pandas version: {}'.format(pd.__version__))\n",
    "print('sklearn version: {}'.format(skl.__version__))"
   ]
  },
  {
   "cell_type": "markdown",
   "id": "4873ebf6-b510-4364-8fbd-a00a12de4597",
   "metadata": {},
   "source": [
    "## Loading Dataset"
   ]
  },
  {
   "cell_type": "code",
   "execution_count": 114,
   "id": "090949d0-e5e2-4762-98cf-94310f34c4c6",
   "metadata": {},
   "outputs": [
    {
     "name": "stdout",
     "output_type": "stream",
     "text": [
      "Shape:  (506, 14)\n"
     ]
    },
    {
     "data": {
      "text/html": [
       "<div>\n",
       "<style scoped>\n",
       "    .dataframe tbody tr th:only-of-type {\n",
       "        vertical-align: middle;\n",
       "    }\n",
       "\n",
       "    .dataframe tbody tr th {\n",
       "        vertical-align: top;\n",
       "    }\n",
       "\n",
       "    .dataframe thead th {\n",
       "        text-align: right;\n",
       "    }\n",
       "</style>\n",
       "<table border=\"1\" class=\"dataframe\">\n",
       "  <thead>\n",
       "    <tr style=\"text-align: right;\">\n",
       "      <th></th>\n",
       "      <th>CRIM</th>\n",
       "      <th>ZN</th>\n",
       "      <th>INDUS</th>\n",
       "      <th>CHAS</th>\n",
       "      <th>NOX</th>\n",
       "      <th>RM</th>\n",
       "      <th>AGE</th>\n",
       "      <th>DIS</th>\n",
       "      <th>RAD</th>\n",
       "      <th>TAX</th>\n",
       "      <th>PTRATIO</th>\n",
       "      <th>LSTAT</th>\n",
       "      <th>MEDV</th>\n",
       "      <th>CAT. MEDV</th>\n",
       "    </tr>\n",
       "  </thead>\n",
       "  <tbody>\n",
       "    <tr>\n",
       "      <th>0</th>\n",
       "      <td>0.00632</td>\n",
       "      <td>18.0</td>\n",
       "      <td>2.31</td>\n",
       "      <td>0</td>\n",
       "      <td>0.538</td>\n",
       "      <td>6.575</td>\n",
       "      <td>65.2</td>\n",
       "      <td>4.0900</td>\n",
       "      <td>1</td>\n",
       "      <td>296</td>\n",
       "      <td>15.3</td>\n",
       "      <td>4.98</td>\n",
       "      <td>24.0</td>\n",
       "      <td>0</td>\n",
       "    </tr>\n",
       "    <tr>\n",
       "      <th>1</th>\n",
       "      <td>0.02731</td>\n",
       "      <td>0.0</td>\n",
       "      <td>7.07</td>\n",
       "      <td>0</td>\n",
       "      <td>0.469</td>\n",
       "      <td>6.421</td>\n",
       "      <td>78.9</td>\n",
       "      <td>4.9671</td>\n",
       "      <td>2</td>\n",
       "      <td>242</td>\n",
       "      <td>17.8</td>\n",
       "      <td>9.14</td>\n",
       "      <td>21.6</td>\n",
       "      <td>0</td>\n",
       "    </tr>\n",
       "    <tr>\n",
       "      <th>2</th>\n",
       "      <td>0.02729</td>\n",
       "      <td>0.0</td>\n",
       "      <td>7.07</td>\n",
       "      <td>0</td>\n",
       "      <td>0.469</td>\n",
       "      <td>7.185</td>\n",
       "      <td>61.1</td>\n",
       "      <td>4.9671</td>\n",
       "      <td>2</td>\n",
       "      <td>242</td>\n",
       "      <td>17.8</td>\n",
       "      <td>4.03</td>\n",
       "      <td>34.7</td>\n",
       "      <td>1</td>\n",
       "    </tr>\n",
       "    <tr>\n",
       "      <th>3</th>\n",
       "      <td>0.03237</td>\n",
       "      <td>0.0</td>\n",
       "      <td>2.18</td>\n",
       "      <td>0</td>\n",
       "      <td>0.458</td>\n",
       "      <td>6.998</td>\n",
       "      <td>45.8</td>\n",
       "      <td>6.0622</td>\n",
       "      <td>3</td>\n",
       "      <td>222</td>\n",
       "      <td>18.7</td>\n",
       "      <td>2.94</td>\n",
       "      <td>33.4</td>\n",
       "      <td>1</td>\n",
       "    </tr>\n",
       "    <tr>\n",
       "      <th>4</th>\n",
       "      <td>0.06905</td>\n",
       "      <td>0.0</td>\n",
       "      <td>2.18</td>\n",
       "      <td>0</td>\n",
       "      <td>0.458</td>\n",
       "      <td>7.147</td>\n",
       "      <td>54.2</td>\n",
       "      <td>6.0622</td>\n",
       "      <td>3</td>\n",
       "      <td>222</td>\n",
       "      <td>18.7</td>\n",
       "      <td>5.33</td>\n",
       "      <td>36.2</td>\n",
       "      <td>1</td>\n",
       "    </tr>\n",
       "  </tbody>\n",
       "</table>\n",
       "</div>"
      ],
      "text/plain": [
       "      CRIM    ZN  INDUS  CHAS    NOX     RM   AGE     DIS  RAD  TAX  PTRATIO  \\\n",
       "0  0.00632  18.0   2.31     0  0.538  6.575  65.2  4.0900    1  296     15.3   \n",
       "1  0.02731   0.0   7.07     0  0.469  6.421  78.9  4.9671    2  242     17.8   \n",
       "2  0.02729   0.0   7.07     0  0.469  7.185  61.1  4.9671    2  242     17.8   \n",
       "3  0.03237   0.0   2.18     0  0.458  6.998  45.8  6.0622    3  222     18.7   \n",
       "4  0.06905   0.0   2.18     0  0.458  7.147  54.2  6.0622    3  222     18.7   \n",
       "\n",
       "   LSTAT  MEDV  CAT. MEDV  \n",
       "0   4.98  24.0          0  \n",
       "1   9.14  21.6          0  \n",
       "2   4.03  34.7          1  \n",
       "3   2.94  33.4          1  \n",
       "4   5.33  36.2          1  "
      ]
     },
     "execution_count": 114,
     "metadata": {},
     "output_type": "execute_result"
    }
   ],
   "source": [
    "df = pd.read_csv('BostonHousing.csv')\n",
    "print('Shape: ', df.shape)\n",
    "df.head()"
   ]
  },
  {
   "cell_type": "markdown",
   "id": "2a33bdc1-7fcd-4b48-a90f-a038a5d2fefe",
   "metadata": {},
   "source": [
    "Dropping 'CAT.MEDV' column because it is not required for our classification tasks."
   ]
  },
  {
   "cell_type": "code",
   "execution_count": 115,
   "id": "d5255d23-6249-4d79-a914-8d9d11e23548",
   "metadata": {},
   "outputs": [
    {
     "data": {
      "text/html": [
       "<div>\n",
       "<style scoped>\n",
       "    .dataframe tbody tr th:only-of-type {\n",
       "        vertical-align: middle;\n",
       "    }\n",
       "\n",
       "    .dataframe tbody tr th {\n",
       "        vertical-align: top;\n",
       "    }\n",
       "\n",
       "    .dataframe thead th {\n",
       "        text-align: right;\n",
       "    }\n",
       "</style>\n",
       "<table border=\"1\" class=\"dataframe\">\n",
       "  <thead>\n",
       "    <tr style=\"text-align: right;\">\n",
       "      <th></th>\n",
       "      <th>CRIM</th>\n",
       "      <th>ZN</th>\n",
       "      <th>INDUS</th>\n",
       "      <th>CHAS</th>\n",
       "      <th>NOX</th>\n",
       "      <th>RM</th>\n",
       "      <th>AGE</th>\n",
       "      <th>DIS</th>\n",
       "      <th>RAD</th>\n",
       "      <th>TAX</th>\n",
       "      <th>PTRATIO</th>\n",
       "      <th>LSTAT</th>\n",
       "      <th>MEDV</th>\n",
       "    </tr>\n",
       "  </thead>\n",
       "  <tbody>\n",
       "    <tr>\n",
       "      <th>0</th>\n",
       "      <td>0.00632</td>\n",
       "      <td>18.0</td>\n",
       "      <td>2.31</td>\n",
       "      <td>0</td>\n",
       "      <td>0.538</td>\n",
       "      <td>6.575</td>\n",
       "      <td>65.2</td>\n",
       "      <td>4.0900</td>\n",
       "      <td>1</td>\n",
       "      <td>296</td>\n",
       "      <td>15.3</td>\n",
       "      <td>4.98</td>\n",
       "      <td>24.0</td>\n",
       "    </tr>\n",
       "    <tr>\n",
       "      <th>1</th>\n",
       "      <td>0.02731</td>\n",
       "      <td>0.0</td>\n",
       "      <td>7.07</td>\n",
       "      <td>0</td>\n",
       "      <td>0.469</td>\n",
       "      <td>6.421</td>\n",
       "      <td>78.9</td>\n",
       "      <td>4.9671</td>\n",
       "      <td>2</td>\n",
       "      <td>242</td>\n",
       "      <td>17.8</td>\n",
       "      <td>9.14</td>\n",
       "      <td>21.6</td>\n",
       "    </tr>\n",
       "    <tr>\n",
       "      <th>2</th>\n",
       "      <td>0.02729</td>\n",
       "      <td>0.0</td>\n",
       "      <td>7.07</td>\n",
       "      <td>0</td>\n",
       "      <td>0.469</td>\n",
       "      <td>7.185</td>\n",
       "      <td>61.1</td>\n",
       "      <td>4.9671</td>\n",
       "      <td>2</td>\n",
       "      <td>242</td>\n",
       "      <td>17.8</td>\n",
       "      <td>4.03</td>\n",
       "      <td>34.7</td>\n",
       "    </tr>\n",
       "    <tr>\n",
       "      <th>3</th>\n",
       "      <td>0.03237</td>\n",
       "      <td>0.0</td>\n",
       "      <td>2.18</td>\n",
       "      <td>0</td>\n",
       "      <td>0.458</td>\n",
       "      <td>6.998</td>\n",
       "      <td>45.8</td>\n",
       "      <td>6.0622</td>\n",
       "      <td>3</td>\n",
       "      <td>222</td>\n",
       "      <td>18.7</td>\n",
       "      <td>2.94</td>\n",
       "      <td>33.4</td>\n",
       "    </tr>\n",
       "    <tr>\n",
       "      <th>4</th>\n",
       "      <td>0.06905</td>\n",
       "      <td>0.0</td>\n",
       "      <td>2.18</td>\n",
       "      <td>0</td>\n",
       "      <td>0.458</td>\n",
       "      <td>7.147</td>\n",
       "      <td>54.2</td>\n",
       "      <td>6.0622</td>\n",
       "      <td>3</td>\n",
       "      <td>222</td>\n",
       "      <td>18.7</td>\n",
       "      <td>5.33</td>\n",
       "      <td>36.2</td>\n",
       "    </tr>\n",
       "  </tbody>\n",
       "</table>\n",
       "</div>"
      ],
      "text/plain": [
       "      CRIM    ZN  INDUS  CHAS    NOX     RM   AGE     DIS  RAD  TAX  PTRATIO  \\\n",
       "0  0.00632  18.0   2.31     0  0.538  6.575  65.2  4.0900    1  296     15.3   \n",
       "1  0.02731   0.0   7.07     0  0.469  6.421  78.9  4.9671    2  242     17.8   \n",
       "2  0.02729   0.0   7.07     0  0.469  7.185  61.1  4.9671    2  242     17.8   \n",
       "3  0.03237   0.0   2.18     0  0.458  6.998  45.8  6.0622    3  222     18.7   \n",
       "4  0.06905   0.0   2.18     0  0.458  7.147  54.2  6.0622    3  222     18.7   \n",
       "\n",
       "   LSTAT  MEDV  \n",
       "0   4.98  24.0  \n",
       "1   9.14  21.6  \n",
       "2   4.03  34.7  \n",
       "3   2.94  33.4  \n",
       "4   5.33  36.2  "
      ]
     },
     "execution_count": 115,
     "metadata": {},
     "output_type": "execute_result"
    }
   ],
   "source": [
    "df = df.drop(['CAT. MEDV'], axis=1)\n",
    "df.head()"
   ]
  },
  {
   "cell_type": "markdown",
   "id": "20de9e26-39c2-4586-a6c5-b008be9cf304",
   "metadata": {},
   "source": [
    "Partitioning the data into training (60%) and validation (40%) sets."
   ]
  },
  {
   "cell_type": "code",
   "execution_count": 116,
   "id": "158468ab-0bfa-4f50-985d-350235a6e1da",
   "metadata": {},
   "outputs": [],
   "source": [
    "trainData, validData = train_test_split(df, test_size=0.4, random_state=26)"
   ]
  },
  {
   "cell_type": "markdown",
   "id": "478479a3-7bf1-4114-af10-bbd5e6c293ed",
   "metadata": {},
   "source": [
    "## Normalizing Dataset"
   ]
  },
  {
   "cell_type": "code",
   "execution_count": 117,
   "id": "ff121ffc-aafc-4940-a343-d68e92e2b0b6",
   "metadata": {},
   "outputs": [
    {
     "data": {
      "text/html": [
       "<div>\n",
       "<style scoped>\n",
       "    .dataframe tbody tr th:only-of-type {\n",
       "        vertical-align: middle;\n",
       "    }\n",
       "\n",
       "    .dataframe tbody tr th {\n",
       "        vertical-align: top;\n",
       "    }\n",
       "\n",
       "    .dataframe thead th {\n",
       "        text-align: right;\n",
       "    }\n",
       "</style>\n",
       "<table border=\"1\" class=\"dataframe\">\n",
       "  <thead>\n",
       "    <tr style=\"text-align: right;\">\n",
       "      <th></th>\n",
       "      <th>CRIM</th>\n",
       "      <th>ZN</th>\n",
       "      <th>INDUS</th>\n",
       "      <th>CHAS</th>\n",
       "      <th>NOX</th>\n",
       "      <th>RM</th>\n",
       "      <th>AGE</th>\n",
       "      <th>DIS</th>\n",
       "      <th>RAD</th>\n",
       "      <th>TAX</th>\n",
       "      <th>PTRATIO</th>\n",
       "      <th>LSTAT</th>\n",
       "      <th>MEDV</th>\n",
       "    </tr>\n",
       "  </thead>\n",
       "  <tbody>\n",
       "    <tr>\n",
       "      <th>0</th>\n",
       "      <td>-0.449562</td>\n",
       "      <td>0.409767</td>\n",
       "      <td>-1.324554</td>\n",
       "      <td>-0.251312</td>\n",
       "      <td>-0.157308</td>\n",
       "      <td>0.383503</td>\n",
       "      <td>-0.187168</td>\n",
       "      <td>0.201756</td>\n",
       "      <td>-0.979759</td>\n",
       "      <td>-0.667473</td>\n",
       "      <td>-1.533571</td>\n",
       "      <td>-1.063564</td>\n",
       "      <td>24.0</td>\n",
       "    </tr>\n",
       "    <tr>\n",
       "      <th>1</th>\n",
       "      <td>-0.446734</td>\n",
       "      <td>-0.428676</td>\n",
       "      <td>-0.617972</td>\n",
       "      <td>-0.251312</td>\n",
       "      <td>-0.793718</td>\n",
       "      <td>0.168181</td>\n",
       "      <td>0.319255</td>\n",
       "      <td>0.636470</td>\n",
       "      <td>-0.863705</td>\n",
       "      <td>-0.993859</td>\n",
       "      <td>-0.334603</td>\n",
       "      <td>-0.493105</td>\n",
       "      <td>21.6</td>\n",
       "    </tr>\n",
       "    <tr>\n",
       "      <th>2</th>\n",
       "      <td>-0.446737</td>\n",
       "      <td>-0.428676</td>\n",
       "      <td>-0.617972</td>\n",
       "      <td>-0.251312</td>\n",
       "      <td>-0.793718</td>\n",
       "      <td>1.236404</td>\n",
       "      <td>-0.338726</td>\n",
       "      <td>0.636470</td>\n",
       "      <td>-0.863705</td>\n",
       "      <td>-0.993859</td>\n",
       "      <td>-0.334603</td>\n",
       "      <td>-1.193837</td>\n",
       "      <td>34.7</td>\n",
       "    </tr>\n",
       "    <tr>\n",
       "      <th>3</th>\n",
       "      <td>-0.446052</td>\n",
       "      <td>-0.428676</td>\n",
       "      <td>-1.343851</td>\n",
       "      <td>-0.251312</td>\n",
       "      <td>-0.895175</td>\n",
       "      <td>0.974941</td>\n",
       "      <td>-0.904293</td>\n",
       "      <td>1.179230</td>\n",
       "      <td>-0.747651</td>\n",
       "      <td>-1.114743</td>\n",
       "      <td>0.097025</td>\n",
       "      <td>-1.343308</td>\n",
       "      <td>33.4</td>\n",
       "    </tr>\n",
       "    <tr>\n",
       "      <th>4</th>\n",
       "      <td>-0.441111</td>\n",
       "      <td>-0.428676</td>\n",
       "      <td>-1.343851</td>\n",
       "      <td>-0.251312</td>\n",
       "      <td>-0.895175</td>\n",
       "      <td>1.183273</td>\n",
       "      <td>-0.593785</td>\n",
       "      <td>1.179230</td>\n",
       "      <td>-0.747651</td>\n",
       "      <td>-1.114743</td>\n",
       "      <td>0.097025</td>\n",
       "      <td>-1.015568</td>\n",
       "      <td>36.2</td>\n",
       "    </tr>\n",
       "  </tbody>\n",
       "</table>\n",
       "</div>"
      ],
      "text/plain": [
       "       CRIM        ZN     INDUS      CHAS       NOX        RM       AGE  \\\n",
       "0 -0.449562  0.409767 -1.324554 -0.251312 -0.157308  0.383503 -0.187168   \n",
       "1 -0.446734 -0.428676 -0.617972 -0.251312 -0.793718  0.168181  0.319255   \n",
       "2 -0.446737 -0.428676 -0.617972 -0.251312 -0.793718  1.236404 -0.338726   \n",
       "3 -0.446052 -0.428676 -1.343851 -0.251312 -0.895175  0.974941 -0.904293   \n",
       "4 -0.441111 -0.428676 -1.343851 -0.251312 -0.895175  1.183273 -0.593785   \n",
       "\n",
       "        DIS       RAD       TAX   PTRATIO     LSTAT  MEDV  \n",
       "0  0.201756 -0.979759 -0.667473 -1.533571 -1.063564  24.0  \n",
       "1  0.636470 -0.863705 -0.993859 -0.334603 -0.493105  21.6  \n",
       "2  0.636470 -0.863705 -0.993859 -0.334603 -1.193837  34.7  \n",
       "3  1.179230 -0.747651 -1.114743  0.097025 -1.343308  33.4  \n",
       "4  1.179230 -0.747651 -1.114743  0.097025 -1.015568  36.2  "
      ]
     },
     "metadata": {},
     "output_type": "display_data"
    }
   ],
   "source": [
    "# initialize normalized training, validation, and complete data frames\n",
    "# use the training data to learn the transformation.\n",
    "scaler = preprocessing.StandardScaler()\n",
    "scaler.fit(trainData.iloc[:, :-1]) \n",
    "\n",
    "# Transform the full dataaset \n",
    "dfNorm = pd.concat([pd.DataFrame(\n",
    "    scaler.transform(df.iloc[:, :-1]), \n",
    "    columns= df.columns.tolist()[:-1]),\n",
    "                       df[['MEDV']]], axis=1)\n",
    "\n",
    "display(dfNorm.head())\n",
    "\n",
    "trainNorm = dfNorm.iloc[trainData.index]\n",
    "validNorm = dfNorm.iloc[validData.index]"
   ]
  },
  {
   "cell_type": "markdown",
   "id": "2835d802-c950-4bc1-8c2b-c45c2f111525",
   "metadata": {},
   "source": [
    "## Finding best value of k"
   ]
  },
  {
   "cell_type": "code",
   "execution_count": 118,
   "id": "095088ca-3c32-4b9c-a33e-58f1b06045fc",
   "metadata": {},
   "outputs": [
    {
     "name": "stdout",
     "output_type": "stream",
     "text": [
      "   k      RMSE\n",
      "0  1  5.273145\n",
      "1  2  4.668889\n",
      "2  3  4.748908\n",
      "3  4  5.017560\n",
      "4  5  5.110195\n"
     ]
    }
   ],
   "source": [
    "train_X = trainNorm.drop('MEDV', axis=1)\n",
    "train_y = trainNorm['MEDV']\n",
    "valid_X = validNorm.drop('MEDV', axis=1)\n",
    "valid_y = validNorm['MEDV']\n",
    "\n",
    "# Train a classifier for different values of k\n",
    "results = []\n",
    "for k in range(1, 6):\n",
    "    knn = KNeighborsRegressor(n_neighbors=k).fit(train_X, train_y)\n",
    "    results.append({\n",
    "        'k': k,\n",
    "        'RMSE': mean_squared_error(valid_y, knn.predict(valid_X), squared=False)\n",
    "    })\n",
    "    \n",
    "# Convert results to a pandas data frame\n",
    "results = pd.DataFrame(results)\n",
    "print(results)"
   ]
  },
  {
   "cell_type": "markdown",
   "id": "9fad7ad7-f439-4e8d-bb3e-d5d7ab405d36",
   "metadata": {},
   "source": [
    "## Result"
   ]
  },
  {
   "cell_type": "markdown",
   "id": "3b30ef0b-13e5-4d4a-b57f-0ebccff55f1b",
   "metadata": {},
   "source": [
    "From above table we see that root-mean-squared error (RMSE) is lowest when k = 2. Therefore, the best value of k is 2."
   ]
  },
  {
   "cell_type": "markdown",
   "id": "9a63c03c-b065-44fb-8394-ceaebf034aa9",
   "metadata": {},
   "source": [
    "## Predicting MEDV for a new tract"
   ]
  },
  {
   "cell_type": "markdown",
   "id": "c008e171-bd5f-4c10-8922-9f9bcfaf63d5",
   "metadata": {},
   "source": [
    "Creating dataset for new tract"
   ]
  },
  {
   "cell_type": "code",
   "execution_count": 119,
   "id": "f4d90fa2-9da4-4e34-8ea5-603f50ecee0c",
   "metadata": {},
   "outputs": [
    {
     "data": {
      "text/html": [
       "<div>\n",
       "<style scoped>\n",
       "    .dataframe tbody tr th:only-of-type {\n",
       "        vertical-align: middle;\n",
       "    }\n",
       "\n",
       "    .dataframe tbody tr th {\n",
       "        vertical-align: top;\n",
       "    }\n",
       "\n",
       "    .dataframe thead th {\n",
       "        text-align: right;\n",
       "    }\n",
       "</style>\n",
       "<table border=\"1\" class=\"dataframe\">\n",
       "  <thead>\n",
       "    <tr style=\"text-align: right;\">\n",
       "      <th></th>\n",
       "      <th>CRIM</th>\n",
       "      <th>ZN</th>\n",
       "      <th>INDUS</th>\n",
       "      <th>CHAS</th>\n",
       "      <th>NOX</th>\n",
       "      <th>RM</th>\n",
       "      <th>AGE</th>\n",
       "      <th>DIS</th>\n",
       "      <th>RAD</th>\n",
       "      <th>TAX</th>\n",
       "      <th>PTRATIO</th>\n",
       "      <th>LSTAT</th>\n",
       "    </tr>\n",
       "  </thead>\n",
       "  <tbody>\n",
       "    <tr>\n",
       "      <th>0</th>\n",
       "      <td>0.2</td>\n",
       "      <td>0</td>\n",
       "      <td>7</td>\n",
       "      <td>0</td>\n",
       "      <td>0.538</td>\n",
       "      <td>6</td>\n",
       "      <td>62</td>\n",
       "      <td>4.7</td>\n",
       "      <td>4</td>\n",
       "      <td>307</td>\n",
       "      <td>21</td>\n",
       "      <td>10</td>\n",
       "    </tr>\n",
       "  </tbody>\n",
       "</table>\n",
       "</div>"
      ],
      "text/plain": [
       "   CRIM  ZN  INDUS  CHAS    NOX  RM  AGE  DIS  RAD  TAX  PTRATIO  LSTAT\n",
       "0   0.2   0      7     0  0.538   6   62  4.7    4  307       21     10"
      ]
     },
     "metadata": {},
     "output_type": "display_data"
    }
   ],
   "source": [
    "newTract = pd.DataFrame([{'CRIM': 0.2, \n",
    "                          'ZN': 0, \n",
    "                          'INDUS': 7, \n",
    "                          'CHAS': 0, \n",
    "                          'NOX': 0.538, \n",
    "                          'RM': 6, \n",
    "                          'AGE': 62, \n",
    "                          'DIS': 4.7, \n",
    "                          'RAD': 4, \n",
    "                          'TAX': 307, \n",
    "                          'PTRATIO': 21, \n",
    "                          'LSTAT': 10}])\n",
    "display(newTract)"
   ]
  },
  {
   "cell_type": "markdown",
   "id": "1b6fde9b-5492-4124-8d3b-b8990845426e",
   "metadata": {},
   "source": [
    "Normalizing prospect"
   ]
  },
  {
   "cell_type": "code",
   "execution_count": 120,
   "id": "b21ec2c5-b509-4fb2-a8cf-2bd1946b9472",
   "metadata": {},
   "outputs": [
    {
     "data": {
      "text/html": [
       "<div>\n",
       "<style scoped>\n",
       "    .dataframe tbody tr th:only-of-type {\n",
       "        vertical-align: middle;\n",
       "    }\n",
       "\n",
       "    .dataframe tbody tr th {\n",
       "        vertical-align: top;\n",
       "    }\n",
       "\n",
       "    .dataframe thead th {\n",
       "        text-align: right;\n",
       "    }\n",
       "</style>\n",
       "<table border=\"1\" class=\"dataframe\">\n",
       "  <thead>\n",
       "    <tr style=\"text-align: right;\">\n",
       "      <th></th>\n",
       "      <th>CRIM</th>\n",
       "      <th>ZN</th>\n",
       "      <th>INDUS</th>\n",
       "      <th>CHAS</th>\n",
       "      <th>NOX</th>\n",
       "      <th>RM</th>\n",
       "      <th>AGE</th>\n",
       "      <th>DIS</th>\n",
       "      <th>RAD</th>\n",
       "      <th>TAX</th>\n",
       "      <th>PTRATIO</th>\n",
       "      <th>LSTAT</th>\n",
       "    </tr>\n",
       "  </thead>\n",
       "  <tbody>\n",
       "    <tr>\n",
       "      <th>0</th>\n",
       "      <td>-0.423468</td>\n",
       "      <td>-0.428676</td>\n",
       "      <td>-0.628363</td>\n",
       "      <td>-0.251312</td>\n",
       "      <td>-0.157308</td>\n",
       "      <td>-0.420461</td>\n",
       "      <td>-0.305457</td>\n",
       "      <td>0.504088</td>\n",
       "      <td>-0.631596</td>\n",
       "      <td>-0.600987</td>\n",
       "      <td>1.200076</td>\n",
       "      <td>-0.375174</td>\n",
       "    </tr>\n",
       "  </tbody>\n",
       "</table>\n",
       "</div>"
      ],
      "text/plain": [
       "       CRIM        ZN     INDUS      CHAS       NOX        RM       AGE  \\\n",
       "0 -0.423468 -0.428676 -0.628363 -0.251312 -0.157308 -0.420461 -0.305457   \n",
       "\n",
       "        DIS       RAD       TAX   PTRATIO     LSTAT  \n",
       "0  0.504088 -0.631596 -0.600987  1.200076 -0.375174  "
      ]
     },
     "metadata": {},
     "output_type": "display_data"
    }
   ],
   "source": [
    "newTractNorm = pd.DataFrame(scaler.transform(newTract), columns=newTract.columns)\n",
    "display(newTractNorm)"
   ]
  },
  {
   "cell_type": "markdown",
   "id": "2a4fb753-eef5-4a1a-b564-82f8cd4a3a31",
   "metadata": {},
   "source": [
    "Predicting the MEDV for the new tract using the best k = 2"
   ]
  },
  {
   "cell_type": "code",
   "execution_count": 121,
   "id": "231158a9-2028-4349-bb47-013624d6932f",
   "metadata": {},
   "outputs": [
    {
     "name": "stdout",
     "output_type": "stream",
     "text": [
      "MEDV:  20.15\n"
     ]
    }
   ],
   "source": [
    "knn = KNeighborsRegressor(n_neighbors=2).fit(train_X, train_y)\n",
    "print('MEDV: ',knn.predict(newTractNorm)[0])"
   ]
  },
  {
   "cell_type": "markdown",
   "id": "9ecc3ae3-5854-4dee-975e-00a45bb57267",
   "metadata": {},
   "source": [
    "Scoring training data to find out the error of the training set"
   ]
  },
  {
   "cell_type": "code",
   "execution_count": 122,
   "id": "220bd54d-a552-4216-98bc-233a0f2431e1",
   "metadata": {},
   "outputs": [
    {
     "name": "stdout",
     "output_type": "stream",
     "text": [
      "RMSE 2.401001922328073\n"
     ]
    }
   ],
   "source": [
    "print('RMSE', mean_squared_error(train_y, knn.predict(train_X), squared=False))"
   ]
  },
  {
   "cell_type": "markdown",
   "id": "4f53a4d8-e64e-4501-b011-960ff3008af2",
   "metadata": {},
   "source": [
    "Computing validation data error"
   ]
  },
  {
   "cell_type": "code",
   "execution_count": 123,
   "id": "6c8fb7f8-6ca6-4db1-9c2b-df7560a66cdd",
   "metadata": {},
   "outputs": [
    {
     "name": "stdout",
     "output_type": "stream",
     "text": [
      "RMSE 4.668888750815089\n"
     ]
    }
   ],
   "source": [
    "print('RMSE', mean_squared_error(valid_y, knn.predict(valid_X), squared=False))"
   ]
  },
  {
   "cell_type": "markdown",
   "id": "ba6d683a-f322-4939-af76-35aaa8ee7459",
   "metadata": {},
   "source": [
    "## Result"
   ]
  },
  {
   "cell_type": "markdown",
   "id": "e8bd5fe1-9f88-40dc-8cbd-552d3d09d29a",
   "metadata": {},
   "source": [
    "Why is the validation data error overly optimistic compared to the error rate when applying this k-NN predictor to new data?"
   ]
  },
  {
   "cell_type": "markdown",
   "id": "6a659d91-075e-4199-b81a-e18e1b1fc4cb",
   "metadata": {},
   "source": [
    "The validation data is not independent from the training data. Therefore, the validation data error is biased by the similarity between the training and validation sets. The more similar they are, the lower the validation error will be. Therefore, the validation data error is overly optimistic compared to the error rate when applying this k-NN predictor to new data."
   ]
  },
  {
   "cell_type": "markdown",
   "id": "41768629-fffb-4787-b19c-4d6bcf440441",
   "metadata": {},
   "source": [
    "The disadvantage of using k-NN prediction with a purpose to predict MEDV for several thousands of new tracts is that the prediction can't be applied to make real-time predictions. This is because k-NN is a 'lazy-learner', which means time-consuming computation is deferred to the time of prediction. For every record to be predicted, its distance from the entire set of training records is only computed at the time of prediction, which may not be feasible in real-time because of limited computational resources and the need for real-time prediciton. "
   ]
  }
 ],
 "metadata": {
  "kernelspec": {
   "display_name": "Python 3 (ipykernel)",
   "language": "python",
   "name": "python3"
  },
  "language_info": {
   "codemirror_mode": {
    "name": "ipython",
    "version": 3
   },
   "file_extension": ".py",
   "mimetype": "text/x-python",
   "name": "python",
   "nbconvert_exporter": "python",
   "pygments_lexer": "ipython3",
   "version": "3.10.9"
  }
 },
 "nbformat": 4,
 "nbformat_minor": 5
}
